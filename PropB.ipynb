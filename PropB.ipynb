{
 "cells": [
  {
   "cell_type": "code",
   "execution_count": 1,
   "metadata": {
    "ExecuteTime": {
     "end_time": "2021-06-04T19:24:38.456145Z",
     "start_time": "2021-06-04T19:24:38.116280Z"
    }
   },
   "outputs": [],
   "source": [
    "import pandas as pd"
   ]
  },
  {
   "cell_type": "code",
   "execution_count": 2,
   "metadata": {
    "ExecuteTime": {
     "end_time": "2021-06-04T19:24:38.654212Z",
     "start_time": "2021-06-04T19:24:38.457350Z"
    }
   },
   "outputs": [],
   "source": [
    "df = pd.read_csv('ATX_campaign_finance.csv')"
   ]
  },
  {
   "cell_type": "code",
   "execution_count": 3,
   "metadata": {
    "ExecuteTime": {
     "end_time": "2021-06-04T19:24:38.680645Z",
     "start_time": "2021-06-04T19:24:38.658127Z"
    }
   },
   "outputs": [
    {
     "data": {
      "text/html": [
       "<div>\n",
       "<style scoped>\n",
       "    .dataframe tbody tr th:only-of-type {\n",
       "        vertical-align: middle;\n",
       "    }\n",
       "\n",
       "    .dataframe tbody tr th {\n",
       "        vertical-align: top;\n",
       "    }\n",
       "\n",
       "    .dataframe thead th {\n",
       "        text-align: right;\n",
       "    }\n",
       "</style>\n",
       "<table border=\"1\" class=\"dataframe\">\n",
       "  <thead>\n",
       "    <tr style=\"text-align: right;\">\n",
       "      <th></th>\n",
       "      <th>Donor</th>\n",
       "      <th>Recipient</th>\n",
       "      <th>Contribution_Amount</th>\n",
       "      <th>Contribution_Date</th>\n",
       "      <th>Donor_Type</th>\n",
       "      <th>Donor_Address</th>\n",
       "      <th>City_State_Zip</th>\n",
       "      <th>Contribution_Year</th>\n",
       "      <th>Donor_Reported_Occupation</th>\n",
       "      <th>Donor_Reported_Employer</th>\n",
       "      <th>Contribution_Type</th>\n",
       "      <th>Date_Reported</th>\n",
       "      <th>Report_Filed</th>\n",
       "      <th>In_Kind_Description</th>\n",
       "      <th>Out_of_State_PAC</th>\n",
       "      <th>Correction</th>\n",
       "      <th>View_Report</th>\n",
       "      <th>TRANSACTION_ID</th>\n",
       "    </tr>\n",
       "  </thead>\n",
       "  <tbody>\n",
       "    <tr>\n",
       "      <th>0</th>\n",
       "      <td>Schneider, Robin</td>\n",
       "      <td>Pool, Leslie</td>\n",
       "      <td>100.0</td>\n",
       "      <td>02/09/2020</td>\n",
       "      <td>INDIVIDUAL</td>\n",
       "      <td>2609 Sherwood Ln</td>\n",
       "      <td>Austin, TX, 78704</td>\n",
       "      <td>2020</td>\n",
       "      <td>Executive Director</td>\n",
       "      <td>Texas Campaign for the Environment</td>\n",
       "      <td>Monetary Political Contribution</td>\n",
       "      <td>07/10/2020</td>\n",
       "      <td>COH: Candidate /Officeholder Campaign Finance ...</td>\n",
       "      <td>NaN</td>\n",
       "      <td>NaN</td>\n",
       "      <td>NaN</td>\n",
       "      <td>View Report (http://www.austintexas.gov/edims/...</td>\n",
       "      <td>R20200101100710645-A00014</td>\n",
       "    </tr>\n",
       "    <tr>\n",
       "      <th>1</th>\n",
       "      <td>King, David</td>\n",
       "      <td>Fuentes, Vanessa</td>\n",
       "      <td>200.0</td>\n",
       "      <td>06/30/2020</td>\n",
       "      <td>INDIVIDUAL</td>\n",
       "      <td>1808 Kerr Street</td>\n",
       "      <td>Austin, TX, 78704</td>\n",
       "      <td>2020</td>\n",
       "      <td>Not Employed</td>\n",
       "      <td>Not Employed</td>\n",
       "      <td>Monetary Political Contribution</td>\n",
       "      <td>07/15/2020</td>\n",
       "      <td>COH: Candidate /Officeholder Campaign Finance ...</td>\n",
       "      <td>NaN</td>\n",
       "      <td>NaN</td>\n",
       "      <td>NaN</td>\n",
       "      <td>View Report (http://www.austintexas.gov/edims/...</td>\n",
       "      <td>R20200101100710646-A00007</td>\n",
       "    </tr>\n",
       "    <tr>\n",
       "      <th>2</th>\n",
       "      <td>Parsons, Brad</td>\n",
       "      <td>Pool, Leslie</td>\n",
       "      <td>50.0</td>\n",
       "      <td>05/16/2020</td>\n",
       "      <td>INDIVIDUAL</td>\n",
       "      <td>3706 Greystone Dr</td>\n",
       "      <td>Austin, TX, 78731</td>\n",
       "      <td>2020</td>\n",
       "      <td>retired</td>\n",
       "      <td>retired</td>\n",
       "      <td>Monetary Political Contribution</td>\n",
       "      <td>07/10/2020</td>\n",
       "      <td>COH: Candidate /Officeholder Campaign Finance ...</td>\n",
       "      <td>NaN</td>\n",
       "      <td>NaN</td>\n",
       "      <td>NaN</td>\n",
       "      <td>View Report (http://www.austintexas.gov/edims/...</td>\n",
       "      <td>R20200101100710645-A00015</td>\n",
       "    </tr>\n",
       "    <tr>\n",
       "      <th>3</th>\n",
       "      <td>Epstein, Robert</td>\n",
       "      <td>Pool, Leslie</td>\n",
       "      <td>400.0</td>\n",
       "      <td>06/22/2020</td>\n",
       "      <td>INDIVIDUAL</td>\n",
       "      <td>5000 Plaza on the Lake</td>\n",
       "      <td>Austin, TX, 78746</td>\n",
       "      <td>2020</td>\n",
       "      <td>Executive</td>\n",
       "      <td>Prophet Capital</td>\n",
       "      <td>Monetary Political Contribution</td>\n",
       "      <td>07/10/2020</td>\n",
       "      <td>COH: Candidate /Officeholder Campaign Finance ...</td>\n",
       "      <td>NaN</td>\n",
       "      <td>NaN</td>\n",
       "      <td>NaN</td>\n",
       "      <td>View Report (http://www.austintexas.gov/edims/...</td>\n",
       "      <td>R20200101100710645-A00016</td>\n",
       "    </tr>\n",
       "    <tr>\n",
       "      <th>4</th>\n",
       "      <td>Wood, Taylor</td>\n",
       "      <td>Pool, Leslie</td>\n",
       "      <td>25.0</td>\n",
       "      <td>06/30/2020</td>\n",
       "      <td>INDIVIDUAL</td>\n",
       "      <td>301 Brazos St</td>\n",
       "      <td>Austin, TX, 78701</td>\n",
       "      <td>2020</td>\n",
       "      <td>attorney</td>\n",
       "      <td>Husch Blackwell LLP</td>\n",
       "      <td>Monetary Political Contribution</td>\n",
       "      <td>07/10/2020</td>\n",
       "      <td>COH: Candidate /Officeholder Campaign Finance ...</td>\n",
       "      <td>NaN</td>\n",
       "      <td>NaN</td>\n",
       "      <td>NaN</td>\n",
       "      <td>View Report (http://www.austintexas.gov/edims/...</td>\n",
       "      <td>R20200101100710645-A00017</td>\n",
       "    </tr>\n",
       "  </tbody>\n",
       "</table>\n",
       "</div>"
      ],
      "text/plain": [
       "              Donor         Recipient  Contribution_Amount Contribution_Date  \\\n",
       "0  Schneider, Robin      Pool, Leslie                100.0        02/09/2020   \n",
       "1       King, David  Fuentes, Vanessa                200.0        06/30/2020   \n",
       "2     Parsons, Brad      Pool, Leslie                 50.0        05/16/2020   \n",
       "3   Epstein, Robert      Pool, Leslie                400.0        06/22/2020   \n",
       "4      Wood, Taylor      Pool, Leslie                 25.0        06/30/2020   \n",
       "\n",
       "   Donor_Type           Donor_Address     City_State_Zip  Contribution_Year  \\\n",
       "0  INDIVIDUAL        2609 Sherwood Ln  Austin, TX, 78704               2020   \n",
       "1  INDIVIDUAL        1808 Kerr Street  Austin, TX, 78704               2020   \n",
       "2  INDIVIDUAL       3706 Greystone Dr  Austin, TX, 78731               2020   \n",
       "3  INDIVIDUAL  5000 Plaza on the Lake  Austin, TX, 78746               2020   \n",
       "4  INDIVIDUAL           301 Brazos St  Austin, TX, 78701               2020   \n",
       "\n",
       "  Donor_Reported_Occupation             Donor_Reported_Employer  \\\n",
       "0        Executive Director  Texas Campaign for the Environment   \n",
       "1              Not Employed                        Not Employed   \n",
       "2                   retired                             retired   \n",
       "3                 Executive                     Prophet Capital   \n",
       "4                  attorney                 Husch Blackwell LLP   \n",
       "\n",
       "                 Contribution_Type Date_Reported  \\\n",
       "0  Monetary Political Contribution    07/10/2020   \n",
       "1  Monetary Political Contribution    07/15/2020   \n",
       "2  Monetary Political Contribution    07/10/2020   \n",
       "3  Monetary Political Contribution    07/10/2020   \n",
       "4  Monetary Political Contribution    07/10/2020   \n",
       "\n",
       "                                        Report_Filed In_Kind_Description  \\\n",
       "0  COH: Candidate /Officeholder Campaign Finance ...                 NaN   \n",
       "1  COH: Candidate /Officeholder Campaign Finance ...                 NaN   \n",
       "2  COH: Candidate /Officeholder Campaign Finance ...                 NaN   \n",
       "3  COH: Candidate /Officeholder Campaign Finance ...                 NaN   \n",
       "4  COH: Candidate /Officeholder Campaign Finance ...                 NaN   \n",
       "\n",
       "  Out_of_State_PAC Correction  \\\n",
       "0              NaN        NaN   \n",
       "1              NaN        NaN   \n",
       "2              NaN        NaN   \n",
       "3              NaN        NaN   \n",
       "4              NaN        NaN   \n",
       "\n",
       "                                         View_Report  \\\n",
       "0  View Report (http://www.austintexas.gov/edims/...   \n",
       "1  View Report (http://www.austintexas.gov/edims/...   \n",
       "2  View Report (http://www.austintexas.gov/edims/...   \n",
       "3  View Report (http://www.austintexas.gov/edims/...   \n",
       "4  View Report (http://www.austintexas.gov/edims/...   \n",
       "\n",
       "              TRANSACTION_ID  \n",
       "0  R20200101100710645-A00014  \n",
       "1  R20200101100710646-A00007  \n",
       "2  R20200101100710645-A00015  \n",
       "3  R20200101100710645-A00016  \n",
       "4  R20200101100710645-A00017  "
      ]
     },
     "execution_count": 3,
     "metadata": {},
     "output_type": "execute_result"
    }
   ],
   "source": [
    "df.head()"
   ]
  },
  {
   "cell_type": "code",
   "execution_count": 4,
   "metadata": {
    "ExecuteTime": {
     "end_time": "2021-06-04T19:24:38.685654Z",
     "start_time": "2021-06-04T19:24:38.682557Z"
    }
   },
   "outputs": [
    {
     "data": {
      "text/plain": [
       "(51525, 18)"
      ]
     },
     "execution_count": 4,
     "metadata": {},
     "output_type": "execute_result"
    }
   ],
   "source": [
    "df.shape"
   ]
  },
  {
   "cell_type": "code",
   "execution_count": 5,
   "metadata": {
    "ExecuteTime": {
     "end_time": "2021-06-04T19:24:38.699223Z",
     "start_time": "2021-06-04T19:24:38.687868Z"
    }
   },
   "outputs": [
    {
     "data": {
      "text/plain": [
       "Austin Fire Fighters PAC       9067\n",
       "Flannigan, James T. \"Jimmy\"    3931\n",
       "Alter, Alison B.               3717\n",
       "Adler, Stephen                 3663\n",
       "Virden, Jennifer M             2684\n",
       "Casar, Gregorio E. \"Greg\"      1921\n",
       "Fight for Austin               1634\n",
       "Save Austin Now PAC            1445\n",
       "Homes Not Handcuffs            1247\n",
       "Gallo, Sheri P.                1180\n",
       "Morrison, Laura                1061\n",
       "Kelly, Mackenzie                948\n",
       "Sethi, Pooja                    933\n",
       "Pool, Leslie                    872\n",
       "Renteria, Sabino \"Pio\"          860\n",
       "Chincanchan, David              837\n",
       "Skidmore, Danielle M.           734\n",
       "Thomas, Robert D                732\n",
       "Carollo Engineers Inc. PAC      670\n",
       "Fuentes, Vanessa                626\n",
       "Name: Recipient, dtype: int64"
      ]
     },
     "execution_count": 5,
     "metadata": {},
     "output_type": "execute_result"
    }
   ],
   "source": [
    "df['Recipient'].value_counts(dropna=False).nlargest(20)"
   ]
  },
  {
   "cell_type": "code",
   "execution_count": 6,
   "metadata": {
    "ExecuteTime": {
     "end_time": "2021-06-04T19:24:38.702010Z",
     "start_time": "2021-06-04T19:24:38.700124Z"
    }
   },
   "outputs": [],
   "source": [
    "# Vote Yes Prop B: Camping Ban\n",
    "# Vote No Prop B: No camping ban\n",
    "# Adler = no\n",
    "# Fire Fighters\n",
    "# James Flannigan\n",
    "# Alison Alter\n",
    "# Jennifer VIrden\n",
    "# Gregorio Casar\n",
    "# Fight for Austin\n",
    "# Save Austin Now\n",
    "# HOmes Not handcuffs\n",
    "# Gallo Sheri\n",
    "# Laura Morrison\n",
    "# Mackenzie Kelly\n",
    "# Pooja Sethi"
   ]
  },
  {
   "cell_type": "code",
   "execution_count": 7,
   "metadata": {
    "ExecuteTime": {
     "end_time": "2021-06-04T19:24:38.708653Z",
     "start_time": "2021-06-04T19:24:38.705065Z"
    }
   },
   "outputs": [
    {
     "data": {
      "text/plain": [
       "Index(['Donor', 'Recipient', 'Contribution_Amount', 'Contribution_Date',\n",
       "       'Donor_Type', 'Donor_Address', 'City_State_Zip', 'Contribution_Year',\n",
       "       'Donor_Reported_Occupation', 'Donor_Reported_Employer',\n",
       "       'Contribution_Type', 'Date_Reported', 'Report_Filed',\n",
       "       'In_Kind_Description', 'Out_of_State_PAC', 'Correction', 'View_Report',\n",
       "       'TRANSACTION_ID'],\n",
       "      dtype='object')"
      ]
     },
     "execution_count": 7,
     "metadata": {},
     "output_type": "execute_result"
    }
   ],
   "source": [
    "df.columns"
   ]
  },
  {
   "cell_type": "code",
   "execution_count": 8,
   "metadata": {
    "ExecuteTime": {
     "end_time": "2021-06-04T19:24:38.740183Z",
     "start_time": "2021-06-04T19:24:38.710324Z"
    }
   },
   "outputs": [
    {
     "data": {
      "text/html": [
       "<div>\n",
       "<style scoped>\n",
       "    .dataframe tbody tr th:only-of-type {\n",
       "        vertical-align: middle;\n",
       "    }\n",
       "\n",
       "    .dataframe tbody tr th {\n",
       "        vertical-align: top;\n",
       "    }\n",
       "\n",
       "    .dataframe thead th {\n",
       "        text-align: right;\n",
       "    }\n",
       "</style>\n",
       "<table border=\"1\" class=\"dataframe\">\n",
       "  <thead>\n",
       "    <tr style=\"text-align: right;\">\n",
       "      <th></th>\n",
       "      <th>Donor</th>\n",
       "      <th>Recipient</th>\n",
       "      <th>Contribution_Amount</th>\n",
       "      <th>Contribution_Date</th>\n",
       "      <th>Donor_Type</th>\n",
       "      <th>Donor_Address</th>\n",
       "      <th>City_State_Zip</th>\n",
       "      <th>Contribution_Year</th>\n",
       "      <th>Donor_Reported_Occupation</th>\n",
       "      <th>Donor_Reported_Employer</th>\n",
       "      <th>Contribution_Type</th>\n",
       "      <th>Date_Reported</th>\n",
       "      <th>Report_Filed</th>\n",
       "      <th>In_Kind_Description</th>\n",
       "      <th>Out_of_State_PAC</th>\n",
       "      <th>Correction</th>\n",
       "      <th>View_Report</th>\n",
       "      <th>TRANSACTION_ID</th>\n",
       "    </tr>\n",
       "  </thead>\n",
       "  <tbody>\n",
       "    <tr>\n",
       "      <th>57</th>\n",
       "      <td>Woody, Susanna</td>\n",
       "      <td>Fuentes, Vanessa</td>\n",
       "      <td>75.0</td>\n",
       "      <td>06/19/2020</td>\n",
       "      <td>INDIVIDUAL</td>\n",
       "      <td>7433 Montezuma Street</td>\n",
       "      <td>Austin, TX, 78744</td>\n",
       "      <td>2020</td>\n",
       "      <td>PM</td>\n",
       "      <td>AMD</td>\n",
       "      <td>Monetary Political Contribution</td>\n",
       "      <td>07/15/2020</td>\n",
       "      <td>COH: Candidate /Officeholder Campaign Finance ...</td>\n",
       "      <td>NaN</td>\n",
       "      <td>NaN</td>\n",
       "      <td>NaN</td>\n",
       "      <td>View Report (http://www.austintexas.gov/edims/...</td>\n",
       "      <td>R20200101100710646-A00079</td>\n",
       "    </tr>\n",
       "    <tr>\n",
       "      <th>83</th>\n",
       "      <td>Fuentes, Guadalupe</td>\n",
       "      <td>Fuentes, Vanessa</td>\n",
       "      <td>200.0</td>\n",
       "      <td>05/11/2020</td>\n",
       "      <td>INDIVIDUAL</td>\n",
       "      <td>1707 South Walnut Street</td>\n",
       "      <td>Brady, TX, 76825</td>\n",
       "      <td>2020</td>\n",
       "      <td>Store Associate</td>\n",
       "      <td>Walmart</td>\n",
       "      <td>Monetary Political Contribution</td>\n",
       "      <td>07/15/2020</td>\n",
       "      <td>COH: Candidate /Officeholder Campaign Finance ...</td>\n",
       "      <td>NaN</td>\n",
       "      <td>NaN</td>\n",
       "      <td>NaN</td>\n",
       "      <td>View Report (http://www.austintexas.gov/edims/...</td>\n",
       "      <td>R20200101100710646-A00083</td>\n",
       "    </tr>\n",
       "    <tr>\n",
       "      <th>108</th>\n",
       "      <td>Williamson, Sarah</td>\n",
       "      <td>Fuentes, Vanessa</td>\n",
       "      <td>100.0</td>\n",
       "      <td>02/20/2020</td>\n",
       "      <td>INDIVIDUAL</td>\n",
       "      <td>3845 Ranch Road 2222, Apt 8</td>\n",
       "      <td>Austin, TX, 78731</td>\n",
       "      <td>2020</td>\n",
       "      <td>Project Manager</td>\n",
       "      <td>Netsync</td>\n",
       "      <td>Monetary Political Contribution</td>\n",
       "      <td>07/15/2020</td>\n",
       "      <td>COH: Candidate /Officeholder Campaign Finance ...</td>\n",
       "      <td>NaN</td>\n",
       "      <td>NaN</td>\n",
       "      <td>NaN</td>\n",
       "      <td>View Report (http://www.austintexas.gov/edims/...</td>\n",
       "      <td>R20200101100710646-A00025</td>\n",
       "    </tr>\n",
       "    <tr>\n",
       "      <th>137</th>\n",
       "      <td>Amaha Gollnick, Naomi</td>\n",
       "      <td>Fuentes, Vanessa</td>\n",
       "      <td>100.0</td>\n",
       "      <td>06/26/2020</td>\n",
       "      <td>INDIVIDUAL</td>\n",
       "      <td>494 Thunder Road</td>\n",
       "      <td>Evergreen, CO, 80439</td>\n",
       "      <td>2020</td>\n",
       "      <td>Health Strategies</td>\n",
       "      <td>AHA</td>\n",
       "      <td>Monetary Political Contribution</td>\n",
       "      <td>07/15/2020</td>\n",
       "      <td>COH: Candidate /Officeholder Campaign Finance ...</td>\n",
       "      <td>NaN</td>\n",
       "      <td>NaN</td>\n",
       "      <td>NaN</td>\n",
       "      <td>View Report (http://www.austintexas.gov/edims/...</td>\n",
       "      <td>R20200101100710646-A00184</td>\n",
       "    </tr>\n",
       "    <tr>\n",
       "      <th>147</th>\n",
       "      <td>Guerra, Luis</td>\n",
       "      <td>Pool, Leslie</td>\n",
       "      <td>150.0</td>\n",
       "      <td>06/02/2020</td>\n",
       "      <td>INDIVIDUAL</td>\n",
       "      <td>1808 Kerr Ave</td>\n",
       "      <td>Austin, TX, 78704</td>\n",
       "      <td>2020</td>\n",
       "      <td>retired</td>\n",
       "      <td>retired</td>\n",
       "      <td>Monetary Political Contribution</td>\n",
       "      <td>07/10/2020</td>\n",
       "      <td>COH: Candidate /Officeholder Campaign Finance ...</td>\n",
       "      <td>NaN</td>\n",
       "      <td>NaN</td>\n",
       "      <td>NaN</td>\n",
       "      <td>View Report (http://www.austintexas.gov/edims/...</td>\n",
       "      <td>R20200101100710645-A00033</td>\n",
       "    </tr>\n",
       "    <tr>\n",
       "      <th>...</th>\n",
       "      <td>...</td>\n",
       "      <td>...</td>\n",
       "      <td>...</td>\n",
       "      <td>...</td>\n",
       "      <td>...</td>\n",
       "      <td>...</td>\n",
       "      <td>...</td>\n",
       "      <td>...</td>\n",
       "      <td>...</td>\n",
       "      <td>...</td>\n",
       "      <td>...</td>\n",
       "      <td>...</td>\n",
       "      <td>...</td>\n",
       "      <td>...</td>\n",
       "      <td>...</td>\n",
       "      <td>...</td>\n",
       "      <td>...</td>\n",
       "      <td>...</td>\n",
       "    </tr>\n",
       "    <tr>\n",
       "      <th>51517</th>\n",
       "      <td>Savoie, Seneca</td>\n",
       "      <td>Homes Not Handcuffs</td>\n",
       "      <td>611.0</td>\n",
       "      <td>04/27/2021</td>\n",
       "      <td>INDIVIDUAL</td>\n",
       "      <td>9620 covey ridge lane</td>\n",
       "      <td>Austin, TX, 78758</td>\n",
       "      <td>2021</td>\n",
       "      <td>Field Organizer</td>\n",
       "      <td>Texas Appleseed</td>\n",
       "      <td>Contribution</td>\n",
       "      <td>04/30/2021</td>\n",
       "      <td>PACATX7: Pre-Election Report Political Committ...</td>\n",
       "      <td>NaN</td>\n",
       "      <td>NaN</td>\n",
       "      <td>NaN</td>\n",
       "      <td>View Report (http://www.austintexas.gov/edims/...</td>\n",
       "      <td>R20210427100711586-A00003</td>\n",
       "    </tr>\n",
       "    <tr>\n",
       "      <th>51521</th>\n",
       "      <td>DiBrienza, Jennifer</td>\n",
       "      <td>Homes Not Handcuffs</td>\n",
       "      <td>500.0</td>\n",
       "      <td>04/27/2021</td>\n",
       "      <td>INDIVIDUAL</td>\n",
       "      <td>186 Park Avenue</td>\n",
       "      <td>Palo Alto, CA, 94306</td>\n",
       "      <td>2021</td>\n",
       "      <td>educator</td>\n",
       "      <td>self</td>\n",
       "      <td>Contribution</td>\n",
       "      <td>05/03/2021</td>\n",
       "      <td>ATX1: Report of Direct Campaign Expenditures: ...</td>\n",
       "      <td>NaN</td>\n",
       "      <td>NaN</td>\n",
       "      <td>NaN</td>\n",
       "      <td>View Report (http://www.austintexas.gov/edims/...</td>\n",
       "      <td>R20210427100711597-A00001</td>\n",
       "    </tr>\n",
       "    <tr>\n",
       "      <th>51522</th>\n",
       "      <td>Savoie, Seneca</td>\n",
       "      <td>Homes Not Handcuffs</td>\n",
       "      <td>611.0</td>\n",
       "      <td>04/27/2021</td>\n",
       "      <td>INDIVIDUAL</td>\n",
       "      <td>9620 Covey Ridge</td>\n",
       "      <td>Austin, TX, 78758</td>\n",
       "      <td>2021</td>\n",
       "      <td>Field Organizer</td>\n",
       "      <td>Texas Appleseed</td>\n",
       "      <td>Contribution</td>\n",
       "      <td>05/03/2021</td>\n",
       "      <td>ATX1: Report of Direct Campaign Expenditures: ...</td>\n",
       "      <td>NaN</td>\n",
       "      <td>NaN</td>\n",
       "      <td>NaN</td>\n",
       "      <td>View Report (http://www.austintexas.gov/edims/...</td>\n",
       "      <td>R20210427100711597-A00002</td>\n",
       "    </tr>\n",
       "    <tr>\n",
       "      <th>51523</th>\n",
       "      <td>Matula, Cindy</td>\n",
       "      <td>Restore Leadership ATX</td>\n",
       "      <td>100.0</td>\n",
       "      <td>04/29/2021</td>\n",
       "      <td>INDIVIDUAL</td>\n",
       "      <td>4917 Westview Dr.</td>\n",
       "      <td>Austin, TX, 78731</td>\n",
       "      <td>2021</td>\n",
       "      <td>retired</td>\n",
       "      <td>retired</td>\n",
       "      <td>Contribution</td>\n",
       "      <td>04/30/2021</td>\n",
       "      <td>PACATX7: Pre-Election Report Political Committ...</td>\n",
       "      <td>NaN</td>\n",
       "      <td>NaN</td>\n",
       "      <td>NaN</td>\n",
       "      <td>View Report (http://www.austintexas.gov/edims/...</td>\n",
       "      <td>R20210429100711594-A00001</td>\n",
       "    </tr>\n",
       "    <tr>\n",
       "      <th>51524</th>\n",
       "      <td>Coulter, Rachel</td>\n",
       "      <td>The Real Estate Council of Austin, Inc. Advanc...</td>\n",
       "      <td>500.0</td>\n",
       "      <td>04/09/2021</td>\n",
       "      <td>INDIVIDUAL</td>\n",
       "      <td>507 Honeycomb Ridge</td>\n",
       "      <td>Austin, TX, 78746</td>\n",
       "      <td>2021</td>\n",
       "      <td>Sr. Vice President</td>\n",
       "      <td>JLL</td>\n",
       "      <td>Monetary Political Contribution</td>\n",
       "      <td>05/05/2021</td>\n",
       "      <td>MPAC: Monthly Filing General-Purpose Committee...</td>\n",
       "      <td>NaN</td>\n",
       "      <td>NaN</td>\n",
       "      <td>NaN</td>\n",
       "      <td>View Report (http://www.austintexas.gov/edims/...</td>\n",
       "      <td>R20210326100711610-A00023</td>\n",
       "    </tr>\n",
       "  </tbody>\n",
       "</table>\n",
       "<p>30184 rows × 18 columns</p>\n",
       "</div>"
      ],
      "text/plain": [
       "                       Donor  \\\n",
       "57            Woody, Susanna   \n",
       "83        Fuentes, Guadalupe   \n",
       "108        Williamson, Sarah   \n",
       "137    Amaha Gollnick, Naomi   \n",
       "147             Guerra, Luis   \n",
       "...                      ...   \n",
       "51517         Savoie, Seneca   \n",
       "51521    DiBrienza, Jennifer   \n",
       "51522         Savoie, Seneca   \n",
       "51523          Matula, Cindy   \n",
       "51524        Coulter, Rachel   \n",
       "\n",
       "                                               Recipient  Contribution_Amount  \\\n",
       "57                                      Fuentes, Vanessa                 75.0   \n",
       "83                                      Fuentes, Vanessa                200.0   \n",
       "108                                     Fuentes, Vanessa                100.0   \n",
       "137                                     Fuentes, Vanessa                100.0   \n",
       "147                                         Pool, Leslie                150.0   \n",
       "...                                                  ...                  ...   \n",
       "51517                                Homes Not Handcuffs                611.0   \n",
       "51521                                Homes Not Handcuffs                500.0   \n",
       "51522                                Homes Not Handcuffs                611.0   \n",
       "51523                             Restore Leadership ATX                100.0   \n",
       "51524  The Real Estate Council of Austin, Inc. Advanc...                500.0   \n",
       "\n",
       "      Contribution_Date  Donor_Type                Donor_Address  \\\n",
       "57           06/19/2020  INDIVIDUAL        7433 Montezuma Street   \n",
       "83           05/11/2020  INDIVIDUAL     1707 South Walnut Street   \n",
       "108          02/20/2020  INDIVIDUAL  3845 Ranch Road 2222, Apt 8   \n",
       "137          06/26/2020  INDIVIDUAL             494 Thunder Road   \n",
       "147          06/02/2020  INDIVIDUAL                1808 Kerr Ave   \n",
       "...                 ...         ...                          ...   \n",
       "51517        04/27/2021  INDIVIDUAL        9620 covey ridge lane   \n",
       "51521        04/27/2021  INDIVIDUAL              186 Park Avenue   \n",
       "51522        04/27/2021  INDIVIDUAL             9620 Covey Ridge   \n",
       "51523        04/29/2021  INDIVIDUAL            4917 Westview Dr.   \n",
       "51524        04/09/2021  INDIVIDUAL          507 Honeycomb Ridge   \n",
       "\n",
       "             City_State_Zip  Contribution_Year Donor_Reported_Occupation  \\\n",
       "57        Austin, TX, 78744               2020                        PM   \n",
       "83         Brady, TX, 76825               2020           Store Associate   \n",
       "108       Austin, TX, 78731               2020           Project Manager   \n",
       "137    Evergreen, CO, 80439               2020         Health Strategies   \n",
       "147       Austin, TX, 78704               2020                   retired   \n",
       "...                     ...                ...                       ...   \n",
       "51517     Austin, TX, 78758               2021           Field Organizer   \n",
       "51521  Palo Alto, CA, 94306               2021                  educator   \n",
       "51522     Austin, TX, 78758               2021           Field Organizer   \n",
       "51523     Austin, TX, 78731               2021                   retired   \n",
       "51524     Austin, TX, 78746               2021        Sr. Vice President   \n",
       "\n",
       "      Donor_Reported_Employer                Contribution_Type Date_Reported  \\\n",
       "57                        AMD  Monetary Political Contribution    07/15/2020   \n",
       "83                    Walmart  Monetary Political Contribution    07/15/2020   \n",
       "108                   Netsync  Monetary Political Contribution    07/15/2020   \n",
       "137                       AHA  Monetary Political Contribution    07/15/2020   \n",
       "147                   retired  Monetary Political Contribution    07/10/2020   \n",
       "...                       ...                              ...           ...   \n",
       "51517         Texas Appleseed                     Contribution    04/30/2021   \n",
       "51521                    self                     Contribution    05/03/2021   \n",
       "51522         Texas Appleseed                     Contribution    05/03/2021   \n",
       "51523                 retired                     Contribution    04/30/2021   \n",
       "51524                     JLL  Monetary Political Contribution    05/05/2021   \n",
       "\n",
       "                                            Report_Filed In_Kind_Description  \\\n",
       "57     COH: Candidate /Officeholder Campaign Finance ...                 NaN   \n",
       "83     COH: Candidate /Officeholder Campaign Finance ...                 NaN   \n",
       "108    COH: Candidate /Officeholder Campaign Finance ...                 NaN   \n",
       "137    COH: Candidate /Officeholder Campaign Finance ...                 NaN   \n",
       "147    COH: Candidate /Officeholder Campaign Finance ...                 NaN   \n",
       "...                                                  ...                 ...   \n",
       "51517  PACATX7: Pre-Election Report Political Committ...                 NaN   \n",
       "51521  ATX1: Report of Direct Campaign Expenditures: ...                 NaN   \n",
       "51522  ATX1: Report of Direct Campaign Expenditures: ...                 NaN   \n",
       "51523  PACATX7: Pre-Election Report Political Committ...                 NaN   \n",
       "51524  MPAC: Monthly Filing General-Purpose Committee...                 NaN   \n",
       "\n",
       "      Out_of_State_PAC Correction  \\\n",
       "57                 NaN        NaN   \n",
       "83                 NaN        NaN   \n",
       "108                NaN        NaN   \n",
       "137                NaN        NaN   \n",
       "147                NaN        NaN   \n",
       "...                ...        ...   \n",
       "51517              NaN        NaN   \n",
       "51521              NaN        NaN   \n",
       "51522              NaN        NaN   \n",
       "51523              NaN        NaN   \n",
       "51524              NaN        NaN   \n",
       "\n",
       "                                             View_Report  \\\n",
       "57     View Report (http://www.austintexas.gov/edims/...   \n",
       "83     View Report (http://www.austintexas.gov/edims/...   \n",
       "108    View Report (http://www.austintexas.gov/edims/...   \n",
       "137    View Report (http://www.austintexas.gov/edims/...   \n",
       "147    View Report (http://www.austintexas.gov/edims/...   \n",
       "...                                                  ...   \n",
       "51517  View Report (http://www.austintexas.gov/edims/...   \n",
       "51521  View Report (http://www.austintexas.gov/edims/...   \n",
       "51522  View Report (http://www.austintexas.gov/edims/...   \n",
       "51523  View Report (http://www.austintexas.gov/edims/...   \n",
       "51524  View Report (http://www.austintexas.gov/edims/...   \n",
       "\n",
       "                  TRANSACTION_ID  \n",
       "57     R20200101100710646-A00079  \n",
       "83     R20200101100710646-A00083  \n",
       "108    R20200101100710646-A00025  \n",
       "137    R20200101100710646-A00184  \n",
       "147    R20200101100710645-A00033  \n",
       "...                          ...  \n",
       "51517  R20210427100711586-A00003  \n",
       "51521  R20210427100711597-A00001  \n",
       "51522  R20210427100711597-A00002  \n",
       "51523  R20210429100711594-A00001  \n",
       "51524  R20210326100711610-A00023  \n",
       "\n",
       "[30184 rows x 18 columns]"
      ]
     },
     "execution_count": 8,
     "metadata": {},
     "output_type": "execute_result"
    }
   ],
   "source": [
    "df[df.duplicated(subset=['Donor'])]"
   ]
  },
  {
   "cell_type": "code",
   "execution_count": 9,
   "metadata": {
    "ExecuteTime": {
     "end_time": "2021-06-04T19:24:38.746113Z",
     "start_time": "2021-06-04T19:24:38.741163Z"
    }
   },
   "outputs": [
    {
     "data": {
      "text/plain": [
       "0        07/10/2020\n",
       "1        07/15/2020\n",
       "2        07/10/2020\n",
       "3        07/10/2020\n",
       "4        07/10/2020\n",
       "            ...    \n",
       "51520    04/30/2021\n",
       "51521    05/03/2021\n",
       "51522    05/03/2021\n",
       "51523    04/30/2021\n",
       "51524    05/05/2021\n",
       "Name: Date_Reported, Length: 51525, dtype: object"
      ]
     },
     "execution_count": 9,
     "metadata": {},
     "output_type": "execute_result"
    }
   ],
   "source": [
    "df['Date_Reported']"
   ]
  },
  {
   "cell_type": "code",
   "execution_count": 10,
   "metadata": {
    "ExecuteTime": {
     "end_time": "2021-06-04T19:24:38.756801Z",
     "start_time": "2021-06-04T19:24:38.747138Z"
    }
   },
   "outputs": [],
   "source": [
    "df_propb = df[(df['Recipient']=='Homes Not Handcuffs') | (df['Recipient']=='Save Austin Now PAC')]"
   ]
  },
  {
   "cell_type": "code",
   "execution_count": 11,
   "metadata": {
    "ExecuteTime": {
     "end_time": "2021-06-04T19:24:38.774468Z",
     "start_time": "2021-06-04T19:24:38.757888Z"
    }
   },
   "outputs": [
    {
     "data": {
      "text/html": [
       "<div>\n",
       "<style scoped>\n",
       "    .dataframe tbody tr th:only-of-type {\n",
       "        vertical-align: middle;\n",
       "    }\n",
       "\n",
       "    .dataframe tbody tr th {\n",
       "        vertical-align: top;\n",
       "    }\n",
       "\n",
       "    .dataframe thead th {\n",
       "        text-align: right;\n",
       "    }\n",
       "</style>\n",
       "<table border=\"1\" class=\"dataframe\">\n",
       "  <thead>\n",
       "    <tr style=\"text-align: right;\">\n",
       "      <th></th>\n",
       "      <th>Donor</th>\n",
       "      <th>Recipient</th>\n",
       "      <th>Contribution_Amount</th>\n",
       "      <th>Contribution_Date</th>\n",
       "      <th>Donor_Type</th>\n",
       "      <th>Donor_Address</th>\n",
       "      <th>City_State_Zip</th>\n",
       "      <th>Contribution_Year</th>\n",
       "      <th>Donor_Reported_Occupation</th>\n",
       "      <th>Donor_Reported_Employer</th>\n",
       "      <th>Contribution_Type</th>\n",
       "      <th>Date_Reported</th>\n",
       "      <th>Report_Filed</th>\n",
       "      <th>In_Kind_Description</th>\n",
       "      <th>Out_of_State_PAC</th>\n",
       "      <th>Correction</th>\n",
       "      <th>View_Report</th>\n",
       "      <th>TRANSACTION_ID</th>\n",
       "    </tr>\n",
       "  </thead>\n",
       "  <tbody>\n",
       "    <tr>\n",
       "      <th>18988</th>\n",
       "      <td>Luepke, Erich</td>\n",
       "      <td>Homes Not Handcuffs</td>\n",
       "      <td>1.0</td>\n",
       "      <td>03/22/2021</td>\n",
       "      <td>INDIVIDUAL</td>\n",
       "      <td>1157 Clinton Avenue</td>\n",
       "      <td>Oak Park, IL, 60304</td>\n",
       "      <td>2021</td>\n",
       "      <td>Not Employed</td>\n",
       "      <td>NaN</td>\n",
       "      <td>Monetary Political Contribution</td>\n",
       "      <td>04/01/2021</td>\n",
       "      <td>GPAC: General-Purpose Committee Campaign Finan...</td>\n",
       "      <td>NaN</td>\n",
       "      <td>NaN</td>\n",
       "      <td>NaN</td>\n",
       "      <td>View Report (http://www.austintexas.gov/edims/...</td>\n",
       "      <td>R20210101100711362-A00350</td>\n",
       "    </tr>\n",
       "    <tr>\n",
       "      <th>28863</th>\n",
       "      <td>Lowery, Christopher</td>\n",
       "      <td>Homes Not Handcuffs</td>\n",
       "      <td>25.0</td>\n",
       "      <td>03/30/2021</td>\n",
       "      <td>INDIVIDUAL</td>\n",
       "      <td>12415 Turtleback Ln</td>\n",
       "      <td>Austin, TX, 78727</td>\n",
       "      <td>2021</td>\n",
       "      <td>Scientist</td>\n",
       "      <td>University of Texas</td>\n",
       "      <td>Monetary Political Contribution</td>\n",
       "      <td>04/23/2021</td>\n",
       "      <td>GPAC: General-Purpose Committee Campaign Finan...</td>\n",
       "      <td>NaN</td>\n",
       "      <td>NaN</td>\n",
       "      <td>NaN</td>\n",
       "      <td>View Report (http://www.austintexas.gov/edims/...</td>\n",
       "      <td>R20210323100711534-A00116</td>\n",
       "    </tr>\n",
       "    <tr>\n",
       "      <th>36686</th>\n",
       "      <td>Maxwell, Felicity</td>\n",
       "      <td>Homes Not Handcuffs</td>\n",
       "      <td>100.0</td>\n",
       "      <td>04/15/2021</td>\n",
       "      <td>INDIVIDUAL</td>\n",
       "      <td>2121 Melridge Pl</td>\n",
       "      <td>Austin, TX, 78704</td>\n",
       "      <td>2021</td>\n",
       "      <td>Business Owner</td>\n",
       "      <td>fibercove</td>\n",
       "      <td>Monetary Political Contribution</td>\n",
       "      <td>04/23/2021</td>\n",
       "      <td>GPAC: General-Purpose Committee Campaign Finan...</td>\n",
       "      <td>NaN</td>\n",
       "      <td>NaN</td>\n",
       "      <td>NaN</td>\n",
       "      <td>View Report (http://www.austintexas.gov/edims/...</td>\n",
       "      <td>R20210323100711534-A00539</td>\n",
       "    </tr>\n",
       "    <tr>\n",
       "      <th>37970</th>\n",
       "      <td>Lee, David</td>\n",
       "      <td>Homes Not Handcuffs</td>\n",
       "      <td>25.0</td>\n",
       "      <td>03/31/2021</td>\n",
       "      <td>INDIVIDUAL</td>\n",
       "      <td>1000 E 5th St Apt 659</td>\n",
       "      <td>Austin, TX, 78702</td>\n",
       "      <td>2021</td>\n",
       "      <td>Writer</td>\n",
       "      <td>RTW Media LLC</td>\n",
       "      <td>Monetary Political Contribution</td>\n",
       "      <td>04/23/2021</td>\n",
       "      <td>GPAC: General-Purpose Committee Campaign Finan...</td>\n",
       "      <td>NaN</td>\n",
       "      <td>NaN</td>\n",
       "      <td>NaN</td>\n",
       "      <td>View Report (http://www.austintexas.gov/edims/...</td>\n",
       "      <td>R20210323100711534-A00580</td>\n",
       "    </tr>\n",
       "    <tr>\n",
       "      <th>43243</th>\n",
       "      <td>Griffith, Idona</td>\n",
       "      <td>Homes Not Handcuffs</td>\n",
       "      <td>25.0</td>\n",
       "      <td>03/19/2021</td>\n",
       "      <td>INDIVIDUAL</td>\n",
       "      <td>5705 Puccoon Cove</td>\n",
       "      <td>Austin, TX, 78759</td>\n",
       "      <td>2021</td>\n",
       "      <td>Not employed</td>\n",
       "      <td>NaN</td>\n",
       "      <td>Monetary Political Contribution</td>\n",
       "      <td>04/01/2021</td>\n",
       "      <td>GPAC: General-Purpose Committee Campaign Finan...</td>\n",
       "      <td>NaN</td>\n",
       "      <td>NaN</td>\n",
       "      <td>NaN</td>\n",
       "      <td>View Report (http://www.austintexas.gov/edims/...</td>\n",
       "      <td>R20210101100711362-A00001</td>\n",
       "    </tr>\n",
       "    <tr>\n",
       "      <th>...</th>\n",
       "      <td>...</td>\n",
       "      <td>...</td>\n",
       "      <td>...</td>\n",
       "      <td>...</td>\n",
       "      <td>...</td>\n",
       "      <td>...</td>\n",
       "      <td>...</td>\n",
       "      <td>...</td>\n",
       "      <td>...</td>\n",
       "      <td>...</td>\n",
       "      <td>...</td>\n",
       "      <td>...</td>\n",
       "      <td>...</td>\n",
       "      <td>...</td>\n",
       "      <td>...</td>\n",
       "      <td>...</td>\n",
       "      <td>...</td>\n",
       "      <td>...</td>\n",
       "    </tr>\n",
       "    <tr>\n",
       "      <th>51518</th>\n",
       "      <td>DiBrienza, Jennifer</td>\n",
       "      <td>Homes Not Handcuffs</td>\n",
       "      <td>500.0</td>\n",
       "      <td>04/27/2021</td>\n",
       "      <td>INDIVIDUAL</td>\n",
       "      <td>186 Park Avenue</td>\n",
       "      <td>Palo Alto, CA, 94306</td>\n",
       "      <td>2021</td>\n",
       "      <td>educator</td>\n",
       "      <td>self</td>\n",
       "      <td>Contribution</td>\n",
       "      <td>04/30/2021</td>\n",
       "      <td>PACATX7: Pre-Election Report Political Committ...</td>\n",
       "      <td>NaN</td>\n",
       "      <td>NaN</td>\n",
       "      <td>NaN</td>\n",
       "      <td>View Report (http://www.austintexas.gov/edims/...</td>\n",
       "      <td>R20210427100711586-A00004</td>\n",
       "    </tr>\n",
       "    <tr>\n",
       "      <th>51519</th>\n",
       "      <td>Valenzuela, Martin</td>\n",
       "      <td>Homes Not Handcuffs</td>\n",
       "      <td>100.0</td>\n",
       "      <td>04/28/2021</td>\n",
       "      <td>INDIVIDUAL</td>\n",
       "      <td>7009 Saint John Unit B</td>\n",
       "      <td>Austin, TX, 78757</td>\n",
       "      <td>2021</td>\n",
       "      <td>data engineer</td>\n",
       "      <td>NaN</td>\n",
       "      <td>Contribution</td>\n",
       "      <td>04/30/2021</td>\n",
       "      <td>PACATX7: Pre-Election Report Political Committ...</td>\n",
       "      <td>NaN</td>\n",
       "      <td>NaN</td>\n",
       "      <td>NaN</td>\n",
       "      <td>View Report (http://www.austintexas.gov/edims/...</td>\n",
       "      <td>R20210427100711586-A00005</td>\n",
       "    </tr>\n",
       "    <tr>\n",
       "      <th>51520</th>\n",
       "      <td>Blanford, Cecilia</td>\n",
       "      <td>Homes Not Handcuffs</td>\n",
       "      <td>100.0</td>\n",
       "      <td>04/29/2021</td>\n",
       "      <td>INDIVIDUAL</td>\n",
       "      <td>480 Keystone Loop</td>\n",
       "      <td>Kyle, TX, 78640</td>\n",
       "      <td>2021</td>\n",
       "      <td>grantwriter</td>\n",
       "      <td>NaN</td>\n",
       "      <td>Contribution</td>\n",
       "      <td>04/30/2021</td>\n",
       "      <td>PACATX7: Pre-Election Report Political Committ...</td>\n",
       "      <td>NaN</td>\n",
       "      <td>NaN</td>\n",
       "      <td>NaN</td>\n",
       "      <td>View Report (http://www.austintexas.gov/edims/...</td>\n",
       "      <td>R20210427100711586-A00006</td>\n",
       "    </tr>\n",
       "    <tr>\n",
       "      <th>51521</th>\n",
       "      <td>DiBrienza, Jennifer</td>\n",
       "      <td>Homes Not Handcuffs</td>\n",
       "      <td>500.0</td>\n",
       "      <td>04/27/2021</td>\n",
       "      <td>INDIVIDUAL</td>\n",
       "      <td>186 Park Avenue</td>\n",
       "      <td>Palo Alto, CA, 94306</td>\n",
       "      <td>2021</td>\n",
       "      <td>educator</td>\n",
       "      <td>self</td>\n",
       "      <td>Contribution</td>\n",
       "      <td>05/03/2021</td>\n",
       "      <td>ATX1: Report of Direct Campaign Expenditures: ...</td>\n",
       "      <td>NaN</td>\n",
       "      <td>NaN</td>\n",
       "      <td>NaN</td>\n",
       "      <td>View Report (http://www.austintexas.gov/edims/...</td>\n",
       "      <td>R20210427100711597-A00001</td>\n",
       "    </tr>\n",
       "    <tr>\n",
       "      <th>51522</th>\n",
       "      <td>Savoie, Seneca</td>\n",
       "      <td>Homes Not Handcuffs</td>\n",
       "      <td>611.0</td>\n",
       "      <td>04/27/2021</td>\n",
       "      <td>INDIVIDUAL</td>\n",
       "      <td>9620 Covey Ridge</td>\n",
       "      <td>Austin, TX, 78758</td>\n",
       "      <td>2021</td>\n",
       "      <td>Field Organizer</td>\n",
       "      <td>Texas Appleseed</td>\n",
       "      <td>Contribution</td>\n",
       "      <td>05/03/2021</td>\n",
       "      <td>ATX1: Report of Direct Campaign Expenditures: ...</td>\n",
       "      <td>NaN</td>\n",
       "      <td>NaN</td>\n",
       "      <td>NaN</td>\n",
       "      <td>View Report (http://www.austintexas.gov/edims/...</td>\n",
       "      <td>R20210427100711597-A00002</td>\n",
       "    </tr>\n",
       "  </tbody>\n",
       "</table>\n",
       "<p>2692 rows × 18 columns</p>\n",
       "</div>"
      ],
      "text/plain": [
       "                     Donor            Recipient  Contribution_Amount  \\\n",
       "18988        Luepke, Erich  Homes Not Handcuffs                  1.0   \n",
       "28863  Lowery, Christopher  Homes Not Handcuffs                 25.0   \n",
       "36686    Maxwell, Felicity  Homes Not Handcuffs                100.0   \n",
       "37970           Lee, David  Homes Not Handcuffs                 25.0   \n",
       "43243      Griffith, Idona  Homes Not Handcuffs                 25.0   \n",
       "...                    ...                  ...                  ...   \n",
       "51518  DiBrienza, Jennifer  Homes Not Handcuffs                500.0   \n",
       "51519   Valenzuela, Martin  Homes Not Handcuffs                100.0   \n",
       "51520    Blanford, Cecilia  Homes Not Handcuffs                100.0   \n",
       "51521  DiBrienza, Jennifer  Homes Not Handcuffs                500.0   \n",
       "51522       Savoie, Seneca  Homes Not Handcuffs                611.0   \n",
       "\n",
       "      Contribution_Date  Donor_Type           Donor_Address  \\\n",
       "18988        03/22/2021  INDIVIDUAL     1157 Clinton Avenue   \n",
       "28863        03/30/2021  INDIVIDUAL     12415 Turtleback Ln   \n",
       "36686        04/15/2021  INDIVIDUAL        2121 Melridge Pl   \n",
       "37970        03/31/2021  INDIVIDUAL   1000 E 5th St Apt 659   \n",
       "43243        03/19/2021  INDIVIDUAL       5705 Puccoon Cove   \n",
       "...                 ...         ...                     ...   \n",
       "51518        04/27/2021  INDIVIDUAL         186 Park Avenue   \n",
       "51519        04/28/2021  INDIVIDUAL  7009 Saint John Unit B   \n",
       "51520        04/29/2021  INDIVIDUAL       480 Keystone Loop   \n",
       "51521        04/27/2021  INDIVIDUAL         186 Park Avenue   \n",
       "51522        04/27/2021  INDIVIDUAL        9620 Covey Ridge   \n",
       "\n",
       "             City_State_Zip  Contribution_Year Donor_Reported_Occupation  \\\n",
       "18988   Oak Park, IL, 60304               2021              Not Employed   \n",
       "28863     Austin, TX, 78727               2021                 Scientist   \n",
       "36686     Austin, TX, 78704               2021            Business Owner   \n",
       "37970     Austin, TX, 78702               2021                    Writer   \n",
       "43243     Austin, TX, 78759               2021              Not employed   \n",
       "...                     ...                ...                       ...   \n",
       "51518  Palo Alto, CA, 94306               2021                  educator   \n",
       "51519     Austin, TX, 78757               2021             data engineer   \n",
       "51520       Kyle, TX, 78640               2021               grantwriter   \n",
       "51521  Palo Alto, CA, 94306               2021                  educator   \n",
       "51522     Austin, TX, 78758               2021           Field Organizer   \n",
       "\n",
       "      Donor_Reported_Employer                Contribution_Type Date_Reported  \\\n",
       "18988                     NaN  Monetary Political Contribution    04/01/2021   \n",
       "28863     University of Texas  Monetary Political Contribution    04/23/2021   \n",
       "36686               fibercove  Monetary Political Contribution    04/23/2021   \n",
       "37970           RTW Media LLC  Monetary Political Contribution    04/23/2021   \n",
       "43243                     NaN  Monetary Political Contribution    04/01/2021   \n",
       "...                       ...                              ...           ...   \n",
       "51518                    self                     Contribution    04/30/2021   \n",
       "51519                     NaN                     Contribution    04/30/2021   \n",
       "51520                     NaN                     Contribution    04/30/2021   \n",
       "51521                    self                     Contribution    05/03/2021   \n",
       "51522         Texas Appleseed                     Contribution    05/03/2021   \n",
       "\n",
       "                                            Report_Filed In_Kind_Description  \\\n",
       "18988  GPAC: General-Purpose Committee Campaign Finan...                 NaN   \n",
       "28863  GPAC: General-Purpose Committee Campaign Finan...                 NaN   \n",
       "36686  GPAC: General-Purpose Committee Campaign Finan...                 NaN   \n",
       "37970  GPAC: General-Purpose Committee Campaign Finan...                 NaN   \n",
       "43243  GPAC: General-Purpose Committee Campaign Finan...                 NaN   \n",
       "...                                                  ...                 ...   \n",
       "51518  PACATX7: Pre-Election Report Political Committ...                 NaN   \n",
       "51519  PACATX7: Pre-Election Report Political Committ...                 NaN   \n",
       "51520  PACATX7: Pre-Election Report Political Committ...                 NaN   \n",
       "51521  ATX1: Report of Direct Campaign Expenditures: ...                 NaN   \n",
       "51522  ATX1: Report of Direct Campaign Expenditures: ...                 NaN   \n",
       "\n",
       "      Out_of_State_PAC Correction  \\\n",
       "18988              NaN        NaN   \n",
       "28863              NaN        NaN   \n",
       "36686              NaN        NaN   \n",
       "37970              NaN        NaN   \n",
       "43243              NaN        NaN   \n",
       "...                ...        ...   \n",
       "51518              NaN        NaN   \n",
       "51519              NaN        NaN   \n",
       "51520              NaN        NaN   \n",
       "51521              NaN        NaN   \n",
       "51522              NaN        NaN   \n",
       "\n",
       "                                             View_Report  \\\n",
       "18988  View Report (http://www.austintexas.gov/edims/...   \n",
       "28863  View Report (http://www.austintexas.gov/edims/...   \n",
       "36686  View Report (http://www.austintexas.gov/edims/...   \n",
       "37970  View Report (http://www.austintexas.gov/edims/...   \n",
       "43243  View Report (http://www.austintexas.gov/edims/...   \n",
       "...                                                  ...   \n",
       "51518  View Report (http://www.austintexas.gov/edims/...   \n",
       "51519  View Report (http://www.austintexas.gov/edims/...   \n",
       "51520  View Report (http://www.austintexas.gov/edims/...   \n",
       "51521  View Report (http://www.austintexas.gov/edims/...   \n",
       "51522  View Report (http://www.austintexas.gov/edims/...   \n",
       "\n",
       "                  TRANSACTION_ID  \n",
       "18988  R20210101100711362-A00350  \n",
       "28863  R20210323100711534-A00116  \n",
       "36686  R20210323100711534-A00539  \n",
       "37970  R20210323100711534-A00580  \n",
       "43243  R20210101100711362-A00001  \n",
       "...                          ...  \n",
       "51518  R20210427100711586-A00004  \n",
       "51519  R20210427100711586-A00005  \n",
       "51520  R20210427100711586-A00006  \n",
       "51521  R20210427100711597-A00001  \n",
       "51522  R20210427100711597-A00002  \n",
       "\n",
       "[2692 rows x 18 columns]"
      ]
     },
     "execution_count": 11,
     "metadata": {},
     "output_type": "execute_result"
    }
   ],
   "source": [
    "df_propb"
   ]
  },
  {
   "cell_type": "code",
   "execution_count": 12,
   "metadata": {
    "ExecuteTime": {
     "end_time": "2021-06-04T19:24:38.779625Z",
     "start_time": "2021-06-04T19:24:38.775377Z"
    }
   },
   "outputs": [],
   "source": [
    "df_under = df_propb[df_propb['Contribution_Amount']<=500]"
   ]
  },
  {
   "cell_type": "code",
   "execution_count": 136,
   "metadata": {
    "ExecuteTime": {
     "end_time": "2021-06-04T23:59:45.288301Z",
     "start_time": "2021-06-04T23:59:45.279037Z"
    }
   },
   "outputs": [
    {
     "data": {
      "text/plain": [
       "0.9707602339181286"
      ]
     },
     "execution_count": 136,
     "metadata": {},
     "output_type": "execute_result"
    }
   ],
   "source": [
    "len(df_under)/len(df)"
   ]
  },
  {
   "cell_type": "code",
   "execution_count": 140,
   "metadata": {
    "ExecuteTime": {
     "end_time": "2021-06-05T00:20:51.652739Z",
     "start_time": "2021-06-05T00:20:51.627853Z"
    }
   },
   "outputs": [
    {
     "data": {
      "text/html": [
       "<div>\n",
       "<style scoped>\n",
       "    .dataframe tbody tr th:only-of-type {\n",
       "        vertical-align: middle;\n",
       "    }\n",
       "\n",
       "    .dataframe tbody tr th {\n",
       "        vertical-align: top;\n",
       "    }\n",
       "\n",
       "    .dataframe thead th {\n",
       "        text-align: right;\n",
       "    }\n",
       "</style>\n",
       "<table border=\"1\" class=\"dataframe\">\n",
       "  <thead>\n",
       "    <tr style=\"text-align: right;\">\n",
       "      <th></th>\n",
       "      <th>mean</th>\n",
       "      <th>median</th>\n",
       "      <th>std</th>\n",
       "      <th>sum</th>\n",
       "      <th>count</th>\n",
       "    </tr>\n",
       "    <tr>\n",
       "      <th>Recipient</th>\n",
       "      <th></th>\n",
       "      <th></th>\n",
       "      <th></th>\n",
       "      <th></th>\n",
       "      <th></th>\n",
       "    </tr>\n",
       "  </thead>\n",
       "  <tbody>\n",
       "    <tr>\n",
       "      <th>Homes Not Handcuffs</th>\n",
       "      <td>164.299151</td>\n",
       "      <td>25.0</td>\n",
       "      <td>824.019313</td>\n",
       "      <td>189601.22</td>\n",
       "      <td>1154</td>\n",
       "    </tr>\n",
       "    <tr>\n",
       "      <th>Save Austin Now PAC</th>\n",
       "      <td>737.679008</td>\n",
       "      <td>70.0</td>\n",
       "      <td>4573.110228</td>\n",
       "      <td>1040865.08</td>\n",
       "      <td>1411</td>\n",
       "    </tr>\n",
       "  </tbody>\n",
       "</table>\n",
       "</div>"
      ],
      "text/plain": [
       "                           mean  median          std         sum  count\n",
       "Recipient                                                              \n",
       "Homes Not Handcuffs  164.299151    25.0   824.019313   189601.22   1154\n",
       "Save Austin Now PAC  737.679008    70.0  4573.110228  1040865.08   1411"
      ]
     },
     "execution_count": 140,
     "metadata": {},
     "output_type": "execute_result"
    }
   ],
   "source": [
    "df_propb.groupby(by='Recipient')['Contribution_Amount'].agg(['mean', 'median', 'std', 'sum', 'count'])"
   ]
  },
  {
   "cell_type": "code",
   "execution_count": null,
   "metadata": {},
   "outputs": [],
   "source": []
  },
  {
   "cell_type": "markdown",
   "metadata": {},
   "source": [
    "EDA for project"
   ]
  },
  {
   "cell_type": "code",
   "execution_count": 13,
   "metadata": {
    "ExecuteTime": {
     "end_time": "2021-06-04T19:24:39.697158Z",
     "start_time": "2021-06-04T19:24:38.783134Z"
    }
   },
   "outputs": [
    {
     "data": {
      "image/png": "[encoded data removed]",
      "text/plain": [
       "<Figure size 576x576 with 1 Axes>"
      ]
     },
     "metadata": {},
     "output_type": "display_data"
    }
   ],
   "source": [
    "import seaborn as sns\n",
    "import matplotlib.pyplot as plt\n",
    "\n",
    "\n",
    "with plt.style.context('fivethirtyeight'):\n",
    "    fig, ax = plt.subplots(figsize=(8,8))\n",
    "    sns.kdeplot(data=df_under,x='Contribution_Amount', hue='Recipient', fill=True)\n",
    "    ax.set_xlim(left=0, right=500)\n",
    "    ax.set_xlabel('Contribution Amount')\n",
    "    ax.set_title('Contribution Amount Based on Recipient', fontweight='bold');"
   ]
  },
  {
   "cell_type": "code",
   "execution_count": null,
   "metadata": {},
   "outputs": [],
   "source": []
  },
  {
   "cell_type": "code",
   "execution_count": null,
   "metadata": {},
   "outputs": [],
   "source": []
  },
  {
   "cell_type": "code",
   "execution_count": null,
   "metadata": {},
   "outputs": [],
   "source": []
  },
  {
   "cell_type": "code",
   "execution_count": null,
   "metadata": {},
   "outputs": [],
   "source": []
  },
  {
   "cell_type": "code",
   "execution_count": null,
   "metadata": {},
   "outputs": [],
   "source": []
  },
  {
   "cell_type": "code",
   "execution_count": 14,
   "metadata": {
    "ExecuteTime": {
     "end_time": "2021-06-04T19:24:39.706369Z",
     "start_time": "2021-06-04T19:24:39.698167Z"
    }
   },
   "outputs": [
    {
     "data": {
      "text/plain": [
       "Donor                        2237\n",
       "Recipient                       2\n",
       "Contribution_Amount           152\n",
       "Contribution_Date              59\n",
       "Donor_Type                      2\n",
       "Donor_Address                2267\n",
       "City_State_Zip                526\n",
       "Contribution_Year               1\n",
       "Donor_Reported_Occupation     859\n",
       "Donor_Reported_Employer      1017\n",
       "Contribution_Type               4\n",
       "Date_Reported                   9\n",
       "Report_Filed                    3\n",
       "In_Kind_Description             4\n",
       "Out_of_State_PAC                4\n",
       "Correction                      0\n",
       "View_Report                    14\n",
       "TRANSACTION_ID               2692\n",
       "dtype: int64"
      ]
     },
     "execution_count": 14,
     "metadata": {},
     "output_type": "execute_result"
    }
   ],
   "source": [
    "df_propb.nunique()"
   ]
  },
  {
   "cell_type": "code",
   "execution_count": 15,
   "metadata": {
    "ExecuteTime": {
     "end_time": "2021-06-04T19:24:39.711011Z",
     "start_time": "2021-06-04T19:24:39.707239Z"
    }
   },
   "outputs": [
    {
     "data": {
      "text/plain": [
       "INDIVIDUAL    2643\n",
       "ENTITY          49\n",
       "Name: Donor_Type, dtype: int64"
      ]
     },
     "execution_count": 15,
     "metadata": {},
     "output_type": "execute_result"
    }
   ],
   "source": [
    "df_propb['Donor_Type'].value_counts()"
   ]
  },
  {
   "cell_type": "code",
   "execution_count": 16,
   "metadata": {
    "ExecuteTime": {
     "end_time": "2021-06-04T19:24:39.714069Z",
     "start_time": "2021-06-04T19:24:39.712073Z"
    }
   },
   "outputs": [],
   "source": [
    "cols_to_drop = ['Donor_Type', 'Contribution_Year', 'Contribution_Type', 'Date_Reported', 'Report_Filed',\n",
    "               'In_Kind_Description', 'Out_of_State_PAC', 'Correction', 'View_Report', 'TRANSACTION_ID']"
   ]
  },
  {
   "cell_type": "code",
   "execution_count": 17,
   "metadata": {
    "ExecuteTime": {
     "end_time": "2021-06-04T19:24:39.718165Z",
     "start_time": "2021-06-04T19:24:39.715018Z"
    }
   },
   "outputs": [],
   "source": [
    "df_propb = df_propb[df_propb['Donor_Type']!='ENTITY']"
   ]
  },
  {
   "cell_type": "code",
   "execution_count": 18,
   "metadata": {
    "ExecuteTime": {
     "end_time": "2021-06-04T19:24:39.722992Z",
     "start_time": "2021-06-04T19:24:39.719157Z"
    }
   },
   "outputs": [
    {
     "data": {
      "text/plain": [
       "Monetary Political Contribution                  2168\n",
       "Contribution                                      397\n",
       "Non-Monetary (In-Kind) Political Contribution      78\n",
       "Name: Contribution_Type, dtype: int64"
      ]
     },
     "execution_count": 18,
     "metadata": {},
     "output_type": "execute_result"
    }
   ],
   "source": [
    "df_propb['Contribution_Type'].value_counts()"
   ]
  },
  {
   "cell_type": "code",
   "execution_count": 19,
   "metadata": {
    "ExecuteTime": {
     "end_time": "2021-06-04T19:24:39.727216Z",
     "start_time": "2021-06-04T19:24:39.723986Z"
    }
   },
   "outputs": [],
   "source": [
    "df_propb=df_propb[df_propb['Contribution_Type']!='Non-Monetary (In-Kind) Political Contribution']"
   ]
  },
  {
   "cell_type": "code",
   "execution_count": 20,
   "metadata": {
    "ExecuteTime": {
     "end_time": "2021-06-04T19:24:39.731041Z",
     "start_time": "2021-06-04T19:24:39.728347Z"
    }
   },
   "outputs": [],
   "source": [
    "df_propb['Contribution_Type']='Monetary Political Contribution'"
   ]
  },
  {
   "cell_type": "code",
   "execution_count": 21,
   "metadata": {
    "ExecuteTime": {
     "end_time": "2021-06-04T19:24:39.740180Z",
     "start_time": "2021-06-04T19:24:39.733226Z"
    }
   },
   "outputs": [
    {
     "data": {
      "text/plain": [
       "Monetary Political Contribution    2565\n",
       "Name: Contribution_Type, dtype: int64"
      ]
     },
     "execution_count": 21,
     "metadata": {},
     "output_type": "execute_result"
    }
   ],
   "source": [
    "df_propb['Contribution_Type'].value_counts()"
   ]
  },
  {
   "cell_type": "code",
   "execution_count": 22,
   "metadata": {
    "ExecuteTime": {
     "end_time": "2021-06-04T19:24:39.748215Z",
     "start_time": "2021-06-04T19:24:39.744685Z"
    }
   },
   "outputs": [
    {
     "data": {
      "text/plain": [
       "View Report (http://www.austintexas.gov/edims/document.cfm?id=359068)    1096\n",
       "View Report (http://www.austintexas.gov/edims/document.cfm?id=359065)     723\n",
       "View Report (http://www.austintexas.gov/edims/document.cfm?id=357560)     349\n",
       "View Report (http://www.austintexas.gov/edims/document.cfm?id=359118)      91\n",
       "View Report (http://www.austintexas.gov/edims/document.cfm?id=359176)      85\n",
       "View Report (http://www.austintexas.gov/edims/document.cfm?id=359203)      82\n",
       "View Report (http://www.austintexas.gov/edims/document.cfm?id=358644)      36\n",
       "View Report (http://www.austintexas.gov/edims/document.cfm?id=359069)      35\n",
       "View Report (http://www.austintexas.gov/edims/document.cfm?id=359287)      22\n",
       "View Report (http://www.austintexas.gov/edims/document.cfm?id=359173)      20\n",
       "View Report (http://www.austintexas.gov/edims/document.cfm?id=359174)      15\n",
       "View Report (http://www.austintexas.gov/edims/document.cfm?id=359332)       6\n",
       "View Report (http://www.austintexas.gov/edims/document.cfm?id=359067)       3\n",
       "View Report (http://www.austintexas.gov/edims/document.cfm?id=359459)       2\n",
       "Name: View_Report, dtype: int64"
      ]
     },
     "execution_count": 22,
     "metadata": {},
     "output_type": "execute_result"
    }
   ],
   "source": [
    "df_propb['View_Report'].value_counts(dropna=False)"
   ]
  },
  {
   "cell_type": "code",
   "execution_count": 23,
   "metadata": {
    "ExecuteTime": {
     "end_time": "2021-06-04T19:24:39.754283Z",
     "start_time": "2021-06-04T19:24:39.751074Z"
    }
   },
   "outputs": [],
   "source": [
    "df_propb = df_propb.drop(columns=cols_to_drop, axis=1)"
   ]
  },
  {
   "cell_type": "code",
   "execution_count": 24,
   "metadata": {
    "ExecuteTime": {
     "end_time": "2021-06-04T19:24:39.765102Z",
     "start_time": "2021-06-04T19:24:39.755447Z"
    }
   },
   "outputs": [
    {
     "data": {
      "text/html": [
       "<div>\n",
       "<style scoped>\n",
       "    .dataframe tbody tr th:only-of-type {\n",
       "        vertical-align: middle;\n",
       "    }\n",
       "\n",
       "    .dataframe tbody tr th {\n",
       "        vertical-align: top;\n",
       "    }\n",
       "\n",
       "    .dataframe thead th {\n",
       "        text-align: right;\n",
       "    }\n",
       "</style>\n",
       "<table border=\"1\" class=\"dataframe\">\n",
       "  <thead>\n",
       "    <tr style=\"text-align: right;\">\n",
       "      <th></th>\n",
       "      <th>Donor</th>\n",
       "      <th>Recipient</th>\n",
       "      <th>Contribution_Amount</th>\n",
       "      <th>Contribution_Date</th>\n",
       "      <th>Donor_Address</th>\n",
       "      <th>City_State_Zip</th>\n",
       "      <th>Donor_Reported_Occupation</th>\n",
       "      <th>Donor_Reported_Employer</th>\n",
       "    </tr>\n",
       "  </thead>\n",
       "  <tbody>\n",
       "    <tr>\n",
       "      <th>18988</th>\n",
       "      <td>Luepke, Erich</td>\n",
       "      <td>Homes Not Handcuffs</td>\n",
       "      <td>1.0</td>\n",
       "      <td>03/22/2021</td>\n",
       "      <td>1157 Clinton Avenue</td>\n",
       "      <td>Oak Park, IL, 60304</td>\n",
       "      <td>Not Employed</td>\n",
       "      <td>NaN</td>\n",
       "    </tr>\n",
       "    <tr>\n",
       "      <th>28863</th>\n",
       "      <td>Lowery, Christopher</td>\n",
       "      <td>Homes Not Handcuffs</td>\n",
       "      <td>25.0</td>\n",
       "      <td>03/30/2021</td>\n",
       "      <td>12415 Turtleback Ln</td>\n",
       "      <td>Austin, TX, 78727</td>\n",
       "      <td>Scientist</td>\n",
       "      <td>University of Texas</td>\n",
       "    </tr>\n",
       "    <tr>\n",
       "      <th>36686</th>\n",
       "      <td>Maxwell, Felicity</td>\n",
       "      <td>Homes Not Handcuffs</td>\n",
       "      <td>100.0</td>\n",
       "      <td>04/15/2021</td>\n",
       "      <td>2121 Melridge Pl</td>\n",
       "      <td>Austin, TX, 78704</td>\n",
       "      <td>Business Owner</td>\n",
       "      <td>fibercove</td>\n",
       "    </tr>\n",
       "    <tr>\n",
       "      <th>37970</th>\n",
       "      <td>Lee, David</td>\n",
       "      <td>Homes Not Handcuffs</td>\n",
       "      <td>25.0</td>\n",
       "      <td>03/31/2021</td>\n",
       "      <td>1000 E 5th St Apt 659</td>\n",
       "      <td>Austin, TX, 78702</td>\n",
       "      <td>Writer</td>\n",
       "      <td>RTW Media LLC</td>\n",
       "    </tr>\n",
       "    <tr>\n",
       "      <th>43243</th>\n",
       "      <td>Griffith, Idona</td>\n",
       "      <td>Homes Not Handcuffs</td>\n",
       "      <td>25.0</td>\n",
       "      <td>03/19/2021</td>\n",
       "      <td>5705 Puccoon Cove</td>\n",
       "      <td>Austin, TX, 78759</td>\n",
       "      <td>Not employed</td>\n",
       "      <td>NaN</td>\n",
       "    </tr>\n",
       "    <tr>\n",
       "      <th>...</th>\n",
       "      <td>...</td>\n",
       "      <td>...</td>\n",
       "      <td>...</td>\n",
       "      <td>...</td>\n",
       "      <td>...</td>\n",
       "      <td>...</td>\n",
       "      <td>...</td>\n",
       "      <td>...</td>\n",
       "    </tr>\n",
       "    <tr>\n",
       "      <th>51518</th>\n",
       "      <td>DiBrienza, Jennifer</td>\n",
       "      <td>Homes Not Handcuffs</td>\n",
       "      <td>500.0</td>\n",
       "      <td>04/27/2021</td>\n",
       "      <td>186 Park Avenue</td>\n",
       "      <td>Palo Alto, CA, 94306</td>\n",
       "      <td>educator</td>\n",
       "      <td>self</td>\n",
       "    </tr>\n",
       "    <tr>\n",
       "      <th>51519</th>\n",
       "      <td>Valenzuela, Martin</td>\n",
       "      <td>Homes Not Handcuffs</td>\n",
       "      <td>100.0</td>\n",
       "      <td>04/28/2021</td>\n",
       "      <td>7009 Saint John Unit B</td>\n",
       "      <td>Austin, TX, 78757</td>\n",
       "      <td>data engineer</td>\n",
       "      <td>NaN</td>\n",
       "    </tr>\n",
       "    <tr>\n",
       "      <th>51520</th>\n",
       "      <td>Blanford, Cecilia</td>\n",
       "      <td>Homes Not Handcuffs</td>\n",
       "      <td>100.0</td>\n",
       "      <td>04/29/2021</td>\n",
       "      <td>480 Keystone Loop</td>\n",
       "      <td>Kyle, TX, 78640</td>\n",
       "      <td>grantwriter</td>\n",
       "      <td>NaN</td>\n",
       "    </tr>\n",
       "    <tr>\n",
       "      <th>51521</th>\n",
       "      <td>DiBrienza, Jennifer</td>\n",
       "      <td>Homes Not Handcuffs</td>\n",
       "      <td>500.0</td>\n",
       "      <td>04/27/2021</td>\n",
       "      <td>186 Park Avenue</td>\n",
       "      <td>Palo Alto, CA, 94306</td>\n",
       "      <td>educator</td>\n",
       "      <td>self</td>\n",
       "    </tr>\n",
       "    <tr>\n",
       "      <th>51522</th>\n",
       "      <td>Savoie, Seneca</td>\n",
       "      <td>Homes Not Handcuffs</td>\n",
       "      <td>611.0</td>\n",
       "      <td>04/27/2021</td>\n",
       "      <td>9620 Covey Ridge</td>\n",
       "      <td>Austin, TX, 78758</td>\n",
       "      <td>Field Organizer</td>\n",
       "      <td>Texas Appleseed</td>\n",
       "    </tr>\n",
       "  </tbody>\n",
       "</table>\n",
       "<p>2565 rows × 8 columns</p>\n",
       "</div>"
      ],
      "text/plain": [
       "                     Donor            Recipient  Contribution_Amount  \\\n",
       "18988        Luepke, Erich  Homes Not Handcuffs                  1.0   \n",
       "28863  Lowery, Christopher  Homes Not Handcuffs                 25.0   \n",
       "36686    Maxwell, Felicity  Homes Not Handcuffs                100.0   \n",
       "37970           Lee, David  Homes Not Handcuffs                 25.0   \n",
       "43243      Griffith, Idona  Homes Not Handcuffs                 25.0   \n",
       "...                    ...                  ...                  ...   \n",
       "51518  DiBrienza, Jennifer  Homes Not Handcuffs                500.0   \n",
       "51519   Valenzuela, Martin  Homes Not Handcuffs                100.0   \n",
       "51520    Blanford, Cecilia  Homes Not Handcuffs                100.0   \n",
       "51521  DiBrienza, Jennifer  Homes Not Handcuffs                500.0   \n",
       "51522       Savoie, Seneca  Homes Not Handcuffs                611.0   \n",
       "\n",
       "      Contribution_Date           Donor_Address        City_State_Zip  \\\n",
       "18988        03/22/2021     1157 Clinton Avenue   Oak Park, IL, 60304   \n",
       "28863        03/30/2021     12415 Turtleback Ln     Austin, TX, 78727   \n",
       "36686        04/15/2021        2121 Melridge Pl     Austin, TX, 78704   \n",
       "37970        03/31/2021   1000 E 5th St Apt 659     Austin, TX, 78702   \n",
       "43243        03/19/2021       5705 Puccoon Cove     Austin, TX, 78759   \n",
       "...                 ...                     ...                   ...   \n",
       "51518        04/27/2021         186 Park Avenue  Palo Alto, CA, 94306   \n",
       "51519        04/28/2021  7009 Saint John Unit B     Austin, TX, 78757   \n",
       "51520        04/29/2021       480 Keystone Loop       Kyle, TX, 78640   \n",
       "51521        04/27/2021         186 Park Avenue  Palo Alto, CA, 94306   \n",
       "51522        04/27/2021        9620 Covey Ridge     Austin, TX, 78758   \n",
       "\n",
       "      Donor_Reported_Occupation Donor_Reported_Employer  \n",
       "18988              Not Employed                     NaN  \n",
       "28863                 Scientist     University of Texas  \n",
       "36686            Business Owner               fibercove  \n",
       "37970                    Writer           RTW Media LLC  \n",
       "43243              Not employed                     NaN  \n",
       "...                         ...                     ...  \n",
       "51518                  educator                    self  \n",
       "51519             data engineer                     NaN  \n",
       "51520               grantwriter                     NaN  \n",
       "51521                  educator                    self  \n",
       "51522           Field Organizer         Texas Appleseed  \n",
       "\n",
       "[2565 rows x 8 columns]"
      ]
     },
     "execution_count": 24,
     "metadata": {},
     "output_type": "execute_result"
    }
   ],
   "source": [
    "df_propb"
   ]
  },
  {
   "cell_type": "code",
   "execution_count": 25,
   "metadata": {
    "ExecuteTime": {
     "end_time": "2021-06-04T19:24:39.769380Z",
     "start_time": "2021-06-04T19:24:39.766005Z"
    }
   },
   "outputs": [],
   "source": [
    "df_propb['City'] = df_propb['City_State_Zip'].map(lambda x: x.split(',')[0])"
   ]
  },
  {
   "cell_type": "code",
   "execution_count": 26,
   "metadata": {
    "ExecuteTime": {
     "end_time": "2021-06-04T19:24:39.773868Z",
     "start_time": "2021-06-04T19:24:39.770359Z"
    }
   },
   "outputs": [],
   "source": [
    "df_propb['State'] = df_propb['City_State_Zip'].map(lambda x: x.split(',')[1])"
   ]
  },
  {
   "cell_type": "code",
   "execution_count": 27,
   "metadata": {
    "ExecuteTime": {
     "end_time": "2021-06-04T19:24:39.778484Z",
     "start_time": "2021-06-04T19:24:39.774831Z"
    }
   },
   "outputs": [],
   "source": [
    "df_propb['Zip'] = df_propb['City_State_Zip'].map(lambda x: x[-5:])"
   ]
  },
  {
   "cell_type": "code",
   "execution_count": 28,
   "metadata": {
    "ExecuteTime": {
     "end_time": "2021-06-04T19:24:39.784795Z",
     "start_time": "2021-06-04T19:24:39.779578Z"
    }
   },
   "outputs": [
    {
     "data": {
      "text/plain": [
       "78703    174\n",
       "78746    154\n",
       "78704    133\n",
       "78731    122\n",
       "78759    116\n",
       "        ... \n",
       "-6625      1\n",
       "02111      1\n",
       "94515      1\n",
       "-7011      1\n",
       "61704      1\n",
       "Name: Zip, Length: 499, dtype: int64"
      ]
     },
     "execution_count": 28,
     "metadata": {},
     "output_type": "execute_result"
    }
   ],
   "source": [
    "df_propb['Zip'].value_counts()"
   ]
  },
  {
   "cell_type": "code",
   "execution_count": 29,
   "metadata": {
    "ExecuteTime": {
     "end_time": "2021-06-04T19:24:39.793922Z",
     "start_time": "2021-06-04T19:24:39.787201Z"
    }
   },
   "outputs": [
    {
     "data": {
      "text/plain": [
       "Retired               394\n",
       "Not Employed          164\n",
       "Best Efforts           70\n",
       "Attorney               48\n",
       "Software Engineer      43\n",
       "Owner                  36\n",
       "Consultant             36\n",
       "Sales                  34\n",
       "CEO                    34\n",
       "best effort            33\n",
       "Teacher                30\n",
       "Engineer               30\n",
       "Lawyer                 28\n",
       "Realtor                26\n",
       "retired                24\n",
       "Software Developer     22\n",
       "Manager                22\n",
       "Not employed           19\n",
       "Project Manager        17\n",
       "Real Estate            15\n",
       "Name: Donor_Reported_Occupation, dtype: int64"
      ]
     },
     "execution_count": 29,
     "metadata": {},
     "output_type": "execute_result"
    }
   ],
   "source": [
    "df_propb['Donor_Reported_Occupation'].value_counts().nlargest(20)"
   ]
  },
  {
   "cell_type": "code",
   "execution_count": 30,
   "metadata": {
    "ExecuteTime": {
     "end_time": "2021-06-04T19:24:39.798800Z",
     "start_time": "2021-06-04T19:24:39.795200Z"
    }
   },
   "outputs": [],
   "source": [
    "df_propb.replace(to_replace='retired', value='Retired', inplace=True)"
   ]
  },
  {
   "cell_type": "code",
   "execution_count": 31,
   "metadata": {
    "ExecuteTime": {
     "end_time": "2021-06-04T19:24:39.804687Z",
     "start_time": "2021-06-04T19:24:39.799698Z"
    }
   },
   "outputs": [
    {
     "data": {
      "text/plain": [
       "Retired               418\n",
       "Not Employed          164\n",
       "Best Efforts           70\n",
       "Attorney               48\n",
       "Software Engineer      43\n",
       "Owner                  36\n",
       "Consultant             36\n",
       "Sales                  34\n",
       "CEO                    34\n",
       "best effort            33\n",
       "Engineer               30\n",
       "Teacher                30\n",
       "Lawyer                 28\n",
       "Realtor                26\n",
       "Software Developer     22\n",
       "Manager                22\n",
       "Not employed           19\n",
       "Project Manager        17\n",
       "Real Estate            15\n",
       "Marketing              13\n",
       "Name: Donor_Reported_Occupation, dtype: int64"
      ]
     },
     "execution_count": 31,
     "metadata": {},
     "output_type": "execute_result"
    }
   ],
   "source": [
    "df_propb['Donor_Reported_Occupation'].value_counts().nlargest(20)"
   ]
  },
  {
   "cell_type": "code",
   "execution_count": 32,
   "metadata": {
    "ExecuteTime": {
     "end_time": "2021-06-04T19:24:39.807768Z",
     "start_time": "2021-06-04T19:24:39.805694Z"
    }
   },
   "outputs": [],
   "source": [
    "import numpy as np"
   ]
  },
  {
   "cell_type": "code",
   "execution_count": 33,
   "metadata": {
    "ExecuteTime": {
     "end_time": "2021-06-04T19:24:39.812426Z",
     "start_time": "2021-06-04T19:24:39.809097Z"
    }
   },
   "outputs": [],
   "source": [
    "top_jobs = df_propb['Donor_Reported_Occupation'].value_counts().nlargest(20).index"
   ]
  },
  {
   "cell_type": "code",
   "execution_count": null,
   "metadata": {
    "ExecuteTime": {
     "end_time": "2021-06-02T23:01:58.317044Z",
     "start_time": "2021-06-02T23:01:58.297222Z"
    }
   },
   "outputs": [],
   "source": []
  },
  {
   "cell_type": "code",
   "execution_count": 34,
   "metadata": {
    "ExecuteTime": {
     "end_time": "2021-06-04T19:24:39.817653Z",
     "start_time": "2021-06-04T19:24:39.813403Z"
    }
   },
   "outputs": [
    {
     "data": {
      "text/plain": [
       "Retired               418\n",
       "Not Employed          164\n",
       "Best Efforts           70\n",
       "Attorney               48\n",
       "Software Engineer      43\n",
       "Owner                  36\n",
       "Consultant             36\n",
       "Sales                  34\n",
       "CEO                    34\n",
       "best effort            33\n",
       "Engineer               30\n",
       "Teacher                30\n",
       "Lawyer                 28\n",
       "Realtor                26\n",
       "Software Developer     22\n",
       "Manager                22\n",
       "Not employed           19\n",
       "Project Manager        17\n",
       "Real Estate            15\n",
       "Marketing              13\n",
       "Name: Donor_Reported_Occupation, dtype: int64"
      ]
     },
     "execution_count": 34,
     "metadata": {},
     "output_type": "execute_result"
    }
   ],
   "source": [
    "df_propb['Donor_Reported_Occupation'].value_counts().nlargest(20)"
   ]
  },
  {
   "cell_type": "code",
   "execution_count": 35,
   "metadata": {
    "ExecuteTime": {
     "end_time": "2021-06-04T19:24:39.823672Z",
     "start_time": "2021-06-04T19:24:39.818753Z"
    }
   },
   "outputs": [],
   "source": [
    "df_propb.replace(to_replace='best effort', value='Best Efforts', inplace=True)"
   ]
  },
  {
   "cell_type": "code",
   "execution_count": 36,
   "metadata": {
    "ExecuteTime": {
     "end_time": "2021-06-04T19:24:39.829838Z",
     "start_time": "2021-06-04T19:24:39.824678Z"
    }
   },
   "outputs": [
    {
     "data": {
      "text/plain": [
       "Retired               418\n",
       "Not Employed          164\n",
       "Best Efforts          103\n",
       "Attorney               48\n",
       "Software Engineer      43\n",
       "Owner                  36\n",
       "Consultant             36\n",
       "CEO                    34\n",
       "Sales                  34\n",
       "Engineer               30\n",
       "Teacher                30\n",
       "Lawyer                 28\n",
       "Realtor                26\n",
       "Software Developer     22\n",
       "Manager                22\n",
       "Not employed           19\n",
       "Project Manager        17\n",
       "Real Estate            15\n",
       "President              13\n",
       "Marketing              13\n",
       "Name: Donor_Reported_Occupation, dtype: int64"
      ]
     },
     "execution_count": 36,
     "metadata": {},
     "output_type": "execute_result"
    }
   ],
   "source": [
    "df_propb['Donor_Reported_Occupation'].value_counts().nlargest(20)"
   ]
  },
  {
   "cell_type": "code",
   "execution_count": 37,
   "metadata": {
    "ExecuteTime": {
     "end_time": "2021-06-04T19:24:39.835052Z",
     "start_time": "2021-06-04T19:24:39.830696Z"
    }
   },
   "outputs": [],
   "source": [
    "df_propb.replace(to_replace='Software Developer', value='Software Engineer', inplace=True)"
   ]
  },
  {
   "cell_type": "code",
   "execution_count": 38,
   "metadata": {
    "ExecuteTime": {
     "end_time": "2021-06-04T19:24:39.840778Z",
     "start_time": "2021-06-04T19:24:39.836187Z"
    }
   },
   "outputs": [
    {
     "data": {
      "text/plain": [
       "Retired              418\n",
       "Not Employed         164\n",
       "Best Efforts         103\n",
       "Software Engineer     65\n",
       "Attorney              48\n",
       "Consultant            36\n",
       "Owner                 36\n",
       "Sales                 34\n",
       "CEO                   34\n",
       "Engineer              30\n",
       "Teacher               30\n",
       "Lawyer                28\n",
       "Realtor               26\n",
       "Manager               22\n",
       "Not employed          19\n",
       "Project Manager       17\n",
       "Real Estate           15\n",
       "President             13\n",
       "Professor             13\n",
       "Marketing             13\n",
       "Name: Donor_Reported_Occupation, dtype: int64"
      ]
     },
     "execution_count": 38,
     "metadata": {},
     "output_type": "execute_result"
    }
   ],
   "source": [
    "df_propb['Donor_Reported_Occupation'].value_counts().nlargest(20)"
   ]
  },
  {
   "cell_type": "code",
   "execution_count": 39,
   "metadata": {
    "ExecuteTime": {
     "end_time": "2021-06-04T19:24:39.845766Z",
     "start_time": "2021-06-04T19:24:39.841704Z"
    }
   },
   "outputs": [],
   "source": [
    "df_propb.replace(to_replace='Not employed', value='Not Employed', inplace=True)"
   ]
  },
  {
   "cell_type": "code",
   "execution_count": 40,
   "metadata": {
    "ExecuteTime": {
     "end_time": "2021-06-04T19:24:39.851042Z",
     "start_time": "2021-06-04T19:24:39.846692Z"
    }
   },
   "outputs": [
    {
     "data": {
      "text/plain": [
       "Retired                          418\n",
       "Not Employed                     183\n",
       "Best Efforts                     103\n",
       "Software Engineer                 65\n",
       "Attorney                          48\n",
       "Consultant                        36\n",
       "Owner                             36\n",
       "CEO                               34\n",
       "Sales                             34\n",
       "Engineer                          30\n",
       "Teacher                           30\n",
       "Lawyer                            28\n",
       "Realtor                           26\n",
       "Manager                           22\n",
       "Project Manager                   17\n",
       "Real Estate                       15\n",
       "Professor                         13\n",
       "President                         13\n",
       "Marketing                         13\n",
       "Research & Evaluation Analyst     12\n",
       "Name: Donor_Reported_Occupation, dtype: int64"
      ]
     },
     "execution_count": 40,
     "metadata": {},
     "output_type": "execute_result"
    }
   ],
   "source": [
    "df_propb['Donor_Reported_Occupation'].value_counts(dropna=False).nlargest(20)"
   ]
  },
  {
   "cell_type": "code",
   "execution_count": 41,
   "metadata": {
    "ExecuteTime": {
     "end_time": "2021-06-04T19:24:39.857916Z",
     "start_time": "2021-06-04T19:24:39.852071Z"
    }
   },
   "outputs": [
    {
     "data": {
      "text/plain": [
       "0"
      ]
     },
     "execution_count": 41,
     "metadata": {},
     "output_type": "execute_result"
    }
   ],
   "source": [
    "df_propb['Donor_Reported_Occupation'].isna().sum()"
   ]
  },
  {
   "cell_type": "code",
   "execution_count": 42,
   "metadata": {
    "ExecuteTime": {
     "end_time": "2021-06-04T19:24:39.865065Z",
     "start_time": "2021-06-04T19:24:39.860657Z"
    }
   },
   "outputs": [],
   "source": [
    "df_propb.replace(to_replace='Best Efforts', value=np.nan, inplace=True)"
   ]
  },
  {
   "cell_type": "code",
   "execution_count": 43,
   "metadata": {
    "ExecuteTime": {
     "end_time": "2021-06-04T19:24:39.871717Z",
     "start_time": "2021-06-04T19:24:39.866046Z"
    }
   },
   "outputs": [
    {
     "data": {
      "text/plain": [
       "Donor                          0\n",
       "Recipient                      0\n",
       "Contribution_Amount            0\n",
       "Contribution_Date              0\n",
       "Donor_Address                  0\n",
       "City_State_Zip                 0\n",
       "Donor_Reported_Occupation    103\n",
       "Donor_Reported_Employer      455\n",
       "City                           0\n",
       "State                          0\n",
       "Zip                            0\n",
       "dtype: int64"
      ]
     },
     "execution_count": 43,
     "metadata": {},
     "output_type": "execute_result"
    }
   ],
   "source": [
    "df_propb.isna().sum()"
   ]
  },
  {
   "cell_type": "code",
   "execution_count": 44,
   "metadata": {
    "ExecuteTime": {
     "end_time": "2021-06-04T19:24:39.879187Z",
     "start_time": "2021-06-04T19:24:39.873191Z"
    }
   },
   "outputs": [
    {
     "data": {
      "text/plain": [
       "NaN                                        455\n",
       "Retired                                    417\n",
       "Self                                       180\n",
       "Not Employed                               126\n",
       "self                                        41\n",
       "ECHO                                        15\n",
       "City of Austin                              13\n",
       "Dell                                        11\n",
       "Ending Community Homelessness Coalition     11\n",
       "360Connect                                  10\n",
       "University of Texas                         10\n",
       "University of Texas at Austin               10\n",
       "Google                                       9\n",
       "Travis County                                9\n",
       "Andy Brown & Associates PLLC                 9\n",
       "none                                         9\n",
       "UT Austin                                    8\n",
       "Texas Appleseed                              7\n",
       "Dell Technologies                            6\n",
       "Self employed                                6\n",
       "Name: Donor_Reported_Employer, dtype: int64"
      ]
     },
     "execution_count": 44,
     "metadata": {},
     "output_type": "execute_result"
    }
   ],
   "source": [
    "df_propb['Donor_Reported_Employer'].value_counts(dropna=False).nlargest(20)"
   ]
  },
  {
   "cell_type": "code",
   "execution_count": 45,
   "metadata": {
    "ExecuteTime": {
     "end_time": "2021-06-04T19:24:39.883149Z",
     "start_time": "2021-06-04T19:24:39.880278Z"
    }
   },
   "outputs": [],
   "source": [
    "df_propb.drop(columns='Donor_Reported_Employer', inplace=True)"
   ]
  },
  {
   "cell_type": "code",
   "execution_count": 46,
   "metadata": {
    "ExecuteTime": {
     "end_time": "2021-06-04T19:24:39.887163Z",
     "start_time": "2021-06-04T19:24:39.884101Z"
    }
   },
   "outputs": [
    {
     "data": {
      "text/plain": [
       "(2565, 10)"
      ]
     },
     "execution_count": 46,
     "metadata": {},
     "output_type": "execute_result"
    }
   ],
   "source": [
    "df_propb.shape"
   ]
  },
  {
   "cell_type": "code",
   "execution_count": 47,
   "metadata": {
    "ExecuteTime": {
     "end_time": "2021-06-04T19:24:39.891140Z",
     "start_time": "2021-06-04T19:24:39.888498Z"
    }
   },
   "outputs": [],
   "source": [
    "df_propb.drop(columns=['City_State_Zip'], inplace=True)"
   ]
  },
  {
   "cell_type": "code",
   "execution_count": 48,
   "metadata": {
    "ExecuteTime": {
     "end_time": "2021-06-04T19:24:39.899315Z",
     "start_time": "2021-06-04T19:24:39.892248Z"
    }
   },
   "outputs": [
    {
     "data": {
      "text/html": [
       "<div>\n",
       "<style scoped>\n",
       "    .dataframe tbody tr th:only-of-type {\n",
       "        vertical-align: middle;\n",
       "    }\n",
       "\n",
       "    .dataframe tbody tr th {\n",
       "        vertical-align: top;\n",
       "    }\n",
       "\n",
       "    .dataframe thead th {\n",
       "        text-align: right;\n",
       "    }\n",
       "</style>\n",
       "<table border=\"1\" class=\"dataframe\">\n",
       "  <thead>\n",
       "    <tr style=\"text-align: right;\">\n",
       "      <th></th>\n",
       "      <th>Donor</th>\n",
       "      <th>Recipient</th>\n",
       "      <th>Contribution_Amount</th>\n",
       "      <th>Contribution_Date</th>\n",
       "      <th>Donor_Address</th>\n",
       "      <th>Donor_Reported_Occupation</th>\n",
       "      <th>City</th>\n",
       "      <th>State</th>\n",
       "      <th>Zip</th>\n",
       "    </tr>\n",
       "  </thead>\n",
       "  <tbody>\n",
       "    <tr>\n",
       "      <th>18988</th>\n",
       "      <td>Luepke, Erich</td>\n",
       "      <td>Homes Not Handcuffs</td>\n",
       "      <td>1.0</td>\n",
       "      <td>03/22/2021</td>\n",
       "      <td>1157 Clinton Avenue</td>\n",
       "      <td>Not Employed</td>\n",
       "      <td>Oak Park</td>\n",
       "      <td>IL</td>\n",
       "      <td>60304</td>\n",
       "    </tr>\n",
       "    <tr>\n",
       "      <th>28863</th>\n",
       "      <td>Lowery, Christopher</td>\n",
       "      <td>Homes Not Handcuffs</td>\n",
       "      <td>25.0</td>\n",
       "      <td>03/30/2021</td>\n",
       "      <td>12415 Turtleback Ln</td>\n",
       "      <td>Scientist</td>\n",
       "      <td>Austin</td>\n",
       "      <td>TX</td>\n",
       "      <td>78727</td>\n",
       "    </tr>\n",
       "    <tr>\n",
       "      <th>36686</th>\n",
       "      <td>Maxwell, Felicity</td>\n",
       "      <td>Homes Not Handcuffs</td>\n",
       "      <td>100.0</td>\n",
       "      <td>04/15/2021</td>\n",
       "      <td>2121 Melridge Pl</td>\n",
       "      <td>Business Owner</td>\n",
       "      <td>Austin</td>\n",
       "      <td>TX</td>\n",
       "      <td>78704</td>\n",
       "    </tr>\n",
       "    <tr>\n",
       "      <th>37970</th>\n",
       "      <td>Lee, David</td>\n",
       "      <td>Homes Not Handcuffs</td>\n",
       "      <td>25.0</td>\n",
       "      <td>03/31/2021</td>\n",
       "      <td>1000 E 5th St Apt 659</td>\n",
       "      <td>Writer</td>\n",
       "      <td>Austin</td>\n",
       "      <td>TX</td>\n",
       "      <td>78702</td>\n",
       "    </tr>\n",
       "    <tr>\n",
       "      <th>43243</th>\n",
       "      <td>Griffith, Idona</td>\n",
       "      <td>Homes Not Handcuffs</td>\n",
       "      <td>25.0</td>\n",
       "      <td>03/19/2021</td>\n",
       "      <td>5705 Puccoon Cove</td>\n",
       "      <td>Not Employed</td>\n",
       "      <td>Austin</td>\n",
       "      <td>TX</td>\n",
       "      <td>78759</td>\n",
       "    </tr>\n",
       "  </tbody>\n",
       "</table>\n",
       "</div>"
      ],
      "text/plain": [
       "                     Donor            Recipient  Contribution_Amount  \\\n",
       "18988        Luepke, Erich  Homes Not Handcuffs                  1.0   \n",
       "28863  Lowery, Christopher  Homes Not Handcuffs                 25.0   \n",
       "36686    Maxwell, Felicity  Homes Not Handcuffs                100.0   \n",
       "37970           Lee, David  Homes Not Handcuffs                 25.0   \n",
       "43243      Griffith, Idona  Homes Not Handcuffs                 25.0   \n",
       "\n",
       "      Contribution_Date          Donor_Address Donor_Reported_Occupation  \\\n",
       "18988        03/22/2021    1157 Clinton Avenue              Not Employed   \n",
       "28863        03/30/2021    12415 Turtleback Ln                 Scientist   \n",
       "36686        04/15/2021       2121 Melridge Pl            Business Owner   \n",
       "37970        03/31/2021  1000 E 5th St Apt 659                    Writer   \n",
       "43243        03/19/2021      5705 Puccoon Cove              Not Employed   \n",
       "\n",
       "           City State    Zip  \n",
       "18988  Oak Park    IL  60304  \n",
       "28863    Austin    TX  78727  \n",
       "36686    Austin    TX  78704  \n",
       "37970    Austin    TX  78702  \n",
       "43243    Austin    TX  78759  "
      ]
     },
     "execution_count": 48,
     "metadata": {},
     "output_type": "execute_result"
    }
   ],
   "source": [
    "df_propb.head()"
   ]
  },
  {
   "cell_type": "code",
   "execution_count": 49,
   "metadata": {
    "ExecuteTime": {
     "end_time": "2021-06-04T19:24:39.903771Z",
     "start_time": "2021-06-04T19:24:39.900306Z"
    }
   },
   "outputs": [],
   "source": [
    "df_propb['in_city']= df_propb['City'].map(lambda x: True if x=='Austin' else False)"
   ]
  },
  {
   "cell_type": "code",
   "execution_count": 50,
   "metadata": {
    "ExecuteTime": {
     "end_time": "2021-06-04T19:24:39.911624Z",
     "start_time": "2021-06-04T19:24:39.904706Z"
    }
   },
   "outputs": [
    {
     "data": {
      "text/html": [
       "<div>\n",
       "<style scoped>\n",
       "    .dataframe tbody tr th:only-of-type {\n",
       "        vertical-align: middle;\n",
       "    }\n",
       "\n",
       "    .dataframe tbody tr th {\n",
       "        vertical-align: top;\n",
       "    }\n",
       "\n",
       "    .dataframe thead th {\n",
       "        text-align: right;\n",
       "    }\n",
       "</style>\n",
       "<table border=\"1\" class=\"dataframe\">\n",
       "  <thead>\n",
       "    <tr style=\"text-align: right;\">\n",
       "      <th></th>\n",
       "      <th>Donor</th>\n",
       "      <th>Recipient</th>\n",
       "      <th>Contribution_Amount</th>\n",
       "      <th>Contribution_Date</th>\n",
       "      <th>Donor_Address</th>\n",
       "      <th>Donor_Reported_Occupation</th>\n",
       "      <th>City</th>\n",
       "      <th>State</th>\n",
       "      <th>Zip</th>\n",
       "      <th>in_city</th>\n",
       "    </tr>\n",
       "  </thead>\n",
       "  <tbody>\n",
       "    <tr>\n",
       "      <th>18988</th>\n",
       "      <td>Luepke, Erich</td>\n",
       "      <td>Homes Not Handcuffs</td>\n",
       "      <td>1.0</td>\n",
       "      <td>03/22/2021</td>\n",
       "      <td>1157 Clinton Avenue</td>\n",
       "      <td>Not Employed</td>\n",
       "      <td>Oak Park</td>\n",
       "      <td>IL</td>\n",
       "      <td>60304</td>\n",
       "      <td>False</td>\n",
       "    </tr>\n",
       "    <tr>\n",
       "      <th>28863</th>\n",
       "      <td>Lowery, Christopher</td>\n",
       "      <td>Homes Not Handcuffs</td>\n",
       "      <td>25.0</td>\n",
       "      <td>03/30/2021</td>\n",
       "      <td>12415 Turtleback Ln</td>\n",
       "      <td>Scientist</td>\n",
       "      <td>Austin</td>\n",
       "      <td>TX</td>\n",
       "      <td>78727</td>\n",
       "      <td>True</td>\n",
       "    </tr>\n",
       "    <tr>\n",
       "      <th>36686</th>\n",
       "      <td>Maxwell, Felicity</td>\n",
       "      <td>Homes Not Handcuffs</td>\n",
       "      <td>100.0</td>\n",
       "      <td>04/15/2021</td>\n",
       "      <td>2121 Melridge Pl</td>\n",
       "      <td>Business Owner</td>\n",
       "      <td>Austin</td>\n",
       "      <td>TX</td>\n",
       "      <td>78704</td>\n",
       "      <td>True</td>\n",
       "    </tr>\n",
       "    <tr>\n",
       "      <th>37970</th>\n",
       "      <td>Lee, David</td>\n",
       "      <td>Homes Not Handcuffs</td>\n",
       "      <td>25.0</td>\n",
       "      <td>03/31/2021</td>\n",
       "      <td>1000 E 5th St Apt 659</td>\n",
       "      <td>Writer</td>\n",
       "      <td>Austin</td>\n",
       "      <td>TX</td>\n",
       "      <td>78702</td>\n",
       "      <td>True</td>\n",
       "    </tr>\n",
       "    <tr>\n",
       "      <th>43243</th>\n",
       "      <td>Griffith, Idona</td>\n",
       "      <td>Homes Not Handcuffs</td>\n",
       "      <td>25.0</td>\n",
       "      <td>03/19/2021</td>\n",
       "      <td>5705 Puccoon Cove</td>\n",
       "      <td>Not Employed</td>\n",
       "      <td>Austin</td>\n",
       "      <td>TX</td>\n",
       "      <td>78759</td>\n",
       "      <td>True</td>\n",
       "    </tr>\n",
       "  </tbody>\n",
       "</table>\n",
       "</div>"
      ],
      "text/plain": [
       "                     Donor            Recipient  Contribution_Amount  \\\n",
       "18988        Luepke, Erich  Homes Not Handcuffs                  1.0   \n",
       "28863  Lowery, Christopher  Homes Not Handcuffs                 25.0   \n",
       "36686    Maxwell, Felicity  Homes Not Handcuffs                100.0   \n",
       "37970           Lee, David  Homes Not Handcuffs                 25.0   \n",
       "43243      Griffith, Idona  Homes Not Handcuffs                 25.0   \n",
       "\n",
       "      Contribution_Date          Donor_Address Donor_Reported_Occupation  \\\n",
       "18988        03/22/2021    1157 Clinton Avenue              Not Employed   \n",
       "28863        03/30/2021    12415 Turtleback Ln                 Scientist   \n",
       "36686        04/15/2021       2121 Melridge Pl            Business Owner   \n",
       "37970        03/31/2021  1000 E 5th St Apt 659                    Writer   \n",
       "43243        03/19/2021      5705 Puccoon Cove              Not Employed   \n",
       "\n",
       "           City State    Zip  in_city  \n",
       "18988  Oak Park    IL  60304    False  \n",
       "28863    Austin    TX  78727     True  \n",
       "36686    Austin    TX  78704     True  \n",
       "37970    Austin    TX  78702     True  \n",
       "43243    Austin    TX  78759     True  "
      ]
     },
     "execution_count": 50,
     "metadata": {},
     "output_type": "execute_result"
    }
   ],
   "source": [
    "df_propb.head()"
   ]
  },
  {
   "cell_type": "code",
   "execution_count": 51,
   "metadata": {
    "ExecuteTime": {
     "end_time": "2021-06-04T19:24:39.914300Z",
     "start_time": "2021-06-04T19:24:39.912531Z"
    }
   },
   "outputs": [],
   "source": [
    "df=df_propb.copy()"
   ]
  },
  {
   "cell_type": "code",
   "execution_count": 52,
   "metadata": {
    "ExecuteTime": {
     "end_time": "2021-06-04T19:24:39.916869Z",
     "start_time": "2021-06-04T19:24:39.915128Z"
    }
   },
   "outputs": [],
   "source": [
    "def apt_checker(x):\n",
    "    if 'Apt' in x:\n",
    "        return True\n",
    "    elif 'Unit' in x:\n",
    "        return True\n",
    "    elif '#' in x:\n",
    "        return True\n",
    "    else:\n",
    "        return False"
   ]
  },
  {
   "cell_type": "code",
   "execution_count": 53,
   "metadata": {
    "ExecuteTime": {
     "end_time": "2021-06-04T19:24:39.920743Z",
     "start_time": "2021-06-04T19:24:39.917721Z"
    }
   },
   "outputs": [],
   "source": [
    "df['is_apt'] = df['Donor_Address'].apply(apt_checker)"
   ]
  },
  {
   "cell_type": "code",
   "execution_count": 54,
   "metadata": {
    "ExecuteTime": {
     "end_time": "2021-06-04T19:24:39.925290Z",
     "start_time": "2021-06-04T19:24:39.921637Z"
    }
   },
   "outputs": [
    {
     "data": {
      "text/plain": [
       "False    0.859259\n",
       "True     0.140741\n",
       "Name: is_apt, dtype: float64"
      ]
     },
     "execution_count": 54,
     "metadata": {},
     "output_type": "execute_result"
    }
   ],
   "source": [
    "df['is_apt'].value_counts(1)"
   ]
  },
  {
   "cell_type": "code",
   "execution_count": 55,
   "metadata": {
    "ExecuteTime": {
     "end_time": "2021-06-04T19:24:39.933359Z",
     "start_time": "2021-06-04T19:24:39.926134Z"
    }
   },
   "outputs": [
    {
     "data": {
      "text/html": [
       "<div>\n",
       "<style scoped>\n",
       "    .dataframe tbody tr th:only-of-type {\n",
       "        vertical-align: middle;\n",
       "    }\n",
       "\n",
       "    .dataframe tbody tr th {\n",
       "        vertical-align: top;\n",
       "    }\n",
       "\n",
       "    .dataframe thead th {\n",
       "        text-align: right;\n",
       "    }\n",
       "</style>\n",
       "<table border=\"1\" class=\"dataframe\">\n",
       "  <thead>\n",
       "    <tr style=\"text-align: right;\">\n",
       "      <th></th>\n",
       "      <th>Donor</th>\n",
       "      <th>Recipient</th>\n",
       "      <th>Contribution_Amount</th>\n",
       "      <th>Contribution_Date</th>\n",
       "      <th>Donor_Address</th>\n",
       "      <th>Donor_Reported_Occupation</th>\n",
       "      <th>City</th>\n",
       "      <th>State</th>\n",
       "      <th>Zip</th>\n",
       "      <th>in_city</th>\n",
       "      <th>is_apt</th>\n",
       "    </tr>\n",
       "  </thead>\n",
       "  <tbody>\n",
       "    <tr>\n",
       "      <th>18988</th>\n",
       "      <td>Luepke, Erich</td>\n",
       "      <td>Homes Not Handcuffs</td>\n",
       "      <td>1.0</td>\n",
       "      <td>03/22/2021</td>\n",
       "      <td>1157 Clinton Avenue</td>\n",
       "      <td>Not Employed</td>\n",
       "      <td>Oak Park</td>\n",
       "      <td>IL</td>\n",
       "      <td>60304</td>\n",
       "      <td>False</td>\n",
       "      <td>False</td>\n",
       "    </tr>\n",
       "    <tr>\n",
       "      <th>28863</th>\n",
       "      <td>Lowery, Christopher</td>\n",
       "      <td>Homes Not Handcuffs</td>\n",
       "      <td>25.0</td>\n",
       "      <td>03/30/2021</td>\n",
       "      <td>12415 Turtleback Ln</td>\n",
       "      <td>Scientist</td>\n",
       "      <td>Austin</td>\n",
       "      <td>TX</td>\n",
       "      <td>78727</td>\n",
       "      <td>True</td>\n",
       "      <td>False</td>\n",
       "    </tr>\n",
       "    <tr>\n",
       "      <th>36686</th>\n",
       "      <td>Maxwell, Felicity</td>\n",
       "      <td>Homes Not Handcuffs</td>\n",
       "      <td>100.0</td>\n",
       "      <td>04/15/2021</td>\n",
       "      <td>2121 Melridge Pl</td>\n",
       "      <td>Business Owner</td>\n",
       "      <td>Austin</td>\n",
       "      <td>TX</td>\n",
       "      <td>78704</td>\n",
       "      <td>True</td>\n",
       "      <td>False</td>\n",
       "    </tr>\n",
       "    <tr>\n",
       "      <th>37970</th>\n",
       "      <td>Lee, David</td>\n",
       "      <td>Homes Not Handcuffs</td>\n",
       "      <td>25.0</td>\n",
       "      <td>03/31/2021</td>\n",
       "      <td>1000 E 5th St Apt 659</td>\n",
       "      <td>Writer</td>\n",
       "      <td>Austin</td>\n",
       "      <td>TX</td>\n",
       "      <td>78702</td>\n",
       "      <td>True</td>\n",
       "      <td>True</td>\n",
       "    </tr>\n",
       "    <tr>\n",
       "      <th>43243</th>\n",
       "      <td>Griffith, Idona</td>\n",
       "      <td>Homes Not Handcuffs</td>\n",
       "      <td>25.0</td>\n",
       "      <td>03/19/2021</td>\n",
       "      <td>5705 Puccoon Cove</td>\n",
       "      <td>Not Employed</td>\n",
       "      <td>Austin</td>\n",
       "      <td>TX</td>\n",
       "      <td>78759</td>\n",
       "      <td>True</td>\n",
       "      <td>False</td>\n",
       "    </tr>\n",
       "  </tbody>\n",
       "</table>\n",
       "</div>"
      ],
      "text/plain": [
       "                     Donor            Recipient  Contribution_Amount  \\\n",
       "18988        Luepke, Erich  Homes Not Handcuffs                  1.0   \n",
       "28863  Lowery, Christopher  Homes Not Handcuffs                 25.0   \n",
       "36686    Maxwell, Felicity  Homes Not Handcuffs                100.0   \n",
       "37970           Lee, David  Homes Not Handcuffs                 25.0   \n",
       "43243      Griffith, Idona  Homes Not Handcuffs                 25.0   \n",
       "\n",
       "      Contribution_Date          Donor_Address Donor_Reported_Occupation  \\\n",
       "18988        03/22/2021    1157 Clinton Avenue              Not Employed   \n",
       "28863        03/30/2021    12415 Turtleback Ln                 Scientist   \n",
       "36686        04/15/2021       2121 Melridge Pl            Business Owner   \n",
       "37970        03/31/2021  1000 E 5th St Apt 659                    Writer   \n",
       "43243        03/19/2021      5705 Puccoon Cove              Not Employed   \n",
       "\n",
       "           City State    Zip  in_city  is_apt  \n",
       "18988  Oak Park    IL  60304    False   False  \n",
       "28863    Austin    TX  78727     True   False  \n",
       "36686    Austin    TX  78704     True   False  \n",
       "37970    Austin    TX  78702     True    True  \n",
       "43243    Austin    TX  78759     True   False  "
      ]
     },
     "execution_count": 55,
     "metadata": {},
     "output_type": "execute_result"
    }
   ],
   "source": [
    "df.head()"
   ]
  },
  {
   "cell_type": "code",
   "execution_count": 56,
   "metadata": {
    "ExecuteTime": {
     "end_time": "2021-06-04T19:24:39.937640Z",
     "start_time": "2021-06-04T19:24:39.934358Z"
    }
   },
   "outputs": [],
   "source": [
    "df.drop(columns=['Donor_Address'], inplace=True)"
   ]
  },
  {
   "cell_type": "code",
   "execution_count": 57,
   "metadata": {
    "ExecuteTime": {
     "end_time": "2021-06-04T19:24:39.945383Z",
     "start_time": "2021-06-04T19:24:39.938551Z"
    }
   },
   "outputs": [
    {
     "data": {
      "text/html": [
       "<div>\n",
       "<style scoped>\n",
       "    .dataframe tbody tr th:only-of-type {\n",
       "        vertical-align: middle;\n",
       "    }\n",
       "\n",
       "    .dataframe tbody tr th {\n",
       "        vertical-align: top;\n",
       "    }\n",
       "\n",
       "    .dataframe thead th {\n",
       "        text-align: right;\n",
       "    }\n",
       "</style>\n",
       "<table border=\"1\" class=\"dataframe\">\n",
       "  <thead>\n",
       "    <tr style=\"text-align: right;\">\n",
       "      <th></th>\n",
       "      <th>Donor</th>\n",
       "      <th>Recipient</th>\n",
       "      <th>Contribution_Amount</th>\n",
       "      <th>Contribution_Date</th>\n",
       "      <th>Donor_Reported_Occupation</th>\n",
       "      <th>City</th>\n",
       "      <th>State</th>\n",
       "      <th>Zip</th>\n",
       "      <th>in_city</th>\n",
       "      <th>is_apt</th>\n",
       "    </tr>\n",
       "  </thead>\n",
       "  <tbody>\n",
       "    <tr>\n",
       "      <th>18988</th>\n",
       "      <td>Luepke, Erich</td>\n",
       "      <td>Homes Not Handcuffs</td>\n",
       "      <td>1.0</td>\n",
       "      <td>03/22/2021</td>\n",
       "      <td>Not Employed</td>\n",
       "      <td>Oak Park</td>\n",
       "      <td>IL</td>\n",
       "      <td>60304</td>\n",
       "      <td>False</td>\n",
       "      <td>False</td>\n",
       "    </tr>\n",
       "    <tr>\n",
       "      <th>28863</th>\n",
       "      <td>Lowery, Christopher</td>\n",
       "      <td>Homes Not Handcuffs</td>\n",
       "      <td>25.0</td>\n",
       "      <td>03/30/2021</td>\n",
       "      <td>Scientist</td>\n",
       "      <td>Austin</td>\n",
       "      <td>TX</td>\n",
       "      <td>78727</td>\n",
       "      <td>True</td>\n",
       "      <td>False</td>\n",
       "    </tr>\n",
       "    <tr>\n",
       "      <th>36686</th>\n",
       "      <td>Maxwell, Felicity</td>\n",
       "      <td>Homes Not Handcuffs</td>\n",
       "      <td>100.0</td>\n",
       "      <td>04/15/2021</td>\n",
       "      <td>Business Owner</td>\n",
       "      <td>Austin</td>\n",
       "      <td>TX</td>\n",
       "      <td>78704</td>\n",
       "      <td>True</td>\n",
       "      <td>False</td>\n",
       "    </tr>\n",
       "    <tr>\n",
       "      <th>37970</th>\n",
       "      <td>Lee, David</td>\n",
       "      <td>Homes Not Handcuffs</td>\n",
       "      <td>25.0</td>\n",
       "      <td>03/31/2021</td>\n",
       "      <td>Writer</td>\n",
       "      <td>Austin</td>\n",
       "      <td>TX</td>\n",
       "      <td>78702</td>\n",
       "      <td>True</td>\n",
       "      <td>True</td>\n",
       "    </tr>\n",
       "    <tr>\n",
       "      <th>43243</th>\n",
       "      <td>Griffith, Idona</td>\n",
       "      <td>Homes Not Handcuffs</td>\n",
       "      <td>25.0</td>\n",
       "      <td>03/19/2021</td>\n",
       "      <td>Not Employed</td>\n",
       "      <td>Austin</td>\n",
       "      <td>TX</td>\n",
       "      <td>78759</td>\n",
       "      <td>True</td>\n",
       "      <td>False</td>\n",
       "    </tr>\n",
       "  </tbody>\n",
       "</table>\n",
       "</div>"
      ],
      "text/plain": [
       "                     Donor            Recipient  Contribution_Amount  \\\n",
       "18988        Luepke, Erich  Homes Not Handcuffs                  1.0   \n",
       "28863  Lowery, Christopher  Homes Not Handcuffs                 25.0   \n",
       "36686    Maxwell, Felicity  Homes Not Handcuffs                100.0   \n",
       "37970           Lee, David  Homes Not Handcuffs                 25.0   \n",
       "43243      Griffith, Idona  Homes Not Handcuffs                 25.0   \n",
       "\n",
       "      Contribution_Date Donor_Reported_Occupation      City State    Zip  \\\n",
       "18988        03/22/2021              Not Employed  Oak Park    IL  60304   \n",
       "28863        03/30/2021                 Scientist    Austin    TX  78727   \n",
       "36686        04/15/2021            Business Owner    Austin    TX  78704   \n",
       "37970        03/31/2021                    Writer    Austin    TX  78702   \n",
       "43243        03/19/2021              Not Employed    Austin    TX  78759   \n",
       "\n",
       "       in_city  is_apt  \n",
       "18988    False   False  \n",
       "28863     True   False  \n",
       "36686     True   False  \n",
       "37970     True    True  \n",
       "43243     True   False  "
      ]
     },
     "execution_count": 57,
     "metadata": {},
     "output_type": "execute_result"
    }
   ],
   "source": [
    "df.head()"
   ]
  },
  {
   "cell_type": "code",
   "execution_count": 58,
   "metadata": {
    "ExecuteTime": {
     "end_time": "2021-06-04T19:24:40.006676Z",
     "start_time": "2021-06-04T19:24:39.946376Z"
    }
   },
   "outputs": [
    {
     "data": {
      "text/plain": [
       "<AxesSubplot:xlabel='Contribution_Amount'>"
      ]
     },
     "execution_count": 58,
     "metadata": {},
     "output_type": "execute_result"
    },
    {
     "data": {
      "image/png": "[encoded data removed]",
      "text/plain": [
       "<Figure size 432x288 with 1 Axes>"
      ]
     },
     "metadata": {
      "needs_background": "light"
     },
     "output_type": "display_data"
    }
   ],
   "source": [
    "import seaborn as sns\n",
    "sns.boxplot(data=df, x='Contribution_Amount')"
   ]
  },
  {
   "cell_type": "code",
   "execution_count": 59,
   "metadata": {
    "ExecuteTime": {
     "end_time": "2021-06-04T19:24:40.012376Z",
     "start_time": "2021-06-04T19:24:40.007744Z"
    }
   },
   "outputs": [
    {
     "data": {
      "text/plain": [
       "18988        1.0\n",
       "46851        1.0\n",
       "43422        1.0\n",
       "43341        1.0\n",
       "43455        1.0\n",
       "          ...   \n",
       "50052    50000.0\n",
       "51376    50000.0\n",
       "50085    50000.0\n",
       "50142    50000.0\n",
       "47244    98000.0\n",
       "Name: Contribution_Amount, Length: 2565, dtype: float64"
      ]
     },
     "execution_count": 59,
     "metadata": {},
     "output_type": "execute_result"
    }
   ],
   "source": [
    "df['Contribution_Amount'].sort_values()"
   ]
  },
  {
   "cell_type": "code",
   "execution_count": 60,
   "metadata": {
    "ExecuteTime": {
     "end_time": "2021-06-04T19:24:40.020515Z",
     "start_time": "2021-06-04T19:24:40.013356Z"
    }
   },
   "outputs": [
    {
     "data": {
      "text/html": [
       "<div>\n",
       "<style scoped>\n",
       "    .dataframe tbody tr th:only-of-type {\n",
       "        vertical-align: middle;\n",
       "    }\n",
       "\n",
       "    .dataframe tbody tr th {\n",
       "        vertical-align: top;\n",
       "    }\n",
       "\n",
       "    .dataframe thead th {\n",
       "        text-align: right;\n",
       "    }\n",
       "</style>\n",
       "<table border=\"1\" class=\"dataframe\">\n",
       "  <thead>\n",
       "    <tr style=\"text-align: right;\">\n",
       "      <th></th>\n",
       "      <th>Donor</th>\n",
       "      <th>Recipient</th>\n",
       "      <th>Contribution_Amount</th>\n",
       "      <th>Contribution_Date</th>\n",
       "      <th>Donor_Reported_Occupation</th>\n",
       "      <th>City</th>\n",
       "      <th>State</th>\n",
       "      <th>Zip</th>\n",
       "      <th>in_city</th>\n",
       "      <th>is_apt</th>\n",
       "    </tr>\n",
       "  </thead>\n",
       "  <tbody>\n",
       "    <tr>\n",
       "      <th>18988</th>\n",
       "      <td>Luepke, Erich</td>\n",
       "      <td>Homes Not Handcuffs</td>\n",
       "      <td>1.0</td>\n",
       "      <td>03/22/2021</td>\n",
       "      <td>Not Employed</td>\n",
       "      <td>Oak Park</td>\n",
       "      <td>IL</td>\n",
       "      <td>60304</td>\n",
       "      <td>False</td>\n",
       "      <td>False</td>\n",
       "    </tr>\n",
       "    <tr>\n",
       "      <th>28863</th>\n",
       "      <td>Lowery, Christopher</td>\n",
       "      <td>Homes Not Handcuffs</td>\n",
       "      <td>25.0</td>\n",
       "      <td>03/30/2021</td>\n",
       "      <td>Scientist</td>\n",
       "      <td>Austin</td>\n",
       "      <td>TX</td>\n",
       "      <td>78727</td>\n",
       "      <td>True</td>\n",
       "      <td>False</td>\n",
       "    </tr>\n",
       "    <tr>\n",
       "      <th>36686</th>\n",
       "      <td>Maxwell, Felicity</td>\n",
       "      <td>Homes Not Handcuffs</td>\n",
       "      <td>100.0</td>\n",
       "      <td>04/15/2021</td>\n",
       "      <td>Business Owner</td>\n",
       "      <td>Austin</td>\n",
       "      <td>TX</td>\n",
       "      <td>78704</td>\n",
       "      <td>True</td>\n",
       "      <td>False</td>\n",
       "    </tr>\n",
       "    <tr>\n",
       "      <th>37970</th>\n",
       "      <td>Lee, David</td>\n",
       "      <td>Homes Not Handcuffs</td>\n",
       "      <td>25.0</td>\n",
       "      <td>03/31/2021</td>\n",
       "      <td>Writer</td>\n",
       "      <td>Austin</td>\n",
       "      <td>TX</td>\n",
       "      <td>78702</td>\n",
       "      <td>True</td>\n",
       "      <td>True</td>\n",
       "    </tr>\n",
       "    <tr>\n",
       "      <th>43243</th>\n",
       "      <td>Griffith, Idona</td>\n",
       "      <td>Homes Not Handcuffs</td>\n",
       "      <td>25.0</td>\n",
       "      <td>03/19/2021</td>\n",
       "      <td>Not Employed</td>\n",
       "      <td>Austin</td>\n",
       "      <td>TX</td>\n",
       "      <td>78759</td>\n",
       "      <td>True</td>\n",
       "      <td>False</td>\n",
       "    </tr>\n",
       "  </tbody>\n",
       "</table>\n",
       "</div>"
      ],
      "text/plain": [
       "                     Donor            Recipient  Contribution_Amount  \\\n",
       "18988        Luepke, Erich  Homes Not Handcuffs                  1.0   \n",
       "28863  Lowery, Christopher  Homes Not Handcuffs                 25.0   \n",
       "36686    Maxwell, Felicity  Homes Not Handcuffs                100.0   \n",
       "37970           Lee, David  Homes Not Handcuffs                 25.0   \n",
       "43243      Griffith, Idona  Homes Not Handcuffs                 25.0   \n",
       "\n",
       "      Contribution_Date Donor_Reported_Occupation      City State    Zip  \\\n",
       "18988        03/22/2021              Not Employed  Oak Park    IL  60304   \n",
       "28863        03/30/2021                 Scientist    Austin    TX  78727   \n",
       "36686        04/15/2021            Business Owner    Austin    TX  78704   \n",
       "37970        03/31/2021                    Writer    Austin    TX  78702   \n",
       "43243        03/19/2021              Not Employed    Austin    TX  78759   \n",
       "\n",
       "       in_city  is_apt  \n",
       "18988    False   False  \n",
       "28863     True   False  \n",
       "36686     True   False  \n",
       "37970     True    True  \n",
       "43243     True   False  "
      ]
     },
     "execution_count": 60,
     "metadata": {},
     "output_type": "execute_result"
    }
   ],
   "source": [
    "df.head()"
   ]
  },
  {
   "cell_type": "markdown",
   "metadata": {},
   "source": [
    "Logistic Regression Assumptions\n",
    "\n",
    "- Observations must be independent\n",
    "- Little multicollinearity (dependent variables are not highly correlated)\n",
    "- No extreme outliers\n",
    "- nan Linear relationship between features and log odds"
   ]
  },
  {
   "cell_type": "code",
   "execution_count": 61,
   "metadata": {
    "ExecuteTime": {
     "end_time": "2021-06-04T19:24:40.023083Z",
     "start_time": "2021-06-04T19:24:40.021487Z"
    }
   },
   "outputs": [],
   "source": [
    "from datetime import date\n",
    "\n",
    "today = date.today()"
   ]
  },
  {
   "cell_type": "code",
   "execution_count": 62,
   "metadata": {
    "ExecuteTime": {
     "end_time": "2021-06-04T19:24:40.025962Z",
     "start_time": "2021-06-04T19:24:40.023965Z"
    }
   },
   "outputs": [],
   "source": [
    "def zip_fixer(zip_):\n",
    "    if str(zip_).startswith('783'):\n",
    "        return zip_\n",
    "    elif str(zip_).startswith('786'):\n",
    "        return zip_\n",
    "    elif str(zip_).startswith('787'):\n",
    "        return zip_\n",
    "    else:\n",
    "        return 'OOA'"
   ]
  },
  {
   "cell_type": "code",
   "execution_count": 63,
   "metadata": {
    "ExecuteTime": {
     "end_time": "2021-06-04T19:24:40.028467Z",
     "start_time": "2021-06-04T19:24:40.026752Z"
    }
   },
   "outputs": [
    {
     "data": {
      "text/plain": [
       "datetime.date(2021, 6, 4)"
      ]
     },
     "execution_count": 63,
     "metadata": {},
     "output_type": "execute_result"
    }
   ],
   "source": [
    "today"
   ]
  },
  {
   "cell_type": "code",
   "execution_count": 64,
   "metadata": {
    "ExecuteTime": {
     "end_time": "2021-06-04T19:24:40.033519Z",
     "start_time": "2021-06-04T19:24:40.029239Z"
    }
   },
   "outputs": [],
   "source": [
    "df['Contribution_Date'] = pd.to_datetime(df['Contribution_Date'])"
   ]
  },
  {
   "cell_type": "code",
   "execution_count": 65,
   "metadata": {
    "ExecuteTime": {
     "end_time": "2021-06-04T19:24:40.037967Z",
     "start_time": "2021-06-04T19:24:40.034382Z"
    }
   },
   "outputs": [],
   "source": [
    "df_propb['Zip'] =df_propb['Zip'].apply(zip_fixer)"
   ]
  },
  {
   "cell_type": "code",
   "execution_count": 66,
   "metadata": {
    "ExecuteTime": {
     "end_time": "2021-06-04T19:24:40.044102Z",
     "start_time": "2021-06-04T19:24:40.038868Z"
    }
   },
   "outputs": [],
   "source": [
    "df_zips = df_propb.groupby(by='Zip')['Contribution_Amount'].agg(['mean', 'median', 'count'])"
   ]
  },
  {
   "cell_type": "code",
   "execution_count": 67,
   "metadata": {
    "ExecuteTime": {
     "end_time": "2021-06-04T19:24:40.059577Z",
     "start_time": "2021-06-04T19:24:40.052801Z"
    }
   },
   "outputs": [
    {
     "data": {
      "text/html": [
       "<div>\n",
       "<style scoped>\n",
       "    .dataframe tbody tr th:only-of-type {\n",
       "        vertical-align: middle;\n",
       "    }\n",
       "\n",
       "    .dataframe tbody tr th {\n",
       "        vertical-align: top;\n",
       "    }\n",
       "\n",
       "    .dataframe thead th {\n",
       "        text-align: right;\n",
       "    }\n",
       "</style>\n",
       "<table border=\"1\" class=\"dataframe\">\n",
       "  <thead>\n",
       "    <tr style=\"text-align: right;\">\n",
       "      <th></th>\n",
       "      <th>mean</th>\n",
       "      <th>median</th>\n",
       "      <th>count</th>\n",
       "    </tr>\n",
       "    <tr>\n",
       "      <th>Zip</th>\n",
       "      <th></th>\n",
       "      <th></th>\n",
       "      <th></th>\n",
       "    </tr>\n",
       "  </thead>\n",
       "  <tbody>\n",
       "    <tr>\n",
       "      <th>OOA</th>\n",
       "      <td>359.537697</td>\n",
       "      <td>8.34</td>\n",
       "      <td>547</td>\n",
       "    </tr>\n",
       "    <tr>\n",
       "      <th>78703</th>\n",
       "      <td>793.408563</td>\n",
       "      <td>100.00</td>\n",
       "      <td>174</td>\n",
       "    </tr>\n",
       "    <tr>\n",
       "      <th>78746</th>\n",
       "      <td>816.922078</td>\n",
       "      <td>100.00</td>\n",
       "      <td>154</td>\n",
       "    </tr>\n",
       "    <tr>\n",
       "      <th>78704</th>\n",
       "      <td>121.725564</td>\n",
       "      <td>75.00</td>\n",
       "      <td>133</td>\n",
       "    </tr>\n",
       "    <tr>\n",
       "      <th>78731</th>\n",
       "      <td>248.147541</td>\n",
       "      <td>100.00</td>\n",
       "      <td>122</td>\n",
       "    </tr>\n",
       "    <tr>\n",
       "      <th>...</th>\n",
       "      <td>...</td>\n",
       "      <td>...</td>\n",
       "      <td>...</td>\n",
       "    </tr>\n",
       "    <tr>\n",
       "      <th>78640</th>\n",
       "      <td>100.000000</td>\n",
       "      <td>100.00</td>\n",
       "      <td>1</td>\n",
       "    </tr>\n",
       "    <tr>\n",
       "      <th>78676</th>\n",
       "      <td>25.000000</td>\n",
       "      <td>25.00</td>\n",
       "      <td>1</td>\n",
       "    </tr>\n",
       "    <tr>\n",
       "      <th>78663</th>\n",
       "      <td>150.000000</td>\n",
       "      <td>150.00</td>\n",
       "      <td>1</td>\n",
       "    </tr>\n",
       "    <tr>\n",
       "      <th>78657</th>\n",
       "      <td>25.000000</td>\n",
       "      <td>25.00</td>\n",
       "      <td>1</td>\n",
       "    </tr>\n",
       "    <tr>\n",
       "      <th>78602</th>\n",
       "      <td>25.000000</td>\n",
       "      <td>25.00</td>\n",
       "      <td>1</td>\n",
       "    </tr>\n",
       "  </tbody>\n",
       "</table>\n",
       "<p>82 rows × 3 columns</p>\n",
       "</div>"
      ],
      "text/plain": [
       "             mean  median  count\n",
       "Zip                             \n",
       "OOA    359.537697    8.34    547\n",
       "78703  793.408563  100.00    174\n",
       "78746  816.922078  100.00    154\n",
       "78704  121.725564   75.00    133\n",
       "78731  248.147541  100.00    122\n",
       "...           ...     ...    ...\n",
       "78640  100.000000  100.00      1\n",
       "78676   25.000000   25.00      1\n",
       "78663  150.000000  150.00      1\n",
       "78657   25.000000   25.00      1\n",
       "78602   25.000000   25.00      1\n",
       "\n",
       "[82 rows x 3 columns]"
      ]
     },
     "execution_count": 67,
     "metadata": {},
     "output_type": "execute_result"
    }
   ],
   "source": [
    "df_zips.sort_values(by='count', ascending=False)"
   ]
  },
  {
   "cell_type": "code",
   "execution_count": 68,
   "metadata": {
    "ExecuteTime": {
     "end_time": "2021-06-04T19:24:40.070456Z",
     "start_time": "2021-06-04T19:24:40.062992Z"
    }
   },
   "outputs": [
    {
     "data": {
      "text/html": [
       "<div>\n",
       "<style scoped>\n",
       "    .dataframe tbody tr th:only-of-type {\n",
       "        vertical-align: middle;\n",
       "    }\n",
       "\n",
       "    .dataframe tbody tr th {\n",
       "        vertical-align: top;\n",
       "    }\n",
       "\n",
       "    .dataframe thead th {\n",
       "        text-align: right;\n",
       "    }\n",
       "</style>\n",
       "<table border=\"1\" class=\"dataframe\">\n",
       "  <thead>\n",
       "    <tr style=\"text-align: right;\">\n",
       "      <th></th>\n",
       "      <th>mean</th>\n",
       "      <th>median</th>\n",
       "      <th>count</th>\n",
       "    </tr>\n",
       "    <tr>\n",
       "      <th>Zip</th>\n",
       "      <th></th>\n",
       "      <th></th>\n",
       "      <th></th>\n",
       "    </tr>\n",
       "  </thead>\n",
       "  <tbody>\n",
       "    <tr>\n",
       "      <th>78721</th>\n",
       "      <td>218.985000</td>\n",
       "      <td>25.00</td>\n",
       "      <td>22</td>\n",
       "    </tr>\n",
       "    <tr>\n",
       "      <th>78722</th>\n",
       "      <td>131.333333</td>\n",
       "      <td>100.00</td>\n",
       "      <td>15</td>\n",
       "    </tr>\n",
       "    <tr>\n",
       "      <th>78723</th>\n",
       "      <td>136.177778</td>\n",
       "      <td>50.00</td>\n",
       "      <td>45</td>\n",
       "    </tr>\n",
       "    <tr>\n",
       "      <th>78724</th>\n",
       "      <td>340.625000</td>\n",
       "      <td>32.50</td>\n",
       "      <td>8</td>\n",
       "    </tr>\n",
       "    <tr>\n",
       "      <th>78725</th>\n",
       "      <td>49343.333333</td>\n",
       "      <td>50000.00</td>\n",
       "      <td>3</td>\n",
       "    </tr>\n",
       "    <tr>\n",
       "      <th>78726</th>\n",
       "      <td>640.764706</td>\n",
       "      <td>25.00</td>\n",
       "      <td>17</td>\n",
       "    </tr>\n",
       "    <tr>\n",
       "      <th>78727</th>\n",
       "      <td>94.340909</td>\n",
       "      <td>26.00</td>\n",
       "      <td>44</td>\n",
       "    </tr>\n",
       "    <tr>\n",
       "      <th>78728</th>\n",
       "      <td>30.000000</td>\n",
       "      <td>25.00</td>\n",
       "      <td>5</td>\n",
       "    </tr>\n",
       "    <tr>\n",
       "      <th>78729</th>\n",
       "      <td>46.538462</td>\n",
       "      <td>25.00</td>\n",
       "      <td>13</td>\n",
       "    </tr>\n",
       "    <tr>\n",
       "      <th>78730</th>\n",
       "      <td>468.275862</td>\n",
       "      <td>50.00</td>\n",
       "      <td>29</td>\n",
       "    </tr>\n",
       "    <tr>\n",
       "      <th>78731</th>\n",
       "      <td>248.147541</td>\n",
       "      <td>100.00</td>\n",
       "      <td>122</td>\n",
       "    </tr>\n",
       "    <tr>\n",
       "      <th>78732</th>\n",
       "      <td>129.000000</td>\n",
       "      <td>50.00</td>\n",
       "      <td>5</td>\n",
       "    </tr>\n",
       "    <tr>\n",
       "      <th>78733</th>\n",
       "      <td>5884.461538</td>\n",
       "      <td>100.00</td>\n",
       "      <td>13</td>\n",
       "    </tr>\n",
       "    <tr>\n",
       "      <th>78734</th>\n",
       "      <td>440.625000</td>\n",
       "      <td>90.00</td>\n",
       "      <td>8</td>\n",
       "    </tr>\n",
       "    <tr>\n",
       "      <th>78735</th>\n",
       "      <td>448.000000</td>\n",
       "      <td>100.00</td>\n",
       "      <td>60</td>\n",
       "    </tr>\n",
       "    <tr>\n",
       "      <th>78736</th>\n",
       "      <td>112.857143</td>\n",
       "      <td>100.00</td>\n",
       "      <td>7</td>\n",
       "    </tr>\n",
       "    <tr>\n",
       "      <th>78737</th>\n",
       "      <td>223.000000</td>\n",
       "      <td>25.00</td>\n",
       "      <td>5</td>\n",
       "    </tr>\n",
       "    <tr>\n",
       "      <th>78738</th>\n",
       "      <td>141.562500</td>\n",
       "      <td>100.00</td>\n",
       "      <td>16</td>\n",
       "    </tr>\n",
       "    <tr>\n",
       "      <th>78739</th>\n",
       "      <td>61.250000</td>\n",
       "      <td>30.00</td>\n",
       "      <td>32</td>\n",
       "    </tr>\n",
       "    <tr>\n",
       "      <th>78741</th>\n",
       "      <td>67.777778</td>\n",
       "      <td>40.00</td>\n",
       "      <td>27</td>\n",
       "    </tr>\n",
       "    <tr>\n",
       "      <th>78744</th>\n",
       "      <td>52.400000</td>\n",
       "      <td>25.00</td>\n",
       "      <td>25</td>\n",
       "    </tr>\n",
       "    <tr>\n",
       "      <th>78745</th>\n",
       "      <td>60.453333</td>\n",
       "      <td>30.00</td>\n",
       "      <td>75</td>\n",
       "    </tr>\n",
       "    <tr>\n",
       "      <th>78746</th>\n",
       "      <td>816.922078</td>\n",
       "      <td>100.00</td>\n",
       "      <td>154</td>\n",
       "    </tr>\n",
       "    <tr>\n",
       "      <th>78747</th>\n",
       "      <td>66.785714</td>\n",
       "      <td>75.00</td>\n",
       "      <td>14</td>\n",
       "    </tr>\n",
       "    <tr>\n",
       "      <th>78748</th>\n",
       "      <td>53.865385</td>\n",
       "      <td>25.00</td>\n",
       "      <td>52</td>\n",
       "    </tr>\n",
       "    <tr>\n",
       "      <th>78749</th>\n",
       "      <td>71.151515</td>\n",
       "      <td>30.00</td>\n",
       "      <td>66</td>\n",
       "    </tr>\n",
       "    <tr>\n",
       "      <th>78750</th>\n",
       "      <td>79.702703</td>\n",
       "      <td>50.00</td>\n",
       "      <td>74</td>\n",
       "    </tr>\n",
       "    <tr>\n",
       "      <th>78751</th>\n",
       "      <td>96.940536</td>\n",
       "      <td>25.00</td>\n",
       "      <td>56</td>\n",
       "    </tr>\n",
       "    <tr>\n",
       "      <th>78752</th>\n",
       "      <td>137.758621</td>\n",
       "      <td>25.00</td>\n",
       "      <td>29</td>\n",
       "    </tr>\n",
       "    <tr>\n",
       "      <th>78753</th>\n",
       "      <td>110.000000</td>\n",
       "      <td>25.00</td>\n",
       "      <td>17</td>\n",
       "    </tr>\n",
       "    <tr>\n",
       "      <th>78754</th>\n",
       "      <td>520.000000</td>\n",
       "      <td>550.00</td>\n",
       "      <td>8</td>\n",
       "    </tr>\n",
       "    <tr>\n",
       "      <th>78755</th>\n",
       "      <td>625.000000</td>\n",
       "      <td>625.00</td>\n",
       "      <td>2</td>\n",
       "    </tr>\n",
       "    <tr>\n",
       "      <th>78756</th>\n",
       "      <td>70.894737</td>\n",
       "      <td>25.00</td>\n",
       "      <td>38</td>\n",
       "    </tr>\n",
       "    <tr>\n",
       "      <th>78757</th>\n",
       "      <td>80.138350</td>\n",
       "      <td>30.00</td>\n",
       "      <td>103</td>\n",
       "    </tr>\n",
       "    <tr>\n",
       "      <th>78758</th>\n",
       "      <td>109.729508</td>\n",
       "      <td>25.00</td>\n",
       "      <td>61</td>\n",
       "    </tr>\n",
       "    <tr>\n",
       "      <th>78759</th>\n",
       "      <td>168.540259</td>\n",
       "      <td>50.00</td>\n",
       "      <td>116</td>\n",
       "    </tr>\n",
       "    <tr>\n",
       "      <th>78761</th>\n",
       "      <td>20.000000</td>\n",
       "      <td>20.00</td>\n",
       "      <td>1</td>\n",
       "    </tr>\n",
       "    <tr>\n",
       "      <th>78762</th>\n",
       "      <td>466.666667</td>\n",
       "      <td>500.00</td>\n",
       "      <td>9</td>\n",
       "    </tr>\n",
       "    <tr>\n",
       "      <th>78763</th>\n",
       "      <td>78.000000</td>\n",
       "      <td>40.00</td>\n",
       "      <td>5</td>\n",
       "    </tr>\n",
       "    <tr>\n",
       "      <th>78765</th>\n",
       "      <td>5.000000</td>\n",
       "      <td>5.00</td>\n",
       "      <td>1</td>\n",
       "    </tr>\n",
       "    <tr>\n",
       "      <th>78766</th>\n",
       "      <td>150.000000</td>\n",
       "      <td>150.00</td>\n",
       "      <td>2</td>\n",
       "    </tr>\n",
       "    <tr>\n",
       "      <th>78768</th>\n",
       "      <td>1000.000000</td>\n",
       "      <td>1000.00</td>\n",
       "      <td>1</td>\n",
       "    </tr>\n",
       "    <tr>\n",
       "      <th>OOA</th>\n",
       "      <td>359.537697</td>\n",
       "      <td>8.34</td>\n",
       "      <td>547</td>\n",
       "    </tr>\n",
       "  </tbody>\n",
       "</table>\n",
       "</div>"
      ],
      "text/plain": [
       "               mean    median  count\n",
       "Zip                                 \n",
       "78721    218.985000     25.00     22\n",
       "78722    131.333333    100.00     15\n",
       "78723    136.177778     50.00     45\n",
       "78724    340.625000     32.50      8\n",
       "78725  49343.333333  50000.00      3\n",
       "78726    640.764706     25.00     17\n",
       "78727     94.340909     26.00     44\n",
       "78728     30.000000     25.00      5\n",
       "78729     46.538462     25.00     13\n",
       "78730    468.275862     50.00     29\n",
       "78731    248.147541    100.00    122\n",
       "78732    129.000000     50.00      5\n",
       "78733   5884.461538    100.00     13\n",
       "78734    440.625000     90.00      8\n",
       "78735    448.000000    100.00     60\n",
       "78736    112.857143    100.00      7\n",
       "78737    223.000000     25.00      5\n",
       "78738    141.562500    100.00     16\n",
       "78739     61.250000     30.00     32\n",
       "78741     67.777778     40.00     27\n",
       "78744     52.400000     25.00     25\n",
       "78745     60.453333     30.00     75\n",
       "78746    816.922078    100.00    154\n",
       "78747     66.785714     75.00     14\n",
       "78748     53.865385     25.00     52\n",
       "78749     71.151515     30.00     66\n",
       "78750     79.702703     50.00     74\n",
       "78751     96.940536     25.00     56\n",
       "78752    137.758621     25.00     29\n",
       "78753    110.000000     25.00     17\n",
       "78754    520.000000    550.00      8\n",
       "78755    625.000000    625.00      2\n",
       "78756     70.894737     25.00     38\n",
       "78757     80.138350     30.00    103\n",
       "78758    109.729508     25.00     61\n",
       "78759    168.540259     50.00    116\n",
       "78761     20.000000     20.00      1\n",
       "78762    466.666667    500.00      9\n",
       "78763     78.000000     40.00      5\n",
       "78765      5.000000      5.00      1\n",
       "78766    150.000000    150.00      2\n",
       "78768   1000.000000   1000.00      1\n",
       "OOA      359.537697      8.34    547"
      ]
     },
     "execution_count": 68,
     "metadata": {},
     "output_type": "execute_result"
    }
   ],
   "source": [
    "df_zips.loc['78721':,]"
   ]
  },
  {
   "cell_type": "code",
   "execution_count": 69,
   "metadata": {
    "ExecuteTime": {
     "end_time": "2021-06-04T19:24:40.075505Z",
     "start_time": "2021-06-04T19:24:40.071494Z"
    }
   },
   "outputs": [],
   "source": [
    "top_means = list(df_zips.sort_values(by='median').nlargest(15, columns='mean').index)\n",
    "top_median = list(df_zips.sort_values(by='median').nlargest(15, columns='median').index)"
   ]
  },
  {
   "cell_type": "code",
   "execution_count": 70,
   "metadata": {
    "ExecuteTime": {
     "end_time": "2021-06-04T19:24:40.078671Z",
     "start_time": "2021-06-04T19:24:40.076396Z"
    }
   },
   "outputs": [
    {
     "data": {
      "text/plain": [
       "['78726', '78733', '78746', '78703']"
      ]
     },
     "execution_count": 70,
     "metadata": {},
     "output_type": "execute_result"
    }
   ],
   "source": [
    "list(set(top_means).difference(set(top_median)))"
   ]
  },
  {
   "cell_type": "code",
   "execution_count": null,
   "metadata": {},
   "outputs": [],
   "source": []
  },
  {
   "cell_type": "code",
   "execution_count": 71,
   "metadata": {
    "ExecuteTime": {
     "end_time": "2021-06-04T19:24:40.087422Z",
     "start_time": "2021-06-04T19:24:40.079593Z"
    }
   },
   "outputs": [
    {
     "data": {
      "text/html": [
       "<div>\n",
       "<style scoped>\n",
       "    .dataframe tbody tr th:only-of-type {\n",
       "        vertical-align: middle;\n",
       "    }\n",
       "\n",
       "    .dataframe tbody tr th {\n",
       "        vertical-align: top;\n",
       "    }\n",
       "\n",
       "    .dataframe thead th {\n",
       "        text-align: right;\n",
       "    }\n",
       "</style>\n",
       "<table border=\"1\" class=\"dataframe\">\n",
       "  <thead>\n",
       "    <tr style=\"text-align: right;\">\n",
       "      <th></th>\n",
       "      <th>Donor</th>\n",
       "      <th>Recipient</th>\n",
       "      <th>Contribution_Amount</th>\n",
       "      <th>Contribution_Date</th>\n",
       "      <th>Donor_Reported_Occupation</th>\n",
       "      <th>City</th>\n",
       "      <th>State</th>\n",
       "      <th>Zip</th>\n",
       "      <th>in_city</th>\n",
       "      <th>is_apt</th>\n",
       "    </tr>\n",
       "  </thead>\n",
       "  <tbody>\n",
       "    <tr>\n",
       "      <th>18988</th>\n",
       "      <td>Luepke, Erich</td>\n",
       "      <td>Homes Not Handcuffs</td>\n",
       "      <td>1.0</td>\n",
       "      <td>2021-03-22</td>\n",
       "      <td>Not Employed</td>\n",
       "      <td>Oak Park</td>\n",
       "      <td>IL</td>\n",
       "      <td>60304</td>\n",
       "      <td>False</td>\n",
       "      <td>False</td>\n",
       "    </tr>\n",
       "    <tr>\n",
       "      <th>28863</th>\n",
       "      <td>Lowery, Christopher</td>\n",
       "      <td>Homes Not Handcuffs</td>\n",
       "      <td>25.0</td>\n",
       "      <td>2021-03-30</td>\n",
       "      <td>Scientist</td>\n",
       "      <td>Austin</td>\n",
       "      <td>TX</td>\n",
       "      <td>78727</td>\n",
       "      <td>True</td>\n",
       "      <td>False</td>\n",
       "    </tr>\n",
       "    <tr>\n",
       "      <th>36686</th>\n",
       "      <td>Maxwell, Felicity</td>\n",
       "      <td>Homes Not Handcuffs</td>\n",
       "      <td>100.0</td>\n",
       "      <td>2021-04-15</td>\n",
       "      <td>Business Owner</td>\n",
       "      <td>Austin</td>\n",
       "      <td>TX</td>\n",
       "      <td>78704</td>\n",
       "      <td>True</td>\n",
       "      <td>False</td>\n",
       "    </tr>\n",
       "    <tr>\n",
       "      <th>37970</th>\n",
       "      <td>Lee, David</td>\n",
       "      <td>Homes Not Handcuffs</td>\n",
       "      <td>25.0</td>\n",
       "      <td>2021-03-31</td>\n",
       "      <td>Writer</td>\n",
       "      <td>Austin</td>\n",
       "      <td>TX</td>\n",
       "      <td>78702</td>\n",
       "      <td>True</td>\n",
       "      <td>True</td>\n",
       "    </tr>\n",
       "    <tr>\n",
       "      <th>43243</th>\n",
       "      <td>Griffith, Idona</td>\n",
       "      <td>Homes Not Handcuffs</td>\n",
       "      <td>25.0</td>\n",
       "      <td>2021-03-19</td>\n",
       "      <td>Not Employed</td>\n",
       "      <td>Austin</td>\n",
       "      <td>TX</td>\n",
       "      <td>78759</td>\n",
       "      <td>True</td>\n",
       "      <td>False</td>\n",
       "    </tr>\n",
       "  </tbody>\n",
       "</table>\n",
       "</div>"
      ],
      "text/plain": [
       "                     Donor            Recipient  Contribution_Amount  \\\n",
       "18988        Luepke, Erich  Homes Not Handcuffs                  1.0   \n",
       "28863  Lowery, Christopher  Homes Not Handcuffs                 25.0   \n",
       "36686    Maxwell, Felicity  Homes Not Handcuffs                100.0   \n",
       "37970           Lee, David  Homes Not Handcuffs                 25.0   \n",
       "43243      Griffith, Idona  Homes Not Handcuffs                 25.0   \n",
       "\n",
       "      Contribution_Date Donor_Reported_Occupation      City State    Zip  \\\n",
       "18988        2021-03-22              Not Employed  Oak Park    IL  60304   \n",
       "28863        2021-03-30                 Scientist    Austin    TX  78727   \n",
       "36686        2021-04-15            Business Owner    Austin    TX  78704   \n",
       "37970        2021-03-31                    Writer    Austin    TX  78702   \n",
       "43243        2021-03-19              Not Employed    Austin    TX  78759   \n",
       "\n",
       "       in_city  is_apt  \n",
       "18988    False   False  \n",
       "28863     True   False  \n",
       "36686     True   False  \n",
       "37970     True    True  \n",
       "43243     True   False  "
      ]
     },
     "execution_count": 71,
     "metadata": {},
     "output_type": "execute_result"
    }
   ],
   "source": [
    "df.head()"
   ]
  },
  {
   "cell_type": "code",
   "execution_count": 72,
   "metadata": {
    "ExecuteTime": {
     "end_time": "2021-06-04T19:24:40.094695Z",
     "start_time": "2021-06-04T19:24:40.088430Z"
    }
   },
   "outputs": [
    {
     "name": "stdout",
     "output_type": "stream",
     "text": [
      "<class 'pandas.core.frame.DataFrame'>\n",
      "Int64Index: 2565 entries, 18988 to 51522\n",
      "Data columns (total 10 columns):\n",
      " #   Column                     Non-Null Count  Dtype         \n",
      "---  ------                     --------------  -----         \n",
      " 0   Donor                      2565 non-null   object        \n",
      " 1   Recipient                  2565 non-null   object        \n",
      " 2   Contribution_Amount        2565 non-null   float64       \n",
      " 3   Contribution_Date          2565 non-null   datetime64[ns]\n",
      " 4   Donor_Reported_Occupation  2462 non-null   object        \n",
      " 5   City                       2565 non-null   object        \n",
      " 6   State                      2565 non-null   object        \n",
      " 7   Zip                        2565 non-null   object        \n",
      " 8   in_city                    2565 non-null   bool          \n",
      " 9   is_apt                     2565 non-null   bool          \n",
      "dtypes: bool(2), datetime64[ns](1), float64(1), object(6)\n",
      "memory usage: 185.4+ KB\n"
     ]
    }
   ],
   "source": [
    "df.info()"
   ]
  },
  {
   "cell_type": "code",
   "execution_count": 73,
   "metadata": {
    "ExecuteTime": {
     "end_time": "2021-06-04T19:24:40.098400Z",
     "start_time": "2021-06-04T19:24:40.095589Z"
    }
   },
   "outputs": [
    {
     "data": {
      "text/plain": [
       "291911080.096393"
      ]
     },
     "execution_count": 73,
     "metadata": {},
     "output_type": "execute_result"
    }
   ],
   "source": [
    "from datetime import datetime\n",
    "then = datetime(2012, 3, 5)\n",
    "now  = datetime.now()                         \n",
    "duration = now - then \n",
    "duration_in_s = duration.total_seconds()\n",
    "duration_in_s"
   ]
  },
  {
   "cell_type": "code",
   "execution_count": 74,
   "metadata": {
    "ExecuteTime": {
     "end_time": "2021-06-04T19:24:40.101679Z",
     "start_time": "2021-06-04T19:24:40.099402Z"
    }
   },
   "outputs": [],
   "source": [
    "def days_before_election(date):\n",
    "    election = datetime(2021, 5, 1)\n",
    "    time_diff = election - date\n",
    "    time_diff_s = time_diff.total_seconds()\n",
    "    days = time_diff_s / 84000\n",
    "    return int(days)"
   ]
  },
  {
   "cell_type": "code",
   "execution_count": 75,
   "metadata": {
    "ExecuteTime": {
     "end_time": "2021-06-04T19:24:40.135615Z",
     "start_time": "2021-06-04T19:24:40.103992Z"
    }
   },
   "outputs": [],
   "source": [
    "df['days_before'] = df['Contribution_Date'].apply(days_before_election)"
   ]
  },
  {
   "cell_type": "code",
   "execution_count": 76,
   "metadata": {
    "ExecuteTime": {
     "end_time": "2021-06-04T19:24:40.145002Z",
     "start_time": "2021-06-04T19:24:40.136768Z"
    }
   },
   "outputs": [
    {
     "data": {
      "text/html": [
       "<div>\n",
       "<style scoped>\n",
       "    .dataframe tbody tr th:only-of-type {\n",
       "        vertical-align: middle;\n",
       "    }\n",
       "\n",
       "    .dataframe tbody tr th {\n",
       "        vertical-align: top;\n",
       "    }\n",
       "\n",
       "    .dataframe thead th {\n",
       "        text-align: right;\n",
       "    }\n",
       "</style>\n",
       "<table border=\"1\" class=\"dataframe\">\n",
       "  <thead>\n",
       "    <tr style=\"text-align: right;\">\n",
       "      <th></th>\n",
       "      <th>Donor</th>\n",
       "      <th>Recipient</th>\n",
       "      <th>Contribution_Amount</th>\n",
       "      <th>Contribution_Date</th>\n",
       "      <th>Donor_Reported_Occupation</th>\n",
       "      <th>City</th>\n",
       "      <th>State</th>\n",
       "      <th>Zip</th>\n",
       "      <th>in_city</th>\n",
       "      <th>is_apt</th>\n",
       "      <th>days_before</th>\n",
       "    </tr>\n",
       "  </thead>\n",
       "  <tbody>\n",
       "    <tr>\n",
       "      <th>18988</th>\n",
       "      <td>Luepke, Erich</td>\n",
       "      <td>Homes Not Handcuffs</td>\n",
       "      <td>1.0</td>\n",
       "      <td>2021-03-22</td>\n",
       "      <td>Not Employed</td>\n",
       "      <td>Oak Park</td>\n",
       "      <td>IL</td>\n",
       "      <td>60304</td>\n",
       "      <td>False</td>\n",
       "      <td>False</td>\n",
       "      <td>41</td>\n",
       "    </tr>\n",
       "    <tr>\n",
       "      <th>28863</th>\n",
       "      <td>Lowery, Christopher</td>\n",
       "      <td>Homes Not Handcuffs</td>\n",
       "      <td>25.0</td>\n",
       "      <td>2021-03-30</td>\n",
       "      <td>Scientist</td>\n",
       "      <td>Austin</td>\n",
       "      <td>TX</td>\n",
       "      <td>78727</td>\n",
       "      <td>True</td>\n",
       "      <td>False</td>\n",
       "      <td>32</td>\n",
       "    </tr>\n",
       "    <tr>\n",
       "      <th>36686</th>\n",
       "      <td>Maxwell, Felicity</td>\n",
       "      <td>Homes Not Handcuffs</td>\n",
       "      <td>100.0</td>\n",
       "      <td>2021-04-15</td>\n",
       "      <td>Business Owner</td>\n",
       "      <td>Austin</td>\n",
       "      <td>TX</td>\n",
       "      <td>78704</td>\n",
       "      <td>True</td>\n",
       "      <td>False</td>\n",
       "      <td>16</td>\n",
       "    </tr>\n",
       "    <tr>\n",
       "      <th>37970</th>\n",
       "      <td>Lee, David</td>\n",
       "      <td>Homes Not Handcuffs</td>\n",
       "      <td>25.0</td>\n",
       "      <td>2021-03-31</td>\n",
       "      <td>Writer</td>\n",
       "      <td>Austin</td>\n",
       "      <td>TX</td>\n",
       "      <td>78702</td>\n",
       "      <td>True</td>\n",
       "      <td>True</td>\n",
       "      <td>31</td>\n",
       "    </tr>\n",
       "    <tr>\n",
       "      <th>43243</th>\n",
       "      <td>Griffith, Idona</td>\n",
       "      <td>Homes Not Handcuffs</td>\n",
       "      <td>25.0</td>\n",
       "      <td>2021-03-19</td>\n",
       "      <td>Not Employed</td>\n",
       "      <td>Austin</td>\n",
       "      <td>TX</td>\n",
       "      <td>78759</td>\n",
       "      <td>True</td>\n",
       "      <td>False</td>\n",
       "      <td>44</td>\n",
       "    </tr>\n",
       "  </tbody>\n",
       "</table>\n",
       "</div>"
      ],
      "text/plain": [
       "                     Donor            Recipient  Contribution_Amount  \\\n",
       "18988        Luepke, Erich  Homes Not Handcuffs                  1.0   \n",
       "28863  Lowery, Christopher  Homes Not Handcuffs                 25.0   \n",
       "36686    Maxwell, Felicity  Homes Not Handcuffs                100.0   \n",
       "37970           Lee, David  Homes Not Handcuffs                 25.0   \n",
       "43243      Griffith, Idona  Homes Not Handcuffs                 25.0   \n",
       "\n",
       "      Contribution_Date Donor_Reported_Occupation      City State    Zip  \\\n",
       "18988        2021-03-22              Not Employed  Oak Park    IL  60304   \n",
       "28863        2021-03-30                 Scientist    Austin    TX  78727   \n",
       "36686        2021-04-15            Business Owner    Austin    TX  78704   \n",
       "37970        2021-03-31                    Writer    Austin    TX  78702   \n",
       "43243        2021-03-19              Not Employed    Austin    TX  78759   \n",
       "\n",
       "       in_city  is_apt  days_before  \n",
       "18988    False   False           41  \n",
       "28863     True   False           32  \n",
       "36686     True   False           16  \n",
       "37970     True    True           31  \n",
       "43243     True   False           44  "
      ]
     },
     "execution_count": 76,
     "metadata": {},
     "output_type": "execute_result"
    }
   ],
   "source": [
    "df.head()"
   ]
  },
  {
   "cell_type": "code",
   "execution_count": 77,
   "metadata": {
    "ExecuteTime": {
     "end_time": "2021-06-04T19:24:40.149113Z",
     "start_time": "2021-06-04T19:24:40.146106Z"
    }
   },
   "outputs": [],
   "source": [
    "top_15_jobs = list(df['Donor_Reported_Occupation'].value_counts().nlargest(15).index)"
   ]
  },
  {
   "cell_type": "code",
   "execution_count": 78,
   "metadata": {
    "ExecuteTime": {
     "end_time": "2021-06-04T19:24:40.152129Z",
     "start_time": "2021-06-04T19:24:40.150094Z"
    }
   },
   "outputs": [
    {
     "data": {
      "text/plain": [
       "['Retired',\n",
       " 'Not Employed',\n",
       " 'Software Engineer',\n",
       " 'Attorney',\n",
       " 'Owner',\n",
       " 'Consultant',\n",
       " 'Sales',\n",
       " 'CEO',\n",
       " 'Teacher',\n",
       " 'Engineer',\n",
       " 'Lawyer',\n",
       " 'Realtor',\n",
       " 'Manager',\n",
       " 'Project Manager',\n",
       " 'Real Estate']"
      ]
     },
     "execution_count": 78,
     "metadata": {},
     "output_type": "execute_result"
    }
   ],
   "source": [
    "top_15_jobs"
   ]
  },
  {
   "cell_type": "code",
   "execution_count": 79,
   "metadata": {
    "ExecuteTime": {
     "end_time": "2021-06-04T19:24:40.155830Z",
     "start_time": "2021-06-04T19:24:40.152958Z"
    }
   },
   "outputs": [],
   "source": [
    "df['Donor_Reported_Occupation']=df['Donor_Reported_Occupation'].map(lambda x: x if x in top_15_jobs else 'Other')"
   ]
  },
  {
   "cell_type": "code",
   "execution_count": 80,
   "metadata": {
    "ExecuteTime": {
     "end_time": "2021-06-04T19:24:40.160376Z",
     "start_time": "2021-06-04T19:24:40.156764Z"
    }
   },
   "outputs": [
    {
     "data": {
      "text/plain": [
       "Other                0.601559\n",
       "Retired              0.162963\n",
       "Not Employed         0.071345\n",
       "Software Engineer    0.025341\n",
       "Attorney             0.018713\n",
       "Owner                0.014035\n",
       "Consultant           0.014035\n",
       "CEO                  0.013255\n",
       "Sales                0.013255\n",
       "Teacher              0.011696\n",
       "Engineer             0.011696\n",
       "Lawyer               0.010916\n",
       "Realtor              0.010136\n",
       "Manager              0.008577\n",
       "Project Manager      0.006628\n",
       "Real Estate          0.005848\n",
       "Name: Donor_Reported_Occupation, dtype: float64"
      ]
     },
     "execution_count": 80,
     "metadata": {},
     "output_type": "execute_result"
    }
   ],
   "source": [
    "df['Donor_Reported_Occupation'].value_counts(1)"
   ]
  },
  {
   "cell_type": "code",
   "execution_count": 81,
   "metadata": {
    "ExecuteTime": {
     "end_time": "2021-06-04T19:24:40.168361Z",
     "start_time": "2021-06-04T19:24:40.161293Z"
    }
   },
   "outputs": [
    {
     "data": {
      "text/html": [
       "<div>\n",
       "<style scoped>\n",
       "    .dataframe tbody tr th:only-of-type {\n",
       "        vertical-align: middle;\n",
       "    }\n",
       "\n",
       "    .dataframe tbody tr th {\n",
       "        vertical-align: top;\n",
       "    }\n",
       "\n",
       "    .dataframe thead th {\n",
       "        text-align: right;\n",
       "    }\n",
       "</style>\n",
       "<table border=\"1\" class=\"dataframe\">\n",
       "  <thead>\n",
       "    <tr style=\"text-align: right;\">\n",
       "      <th></th>\n",
       "      <th>Donor</th>\n",
       "      <th>Recipient</th>\n",
       "      <th>Contribution_Amount</th>\n",
       "      <th>Contribution_Date</th>\n",
       "      <th>Donor_Reported_Occupation</th>\n",
       "      <th>City</th>\n",
       "      <th>State</th>\n",
       "      <th>Zip</th>\n",
       "      <th>in_city</th>\n",
       "      <th>is_apt</th>\n",
       "      <th>days_before</th>\n",
       "    </tr>\n",
       "  </thead>\n",
       "  <tbody>\n",
       "    <tr>\n",
       "      <th>18988</th>\n",
       "      <td>Luepke, Erich</td>\n",
       "      <td>Homes Not Handcuffs</td>\n",
       "      <td>1.0</td>\n",
       "      <td>2021-03-22</td>\n",
       "      <td>Not Employed</td>\n",
       "      <td>Oak Park</td>\n",
       "      <td>IL</td>\n",
       "      <td>60304</td>\n",
       "      <td>False</td>\n",
       "      <td>False</td>\n",
       "      <td>41</td>\n",
       "    </tr>\n",
       "    <tr>\n",
       "      <th>28863</th>\n",
       "      <td>Lowery, Christopher</td>\n",
       "      <td>Homes Not Handcuffs</td>\n",
       "      <td>25.0</td>\n",
       "      <td>2021-03-30</td>\n",
       "      <td>Other</td>\n",
       "      <td>Austin</td>\n",
       "      <td>TX</td>\n",
       "      <td>78727</td>\n",
       "      <td>True</td>\n",
       "      <td>False</td>\n",
       "      <td>32</td>\n",
       "    </tr>\n",
       "    <tr>\n",
       "      <th>36686</th>\n",
       "      <td>Maxwell, Felicity</td>\n",
       "      <td>Homes Not Handcuffs</td>\n",
       "      <td>100.0</td>\n",
       "      <td>2021-04-15</td>\n",
       "      <td>Other</td>\n",
       "      <td>Austin</td>\n",
       "      <td>TX</td>\n",
       "      <td>78704</td>\n",
       "      <td>True</td>\n",
       "      <td>False</td>\n",
       "      <td>16</td>\n",
       "    </tr>\n",
       "    <tr>\n",
       "      <th>37970</th>\n",
       "      <td>Lee, David</td>\n",
       "      <td>Homes Not Handcuffs</td>\n",
       "      <td>25.0</td>\n",
       "      <td>2021-03-31</td>\n",
       "      <td>Other</td>\n",
       "      <td>Austin</td>\n",
       "      <td>TX</td>\n",
       "      <td>78702</td>\n",
       "      <td>True</td>\n",
       "      <td>True</td>\n",
       "      <td>31</td>\n",
       "    </tr>\n",
       "    <tr>\n",
       "      <th>43243</th>\n",
       "      <td>Griffith, Idona</td>\n",
       "      <td>Homes Not Handcuffs</td>\n",
       "      <td>25.0</td>\n",
       "      <td>2021-03-19</td>\n",
       "      <td>Not Employed</td>\n",
       "      <td>Austin</td>\n",
       "      <td>TX</td>\n",
       "      <td>78759</td>\n",
       "      <td>True</td>\n",
       "      <td>False</td>\n",
       "      <td>44</td>\n",
       "    </tr>\n",
       "  </tbody>\n",
       "</table>\n",
       "</div>"
      ],
      "text/plain": [
       "                     Donor            Recipient  Contribution_Amount  \\\n",
       "18988        Luepke, Erich  Homes Not Handcuffs                  1.0   \n",
       "28863  Lowery, Christopher  Homes Not Handcuffs                 25.0   \n",
       "36686    Maxwell, Felicity  Homes Not Handcuffs                100.0   \n",
       "37970           Lee, David  Homes Not Handcuffs                 25.0   \n",
       "43243      Griffith, Idona  Homes Not Handcuffs                 25.0   \n",
       "\n",
       "      Contribution_Date Donor_Reported_Occupation      City State    Zip  \\\n",
       "18988        2021-03-22              Not Employed  Oak Park    IL  60304   \n",
       "28863        2021-03-30                     Other    Austin    TX  78727   \n",
       "36686        2021-04-15                     Other    Austin    TX  78704   \n",
       "37970        2021-03-31                     Other    Austin    TX  78702   \n",
       "43243        2021-03-19              Not Employed    Austin    TX  78759   \n",
       "\n",
       "       in_city  is_apt  days_before  \n",
       "18988    False   False           41  \n",
       "28863     True   False           32  \n",
       "36686     True   False           16  \n",
       "37970     True    True           31  \n",
       "43243     True   False           44  "
      ]
     },
     "execution_count": 81,
     "metadata": {},
     "output_type": "execute_result"
    }
   ],
   "source": [
    "df.head()"
   ]
  },
  {
   "cell_type": "code",
   "execution_count": 82,
   "metadata": {
    "ExecuteTime": {
     "end_time": "2021-06-04T19:24:40.174489Z",
     "start_time": "2021-06-04T19:24:40.169254Z"
    }
   },
   "outputs": [
    {
     "data": {
      "text/html": [
       "<div>\n",
       "<style scoped>\n",
       "    .dataframe tbody tr th:only-of-type {\n",
       "        vertical-align: middle;\n",
       "    }\n",
       "\n",
       "    .dataframe tbody tr th {\n",
       "        vertical-align: top;\n",
       "    }\n",
       "\n",
       "    .dataframe thead th {\n",
       "        text-align: right;\n",
       "    }\n",
       "</style>\n",
       "<table border=\"1\" class=\"dataframe\">\n",
       "  <thead>\n",
       "    <tr style=\"text-align: right;\">\n",
       "      <th></th>\n",
       "      <th>Contribution_Amount</th>\n",
       "      <th>in_city</th>\n",
       "      <th>is_apt</th>\n",
       "      <th>days_before</th>\n",
       "    </tr>\n",
       "  </thead>\n",
       "  <tbody>\n",
       "    <tr>\n",
       "      <th>Contribution_Amount</th>\n",
       "      <td>1.000000</td>\n",
       "      <td>0.016696</td>\n",
       "      <td>0.012292</td>\n",
       "      <td>-0.053752</td>\n",
       "    </tr>\n",
       "    <tr>\n",
       "      <th>in_city</th>\n",
       "      <td>0.016696</td>\n",
       "      <td>1.000000</td>\n",
       "      <td>-0.132988</td>\n",
       "      <td>-0.216563</td>\n",
       "    </tr>\n",
       "    <tr>\n",
       "      <th>is_apt</th>\n",
       "      <td>0.012292</td>\n",
       "      <td>-0.132988</td>\n",
       "      <td>1.000000</td>\n",
       "      <td>0.105466</td>\n",
       "    </tr>\n",
       "    <tr>\n",
       "      <th>days_before</th>\n",
       "      <td>-0.053752</td>\n",
       "      <td>-0.216563</td>\n",
       "      <td>0.105466</td>\n",
       "      <td>1.000000</td>\n",
       "    </tr>\n",
       "  </tbody>\n",
       "</table>\n",
       "</div>"
      ],
      "text/plain": [
       "                     Contribution_Amount   in_city    is_apt  days_before\n",
       "Contribution_Amount             1.000000  0.016696  0.012292    -0.053752\n",
       "in_city                         0.016696  1.000000 -0.132988    -0.216563\n",
       "is_apt                          0.012292 -0.132988  1.000000     0.105466\n",
       "days_before                    -0.053752 -0.216563  0.105466     1.000000"
      ]
     },
     "execution_count": 82,
     "metadata": {},
     "output_type": "execute_result"
    }
   ],
   "source": [
    "df.corr()"
   ]
  },
  {
   "cell_type": "code",
   "execution_count": 83,
   "metadata": {
    "ExecuteTime": {
     "end_time": "2021-06-04T19:24:40.182640Z",
     "start_time": "2021-06-04T19:24:40.175352Z"
    }
   },
   "outputs": [
    {
     "data": {
      "text/html": [
       "<div>\n",
       "<style scoped>\n",
       "    .dataframe tbody tr th:only-of-type {\n",
       "        vertical-align: middle;\n",
       "    }\n",
       "\n",
       "    .dataframe tbody tr th {\n",
       "        vertical-align: top;\n",
       "    }\n",
       "\n",
       "    .dataframe thead th {\n",
       "        text-align: right;\n",
       "    }\n",
       "</style>\n",
       "<table border=\"1\" class=\"dataframe\">\n",
       "  <thead>\n",
       "    <tr style=\"text-align: right;\">\n",
       "      <th></th>\n",
       "      <th>Donor</th>\n",
       "      <th>Recipient</th>\n",
       "      <th>Contribution_Amount</th>\n",
       "      <th>Contribution_Date</th>\n",
       "      <th>Donor_Reported_Occupation</th>\n",
       "      <th>City</th>\n",
       "      <th>State</th>\n",
       "      <th>Zip</th>\n",
       "      <th>in_city</th>\n",
       "      <th>is_apt</th>\n",
       "      <th>days_before</th>\n",
       "    </tr>\n",
       "  </thead>\n",
       "  <tbody>\n",
       "    <tr>\n",
       "      <th>18988</th>\n",
       "      <td>Luepke, Erich</td>\n",
       "      <td>Homes Not Handcuffs</td>\n",
       "      <td>1.0</td>\n",
       "      <td>2021-03-22</td>\n",
       "      <td>Not Employed</td>\n",
       "      <td>Oak Park</td>\n",
       "      <td>IL</td>\n",
       "      <td>60304</td>\n",
       "      <td>False</td>\n",
       "      <td>False</td>\n",
       "      <td>41</td>\n",
       "    </tr>\n",
       "    <tr>\n",
       "      <th>28863</th>\n",
       "      <td>Lowery, Christopher</td>\n",
       "      <td>Homes Not Handcuffs</td>\n",
       "      <td>25.0</td>\n",
       "      <td>2021-03-30</td>\n",
       "      <td>Other</td>\n",
       "      <td>Austin</td>\n",
       "      <td>TX</td>\n",
       "      <td>78727</td>\n",
       "      <td>True</td>\n",
       "      <td>False</td>\n",
       "      <td>32</td>\n",
       "    </tr>\n",
       "    <tr>\n",
       "      <th>36686</th>\n",
       "      <td>Maxwell, Felicity</td>\n",
       "      <td>Homes Not Handcuffs</td>\n",
       "      <td>100.0</td>\n",
       "      <td>2021-04-15</td>\n",
       "      <td>Other</td>\n",
       "      <td>Austin</td>\n",
       "      <td>TX</td>\n",
       "      <td>78704</td>\n",
       "      <td>True</td>\n",
       "      <td>False</td>\n",
       "      <td>16</td>\n",
       "    </tr>\n",
       "    <tr>\n",
       "      <th>37970</th>\n",
       "      <td>Lee, David</td>\n",
       "      <td>Homes Not Handcuffs</td>\n",
       "      <td>25.0</td>\n",
       "      <td>2021-03-31</td>\n",
       "      <td>Other</td>\n",
       "      <td>Austin</td>\n",
       "      <td>TX</td>\n",
       "      <td>78702</td>\n",
       "      <td>True</td>\n",
       "      <td>True</td>\n",
       "      <td>31</td>\n",
       "    </tr>\n",
       "    <tr>\n",
       "      <th>43243</th>\n",
       "      <td>Griffith, Idona</td>\n",
       "      <td>Homes Not Handcuffs</td>\n",
       "      <td>25.0</td>\n",
       "      <td>2021-03-19</td>\n",
       "      <td>Not Employed</td>\n",
       "      <td>Austin</td>\n",
       "      <td>TX</td>\n",
       "      <td>78759</td>\n",
       "      <td>True</td>\n",
       "      <td>False</td>\n",
       "      <td>44</td>\n",
       "    </tr>\n",
       "  </tbody>\n",
       "</table>\n",
       "</div>"
      ],
      "text/plain": [
       "                     Donor            Recipient  Contribution_Amount  \\\n",
       "18988        Luepke, Erich  Homes Not Handcuffs                  1.0   \n",
       "28863  Lowery, Christopher  Homes Not Handcuffs                 25.0   \n",
       "36686    Maxwell, Felicity  Homes Not Handcuffs                100.0   \n",
       "37970           Lee, David  Homes Not Handcuffs                 25.0   \n",
       "43243      Griffith, Idona  Homes Not Handcuffs                 25.0   \n",
       "\n",
       "      Contribution_Date Donor_Reported_Occupation      City State    Zip  \\\n",
       "18988        2021-03-22              Not Employed  Oak Park    IL  60304   \n",
       "28863        2021-03-30                     Other    Austin    TX  78727   \n",
       "36686        2021-04-15                     Other    Austin    TX  78704   \n",
       "37970        2021-03-31                     Other    Austin    TX  78702   \n",
       "43243        2021-03-19              Not Employed    Austin    TX  78759   \n",
       "\n",
       "       in_city  is_apt  days_before  \n",
       "18988    False   False           41  \n",
       "28863     True   False           32  \n",
       "36686     True   False           16  \n",
       "37970     True    True           31  \n",
       "43243     True   False           44  "
      ]
     },
     "execution_count": 83,
     "metadata": {},
     "output_type": "execute_result"
    }
   ],
   "source": [
    "df.head()"
   ]
  },
  {
   "cell_type": "code",
   "execution_count": 84,
   "metadata": {
    "ExecuteTime": {
     "end_time": "2021-06-04T19:24:40.186175Z",
     "start_time": "2021-06-04T19:24:40.183494Z"
    }
   },
   "outputs": [],
   "source": [
    "df['Recipient'] = df['Recipient'].map({'Homes Not Handcuffs':0,\n",
    "                                       'Save Austin Now PAC':1})"
   ]
  },
  {
   "cell_type": "code",
   "execution_count": 85,
   "metadata": {
    "ExecuteTime": {
     "end_time": "2021-06-04T19:24:40.190604Z",
     "start_time": "2021-06-04T19:24:40.187238Z"
    }
   },
   "outputs": [
    {
     "data": {
      "text/plain": [
       "1    0.550097\n",
       "0    0.449903\n",
       "Name: Recipient, dtype: float64"
      ]
     },
     "execution_count": 85,
     "metadata": {},
     "output_type": "execute_result"
    }
   ],
   "source": [
    "df['Recipient'].value_counts(1)"
   ]
  },
  {
   "cell_type": "code",
   "execution_count": 86,
   "metadata": {
    "ExecuteTime": {
     "end_time": "2021-06-04T19:24:40.196292Z",
     "start_time": "2021-06-04T19:24:40.191477Z"
    }
   },
   "outputs": [
    {
     "data": {
      "text/plain": [
       "Donor                        2197\n",
       "Recipient                       2\n",
       "Contribution_Amount           114\n",
       "Contribution_Date              54\n",
       "Donor_Reported_Occupation      16\n",
       "City                          275\n",
       "State                          46\n",
       "Zip                           499\n",
       "in_city                         2\n",
       "is_apt                          2\n",
       "days_before                    54\n",
       "dtype: int64"
      ]
     },
     "execution_count": 86,
     "metadata": {},
     "output_type": "execute_result"
    }
   ],
   "source": [
    "df.nunique()"
   ]
  },
  {
   "cell_type": "code",
   "execution_count": 87,
   "metadata": {
    "ExecuteTime": {
     "end_time": "2021-06-04T19:24:40.200526Z",
     "start_time": "2021-06-04T19:24:40.197083Z"
    }
   },
   "outputs": [],
   "source": [
    "df['Zip'] = df['Zip'].apply(zip_fixer)"
   ]
  },
  {
   "cell_type": "code",
   "execution_count": 88,
   "metadata": {
    "ExecuteTime": {
     "end_time": "2021-06-04T19:24:40.204591Z",
     "start_time": "2021-06-04T19:24:40.201626Z"
    }
   },
   "outputs": [
    {
     "data": {
      "text/plain": [
       "18988      OOA\n",
       "28863    78727\n",
       "36686    78704\n",
       "37970    78702\n",
       "43243    78759\n",
       "         ...  \n",
       "51518      OOA\n",
       "51519    78757\n",
       "51520    78640\n",
       "51521      OOA\n",
       "51522    78758\n",
       "Name: Zip, Length: 2565, dtype: object"
      ]
     },
     "execution_count": 88,
     "metadata": {},
     "output_type": "execute_result"
    }
   ],
   "source": [
    "df['Zip']"
   ]
  },
  {
   "cell_type": "code",
   "execution_count": 89,
   "metadata": {
    "ExecuteTime": {
     "end_time": "2021-06-04T19:24:40.208270Z",
     "start_time": "2021-06-04T19:24:40.205448Z"
    }
   },
   "outputs": [],
   "source": [
    "top_zips = df['Zip'].value_counts(ascending=False).nlargest(15).index.to_list()"
   ]
  },
  {
   "cell_type": "code",
   "execution_count": 90,
   "metadata": {
    "ExecuteTime": {
     "end_time": "2021-06-04T19:24:40.211276Z",
     "start_time": "2021-06-04T19:24:40.209111Z"
    }
   },
   "outputs": [
    {
     "data": {
      "text/plain": [
       "['OOA',\n",
       " '78703',\n",
       " '78746',\n",
       " '78704',\n",
       " '78731',\n",
       " '78759',\n",
       " '78701',\n",
       " '78757',\n",
       " '78745',\n",
       " '78750',\n",
       " '78749',\n",
       " '78702',\n",
       " '78758',\n",
       " '78735',\n",
       " '78751']"
      ]
     },
     "execution_count": 90,
     "metadata": {},
     "output_type": "execute_result"
    }
   ],
   "source": [
    "top_zips"
   ]
  },
  {
   "cell_type": "code",
   "execution_count": 91,
   "metadata": {
    "ExecuteTime": {
     "end_time": "2021-06-04T19:24:40.214800Z",
     "start_time": "2021-06-04T19:24:40.212105Z"
    }
   },
   "outputs": [],
   "source": [
    "df['Zip'] = df['Zip'].map(lambda x: x if x in top_zips else 'Rare')"
   ]
  },
  {
   "cell_type": "code",
   "execution_count": 92,
   "metadata": {
    "ExecuteTime": {
     "end_time": "2021-06-04T19:24:40.220313Z",
     "start_time": "2021-06-04T19:24:40.216277Z"
    }
   },
   "outputs": [
    {
     "data": {
      "text/plain": [
       "Rare     0.255361\n",
       "OOA      0.213255\n",
       "78703    0.067836\n",
       "78746    0.060039\n",
       "78704    0.051852\n",
       "78731    0.047563\n",
       "78759    0.045224\n",
       "78701    0.040546\n",
       "78757    0.040156\n",
       "78745    0.029240\n",
       "78750    0.028850\n",
       "78749    0.025731\n",
       "78702    0.025341\n",
       "78758    0.023782\n",
       "78735    0.023392\n",
       "78751    0.021832\n",
       "Name: Zip, dtype: float64"
      ]
     },
     "execution_count": 92,
     "metadata": {},
     "output_type": "execute_result"
    }
   ],
   "source": [
    "df['Zip'].value_counts(1)"
   ]
  },
  {
   "cell_type": "code",
   "execution_count": 93,
   "metadata": {
    "ExecuteTime": {
     "end_time": "2021-06-04T19:24:40.226265Z",
     "start_time": "2021-06-04T19:24:40.221209Z"
    }
   },
   "outputs": [
    {
     "data": {
      "text/plain": [
       "Donor                        2197\n",
       "Recipient                       2\n",
       "Contribution_Amount           114\n",
       "Contribution_Date              54\n",
       "Donor_Reported_Occupation      16\n",
       "City                          275\n",
       "State                          46\n",
       "Zip                            16\n",
       "in_city                         2\n",
       "is_apt                          2\n",
       "days_before                    54\n",
       "dtype: int64"
      ]
     },
     "execution_count": 93,
     "metadata": {},
     "output_type": "execute_result"
    }
   ],
   "source": [
    "df.nunique()"
   ]
  },
  {
   "cell_type": "code",
   "execution_count": 94,
   "metadata": {
    "ExecuteTime": {
     "end_time": "2021-06-04T19:24:40.230232Z",
     "start_time": "2021-06-04T19:24:40.227321Z"
    }
   },
   "outputs": [],
   "source": [
    "top_city = df['City'].value_counts(ascending=False).nlargest(15).index.to_list()"
   ]
  },
  {
   "cell_type": "code",
   "execution_count": 95,
   "metadata": {
    "ExecuteTime": {
     "end_time": "2021-06-04T19:24:40.233782Z",
     "start_time": "2021-06-04T19:24:40.231124Z"
    }
   },
   "outputs": [],
   "source": [
    "top_state = df['State'].value_counts(ascending=False).nlargest(15).index.to_list()"
   ]
  },
  {
   "cell_type": "code",
   "execution_count": 96,
   "metadata": {
    "ExecuteTime": {
     "end_time": "2021-06-04T19:24:40.238909Z",
     "start_time": "2021-06-04T19:24:40.235018Z"
    }
   },
   "outputs": [],
   "source": [
    "df['City'] = df['City'].map(lambda x: x if x in top_city else 'Rare')"
   ]
  },
  {
   "cell_type": "code",
   "execution_count": 97,
   "metadata": {
    "ExecuteTime": {
     "end_time": "2021-06-04T19:24:40.243859Z",
     "start_time": "2021-06-04T19:24:40.241198Z"
    }
   },
   "outputs": [],
   "source": [
    "df['State'] = df['State'].map(lambda x: x if x in top_state else 'Rare')"
   ]
  },
  {
   "cell_type": "code",
   "execution_count": 98,
   "metadata": {
    "ExecuteTime": {
     "end_time": "2021-06-04T19:24:40.249944Z",
     "start_time": "2021-06-04T19:24:40.244700Z"
    }
   },
   "outputs": [
    {
     "data": {
      "text/plain": [
       "Donor                        2197\n",
       "Recipient                       2\n",
       "Contribution_Amount           114\n",
       "Contribution_Date              54\n",
       "Donor_Reported_Occupation      16\n",
       "City                           16\n",
       "State                          16\n",
       "Zip                            16\n",
       "in_city                         2\n",
       "is_apt                          2\n",
       "days_before                    54\n",
       "dtype: int64"
      ]
     },
     "execution_count": 98,
     "metadata": {},
     "output_type": "execute_result"
    }
   ],
   "source": [
    "df.nunique()"
   ]
  },
  {
   "cell_type": "code",
   "execution_count": 99,
   "metadata": {
    "ExecuteTime": {
     "end_time": "2021-06-04T19:24:40.255268Z",
     "start_time": "2021-06-04T19:24:40.250860Z"
    }
   },
   "outputs": [],
   "source": [
    "df.drop(columns=['Contribution_Date', 'Donor'], inplace=True)"
   ]
  },
  {
   "cell_type": "code",
   "execution_count": 100,
   "metadata": {
    "ExecuteTime": {
     "end_time": "2021-06-04T19:24:40.258611Z",
     "start_time": "2021-06-04T19:24:40.256279Z"
    }
   },
   "outputs": [],
   "source": [
    "df.rename(columns={'Donor_Reported_Occupation':'Occupation'}, inplace=True)"
   ]
  },
  {
   "cell_type": "code",
   "execution_count": 101,
   "metadata": {
    "ExecuteTime": {
     "end_time": "2021-06-04T19:24:40.263887Z",
     "start_time": "2021-06-04T19:24:40.259596Z"
    }
   },
   "outputs": [
    {
     "data": {
      "text/plain": [
       "Recipient                2\n",
       "Contribution_Amount    114\n",
       "Occupation              16\n",
       "City                    16\n",
       "State                   16\n",
       "Zip                     16\n",
       "in_city                  2\n",
       "is_apt                   2\n",
       "days_before             54\n",
       "dtype: int64"
      ]
     },
     "execution_count": 101,
     "metadata": {},
     "output_type": "execute_result"
    }
   ],
   "source": [
    "df.nunique()"
   ]
  },
  {
   "cell_type": "code",
   "execution_count": 102,
   "metadata": {
    "ExecuteTime": {
     "end_time": "2021-06-04T19:24:40.270147Z",
     "start_time": "2021-06-04T19:24:40.264724Z"
    }
   },
   "outputs": [
    {
     "name": "stdout",
     "output_type": "stream",
     "text": [
      "<class 'pandas.core.frame.DataFrame'>\n",
      "Int64Index: 2565 entries, 18988 to 51522\n",
      "Data columns (total 9 columns):\n",
      " #   Column               Non-Null Count  Dtype  \n",
      "---  ------               --------------  -----  \n",
      " 0   Recipient            2565 non-null   int64  \n",
      " 1   Contribution_Amount  2565 non-null   float64\n",
      " 2   Occupation           2565 non-null   object \n",
      " 3   City                 2565 non-null   object \n",
      " 4   State                2565 non-null   object \n",
      " 5   Zip                  2565 non-null   object \n",
      " 6   in_city              2565 non-null   bool   \n",
      " 7   is_apt               2565 non-null   bool   \n",
      " 8   days_before          2565 non-null   int64  \n",
      "dtypes: bool(2), float64(1), int64(2), object(4)\n",
      "memory usage: 165.3+ KB\n"
     ]
    }
   ],
   "source": [
    "df.info()"
   ]
  },
  {
   "cell_type": "code",
   "execution_count": 103,
   "metadata": {
    "ExecuteTime": {
     "end_time": "2021-06-04T19:24:40.275854Z",
     "start_time": "2021-06-04T19:24:40.271327Z"
    }
   },
   "outputs": [
    {
     "data": {
      "text/plain": [
       "Recipient                2\n",
       "Contribution_Amount    114\n",
       "Occupation              16\n",
       "City                    16\n",
       "State                   16\n",
       "Zip                     16\n",
       "in_city                  2\n",
       "is_apt                   2\n",
       "days_before             54\n",
       "dtype: int64"
      ]
     },
     "execution_count": 103,
     "metadata": {},
     "output_type": "execute_result"
    }
   ],
   "source": [
    "df.nunique()"
   ]
  },
  {
   "cell_type": "code",
   "execution_count": 104,
   "metadata": {
    "ExecuteTime": {
     "end_time": "2021-06-04T19:24:40.278641Z",
     "start_time": "2021-06-04T19:24:40.276731Z"
    }
   },
   "outputs": [],
   "source": [
    "df2 = df.copy()"
   ]
  },
  {
   "cell_type": "code",
   "execution_count": 105,
   "metadata": {
    "ExecuteTime": {
     "end_time": "2021-06-04T19:24:40.286480Z",
     "start_time": "2021-06-04T19:24:40.279537Z"
    }
   },
   "outputs": [
    {
     "data": {
      "text/html": [
       "<div>\n",
       "<style scoped>\n",
       "    .dataframe tbody tr th:only-of-type {\n",
       "        vertical-align: middle;\n",
       "    }\n",
       "\n",
       "    .dataframe tbody tr th {\n",
       "        vertical-align: top;\n",
       "    }\n",
       "\n",
       "    .dataframe thead th {\n",
       "        text-align: right;\n",
       "    }\n",
       "</style>\n",
       "<table border=\"1\" class=\"dataframe\">\n",
       "  <thead>\n",
       "    <tr style=\"text-align: right;\">\n",
       "      <th></th>\n",
       "      <th>Prop B</th>\n",
       "      <th>Contribution_Amount</th>\n",
       "      <th>Occupation</th>\n",
       "      <th>City</th>\n",
       "      <th>State</th>\n",
       "      <th>Zip</th>\n",
       "      <th>in_city</th>\n",
       "      <th>is_apt</th>\n",
       "      <th>days_before</th>\n",
       "    </tr>\n",
       "  </thead>\n",
       "  <tbody>\n",
       "    <tr>\n",
       "      <th>18988</th>\n",
       "      <td>0</td>\n",
       "      <td>1.0</td>\n",
       "      <td>Not Employed</td>\n",
       "      <td>Rare</td>\n",
       "      <td>IL</td>\n",
       "      <td>OOA</td>\n",
       "      <td>False</td>\n",
       "      <td>False</td>\n",
       "      <td>41</td>\n",
       "    </tr>\n",
       "    <tr>\n",
       "      <th>28863</th>\n",
       "      <td>0</td>\n",
       "      <td>25.0</td>\n",
       "      <td>Other</td>\n",
       "      <td>Austin</td>\n",
       "      <td>TX</td>\n",
       "      <td>Rare</td>\n",
       "      <td>True</td>\n",
       "      <td>False</td>\n",
       "      <td>32</td>\n",
       "    </tr>\n",
       "    <tr>\n",
       "      <th>36686</th>\n",
       "      <td>0</td>\n",
       "      <td>100.0</td>\n",
       "      <td>Other</td>\n",
       "      <td>Austin</td>\n",
       "      <td>TX</td>\n",
       "      <td>78704</td>\n",
       "      <td>True</td>\n",
       "      <td>False</td>\n",
       "      <td>16</td>\n",
       "    </tr>\n",
       "    <tr>\n",
       "      <th>37970</th>\n",
       "      <td>0</td>\n",
       "      <td>25.0</td>\n",
       "      <td>Other</td>\n",
       "      <td>Austin</td>\n",
       "      <td>TX</td>\n",
       "      <td>78702</td>\n",
       "      <td>True</td>\n",
       "      <td>True</td>\n",
       "      <td>31</td>\n",
       "    </tr>\n",
       "    <tr>\n",
       "      <th>43243</th>\n",
       "      <td>0</td>\n",
       "      <td>25.0</td>\n",
       "      <td>Not Employed</td>\n",
       "      <td>Austin</td>\n",
       "      <td>TX</td>\n",
       "      <td>78759</td>\n",
       "      <td>True</td>\n",
       "      <td>False</td>\n",
       "      <td>44</td>\n",
       "    </tr>\n",
       "  </tbody>\n",
       "</table>\n",
       "</div>"
      ],
      "text/plain": [
       "       Prop B  Contribution_Amount    Occupation    City State    Zip  \\\n",
       "18988       0                  1.0  Not Employed    Rare    IL    OOA   \n",
       "28863       0                 25.0         Other  Austin    TX   Rare   \n",
       "36686       0                100.0         Other  Austin    TX  78704   \n",
       "37970       0                 25.0         Other  Austin    TX  78702   \n",
       "43243       0                 25.0  Not Employed  Austin    TX  78759   \n",
       "\n",
       "       in_city  is_apt  days_before  \n",
       "18988    False   False           41  \n",
       "28863     True   False           32  \n",
       "36686     True   False           16  \n",
       "37970     True    True           31  \n",
       "43243     True   False           44  "
      ]
     },
     "execution_count": 105,
     "metadata": {},
     "output_type": "execute_result"
    }
   ],
   "source": [
    "df2.rename(columns={'Recipient':'Prop B'}, inplace=True)\n",
    "df2.head()"
   ]
  },
  {
   "cell_type": "code",
   "execution_count": 106,
   "metadata": {
    "ExecuteTime": {
     "end_time": "2021-06-04T19:24:40.290100Z",
     "start_time": "2021-06-04T19:24:40.287433Z"
    }
   },
   "outputs": [],
   "source": [
    "df2['Prop B'] = df2['Prop B'].map({0:'Againt',\n",
    "                                         1: 'For'})"
   ]
  },
  {
   "cell_type": "markdown",
   "metadata": {},
   "source": [
    "EDA 2"
   ]
  },
  {
   "cell_type": "code",
   "execution_count": 142,
   "metadata": {
    "ExecuteTime": {
     "end_time": "2021-06-05T00:24:15.622164Z",
     "start_time": "2021-06-05T00:24:15.048360Z"
    }
   },
   "outputs": [
    {
     "data": {
      "image/png": "[encoded data removed]",
      "text/plain": [
       "<Figure size 1080x360 with 1 Axes>"
      ]
     },
     "metadata": {},
     "output_type": "display_data"
    }
   ],
   "source": [
    "from numpy import median\n",
    "\n",
    "with plt.style.context(['fivethirtyeight', 'seaborn-notebook']):\n",
    "    fig, ax = plt.subplots(figsize=(15,5))\n",
    "    \n",
    "    # Divide Zip Codes based on region of the city\n",
    "    east = ['78750', '78702',]\n",
    "    south =['78704', '78745']\n",
    "    west = ['78749', '78731', '78746', '78735']\n",
    "    downtown = ['78703', '78751', '78701', ]\n",
    "    north = ['78759', '78757', '78758']\n",
    "    order = east+south+west+downtown+north\n",
    "\n",
    "    sns.barplot(data=df2[(df2['Zip']!='OOA')|(df2['Zip']!='Rare')], x='Zip' ,y='Contribution_Amount', \n",
    "                hue='Prop B', ci=68, orient='v', order=order,ax=ax)\n",
    "    ax.set_xlabel('Zip Codes')\n",
    "    ax.set_ylabel('Mean Contribution')\n",
    "    ax.set_title('Mean Contribution by Zip Code', fontweight='bold');\n",
    "    \n",
    "    # Set up dividers between regions\n",
    "    ax.axvline(x=1.5, ls=':', lw='2')\n",
    "    ax.axvline(x=3.5, ls=':', lw='2')\n",
    "    ax.axvline(x=7.5, ls=':', lw='2')\n",
    "    ax.axvline(x=10.5, ls=':', lw='2')\n",
    "    \n",
    "    kws = {'fontsize':20}\n",
    "    props = dict(boxstyle='round', alpha=0.5)\n",
    "    ax.text(0.2, 3400, 'East', verticalalignment='top', bbox=props, fontdict=kws)\n",
    "    ax.text(2.2, 3400, 'South', verticalalignment='top', bbox=props, fontdict=kws)\n",
    "    ax.text(5.2, 3400, 'West', verticalalignment='top', bbox=props, fontdict=kws)\n",
    "    ax.text(8.2, 3400, 'Downtown', verticalalignment='top', bbox=props, fontdict=kws)\n",
    "    ax.text(10.9, 3400, 'North', verticalalignment='top', bbox=props, fontdict=kws);\n",
    "    \n"
   ]
  },
  {
   "cell_type": "code",
   "execution_count": 108,
   "metadata": {
    "ExecuteTime": {
     "end_time": "2021-06-04T19:24:40.899118Z",
     "start_time": "2021-06-04T19:24:40.896633Z"
    }
   },
   "outputs": [],
   "source": [
    "df['Zip'].unique()\n",
    "order = ['78750', 'Rare', '78704', '78702', '78759', '78757', '78758',\n",
    "       '78749', '78703', '78751', '78745', '78731', '78701', '78746',\n",
    "       '78735', 'OOA']"
   ]
  },
  {
   "cell_type": "code",
   "execution_count": 109,
   "metadata": {
    "ExecuteTime": {
     "end_time": "2021-06-04T19:24:40.901515Z",
     "start_time": "2021-06-04T19:24:40.900082Z"
    }
   },
   "outputs": [],
   "source": [
    "# Do correlation after checking for OHE etc...\n",
    "# Do outlier check after train_test_split"
   ]
  },
  {
   "cell_type": "code",
   "execution_count": 110,
   "metadata": {
    "ExecuteTime": {
     "end_time": "2021-06-04T19:24:41.098788Z",
     "start_time": "2021-06-04T19:24:40.902815Z"
    }
   },
   "outputs": [],
   "source": [
    "from sklearn.model_selection import train_test_split"
   ]
  },
  {
   "cell_type": "code",
   "execution_count": 111,
   "metadata": {
    "ExecuteTime": {
     "end_time": "2021-06-04T19:24:41.102491Z",
     "start_time": "2021-06-04T19:24:41.099659Z"
    }
   },
   "outputs": [],
   "source": [
    "X= df.drop(columns=['Recipient', ])\n",
    "y = df['Recipient']"
   ]
  },
  {
   "cell_type": "code",
   "execution_count": 112,
   "metadata": {
    "ExecuteTime": {
     "end_time": "2021-06-04T19:24:41.108167Z",
     "start_time": "2021-06-04T19:24:41.103550Z"
    }
   },
   "outputs": [],
   "source": [
    "X_train, X_test, y_train, y_test = train_test_split(X, y, random_state=42, test_size=0.25)"
   ]
  },
  {
   "cell_type": "code",
   "execution_count": 113,
   "metadata": {
    "ExecuteTime": {
     "end_time": "2021-06-04T19:24:41.114272Z",
     "start_time": "2021-06-04T19:24:41.109101Z"
    }
   },
   "outputs": [
    {
     "data": {
      "text/plain": [
       "Contribution_Amount    98\n",
       "Occupation             16\n",
       "City                   16\n",
       "State                  16\n",
       "Zip                    16\n",
       "in_city                 2\n",
       "is_apt                  2\n",
       "days_before            53\n",
       "dtype: int64"
      ]
     },
     "execution_count": 113,
     "metadata": {},
     "output_type": "execute_result"
    }
   ],
   "source": [
    "X_train.nunique()"
   ]
  },
  {
   "cell_type": "code",
   "execution_count": 114,
   "metadata": {
    "ExecuteTime": {
     "end_time": "2021-06-04T19:24:41.120679Z",
     "start_time": "2021-06-04T19:24:41.115079Z"
    }
   },
   "outputs": [
    {
     "name": "stdout",
     "output_type": "stream",
     "text": [
      "<class 'pandas.core.frame.DataFrame'>\n",
      "Int64Index: 2565 entries, 18988 to 51522\n",
      "Data columns (total 9 columns):\n",
      " #   Column               Non-Null Count  Dtype  \n",
      "---  ------               --------------  -----  \n",
      " 0   Recipient            2565 non-null   int64  \n",
      " 1   Contribution_Amount  2565 non-null   float64\n",
      " 2   Occupation           2565 non-null   object \n",
      " 3   City                 2565 non-null   object \n",
      " 4   State                2565 non-null   object \n",
      " 5   Zip                  2565 non-null   object \n",
      " 6   in_city              2565 non-null   bool   \n",
      " 7   is_apt               2565 non-null   bool   \n",
      " 8   days_before          2565 non-null   int64  \n",
      "dtypes: bool(2), float64(1), int64(2), object(4)\n",
      "memory usage: 165.3+ KB\n"
     ]
    }
   ],
   "source": [
    "df.info()"
   ]
  },
  {
   "cell_type": "markdown",
   "metadata": {
    "ExecuteTime": {
     "end_time": "2021-06-05T01:07:17.904828Z",
     "start_time": "2021-06-05T01:07:17.872715Z"
    }
   },
   "source": [
    "OHE gist"
   ]
  },
  {
   "cell_type": "code",
   "execution_count": 115,
   "metadata": {
    "ExecuteTime": {
     "end_time": "2021-06-04T19:24:41.123155Z",
     "start_time": "2021-06-04T19:24:41.121638Z"
    }
   },
   "outputs": [],
   "source": [
    "# Import OneHotEncoder\n",
    "from sklearn.preprocessing import OneHotEncoder\n",
    "\n",
    "# Create lists of categorical and numeric columns to retrieve column names\n",
    "cat_cols = X_train.select_dtypes('O').columns.tolist()\n",
    "cat_cols.extend(['in_city', 'is_apt'])\n",
    "num_cols = X_train.select_dtypes(include ='number').columns.tolist()\n",
    "num_cols\n",
    "\n",
    "# Instatiate OHE object\n",
    "ohe=OneHotEncoder(sparse=False, drop='first',handle_unknown='error')\n",
    "\n",
    "# Fit transform on training data and transform on testing data\n",
    "X_train_ohe = ohe.fit_transform(X_train[cat_cols])\n",
    "X_test_ohe = ohe.transform(X_test[cat_cols])\n",
    "\n",
    "# Turn matrices into DataFrames\n",
    "train_cat_cols = pd.DataFrame(X_train_ohe,columns=ohe.get_feature_names(cat_cols))\n",
    "test_cat_cols =  pd.DataFrame(X_test_ohe,columns=ohe.get_feature_names(cat_cols))\n",
    "\n",
    "# Concatenate categorical and numeric columns\n",
    "X_train.reset_index(inplace=True)\n",
    "train_cat_cols.reset_index(inplace=True)\n",
    "X_test.reset_index(inplace=True)\n",
    "test_cat_cols.reset_index(inplace=True)\n",
    "\n",
    "X_train_ohe = pd.concat([X_train[num_cols],train_cat_cols], axis=1, ignore_index=False)\n",
    "X_test_ohe = pd.concat([X_test[num_cols],train_cat_cols], axis=1, ignore_index=False)"
   ]
  },
  {
   "cell_type": "code",
   "execution_count": 116,
   "metadata": {
    "ExecuteTime": {
     "end_time": "2021-06-04T19:24:41.127209Z",
     "start_time": "2021-06-04T19:24:41.124050Z"
    }
   },
   "outputs": [],
   "source": [
    "cat_cols = X_train.select_dtypes('O').columns.tolist()\n",
    "cat_cols.extend(['in_city', 'is_apt'])"
   ]
  },
  {
   "cell_type": "code",
   "execution_count": 117,
   "metadata": {
    "ExecuteTime": {
     "end_time": "2021-06-04T19:24:41.130096Z",
     "start_time": "2021-06-04T19:24:41.128099Z"
    }
   },
   "outputs": [
    {
     "data": {
      "text/plain": [
       "['Occupation', 'City', 'State', 'Zip', 'in_city', 'is_apt']"
      ]
     },
     "execution_count": 117,
     "metadata": {},
     "output_type": "execute_result"
    }
   ],
   "source": [
    "cat_cols"
   ]
  },
  {
   "cell_type": "code",
   "execution_count": 118,
   "metadata": {
    "ExecuteTime": {
     "end_time": "2021-06-04T19:24:41.134235Z",
     "start_time": "2021-06-04T19:24:41.130927Z"
    }
   },
   "outputs": [
    {
     "data": {
      "text/plain": [
       "['Contribution_Amount', 'days_before']"
      ]
     },
     "execution_count": 118,
     "metadata": {},
     "output_type": "execute_result"
    }
   ],
   "source": [
    "num_cols = X_train.select_dtypes(include ='number').columns.tolist()\n",
    "num_cols"
   ]
  },
  {
   "cell_type": "code",
   "execution_count": 119,
   "metadata": {
    "ExecuteTime": {
     "end_time": "2021-06-04T19:24:41.136997Z",
     "start_time": "2021-06-04T19:24:41.135240Z"
    }
   },
   "outputs": [],
   "source": [
    "ohe=OneHotEncoder(sparse=False, drop='first',handle_unknown='error')"
   ]
  },
  {
   "cell_type": "code",
   "execution_count": 120,
   "metadata": {
    "ExecuteTime": {
     "end_time": "2021-06-04T19:24:41.148577Z",
     "start_time": "2021-06-04T19:24:41.137980Z"
    }
   },
   "outputs": [],
   "source": [
    "X_train_ohe = ohe.fit_transform(X_train[cat_cols])\n",
    "X_test_ohe = ohe.transform(X_test[cat_cols])"
   ]
  },
  {
   "cell_type": "code",
   "execution_count": 121,
   "metadata": {
    "ExecuteTime": {
     "end_time": "2021-06-04T19:24:41.152610Z",
     "start_time": "2021-06-04T19:24:41.149927Z"
    }
   },
   "outputs": [
    {
     "data": {
      "text/plain": [
       "['Occupation', 'City', 'State', 'Zip', 'in_city', 'is_apt']"
      ]
     },
     "execution_count": 121,
     "metadata": {},
     "output_type": "execute_result"
    }
   ],
   "source": [
    "cat_cols"
   ]
  },
  {
   "cell_type": "code",
   "execution_count": 122,
   "metadata": {
    "ExecuteTime": {
     "end_time": "2021-06-04T19:24:41.170392Z",
     "start_time": "2021-06-04T19:24:41.153890Z"
    }
   },
   "outputs": [
    {
     "data": {
      "text/html": [
       "<div>\n",
       "<style scoped>\n",
       "    .dataframe tbody tr th:only-of-type {\n",
       "        vertical-align: middle;\n",
       "    }\n",
       "\n",
       "    .dataframe tbody tr th {\n",
       "        vertical-align: top;\n",
       "    }\n",
       "\n",
       "    .dataframe thead th {\n",
       "        text-align: right;\n",
       "    }\n",
       "</style>\n",
       "<table border=\"1\" class=\"dataframe\">\n",
       "  <thead>\n",
       "    <tr style=\"text-align: right;\">\n",
       "      <th></th>\n",
       "      <th>0</th>\n",
       "      <th>1</th>\n",
       "      <th>2</th>\n",
       "      <th>3</th>\n",
       "      <th>4</th>\n",
       "      <th>5</th>\n",
       "      <th>6</th>\n",
       "      <th>7</th>\n",
       "      <th>8</th>\n",
       "      <th>9</th>\n",
       "      <th>...</th>\n",
       "      <th>52</th>\n",
       "      <th>53</th>\n",
       "      <th>54</th>\n",
       "      <th>55</th>\n",
       "      <th>56</th>\n",
       "      <th>57</th>\n",
       "      <th>58</th>\n",
       "      <th>59</th>\n",
       "      <th>60</th>\n",
       "      <th>61</th>\n",
       "    </tr>\n",
       "  </thead>\n",
       "  <tbody>\n",
       "    <tr>\n",
       "      <th>0</th>\n",
       "      <td>0.0</td>\n",
       "      <td>0.0</td>\n",
       "      <td>0.0</td>\n",
       "      <td>1.0</td>\n",
       "      <td>0.0</td>\n",
       "      <td>0.0</td>\n",
       "      <td>0.0</td>\n",
       "      <td>0.0</td>\n",
       "      <td>0.0</td>\n",
       "      <td>0.0</td>\n",
       "      <td>...</td>\n",
       "      <td>0.0</td>\n",
       "      <td>0.0</td>\n",
       "      <td>0.0</td>\n",
       "      <td>0.0</td>\n",
       "      <td>0.0</td>\n",
       "      <td>0.0</td>\n",
       "      <td>0.0</td>\n",
       "      <td>1.0</td>\n",
       "      <td>1.0</td>\n",
       "      <td>1.0</td>\n",
       "    </tr>\n",
       "    <tr>\n",
       "      <th>1</th>\n",
       "      <td>0.0</td>\n",
       "      <td>0.0</td>\n",
       "      <td>0.0</td>\n",
       "      <td>0.0</td>\n",
       "      <td>0.0</td>\n",
       "      <td>1.0</td>\n",
       "      <td>0.0</td>\n",
       "      <td>0.0</td>\n",
       "      <td>0.0</td>\n",
       "      <td>0.0</td>\n",
       "      <td>...</td>\n",
       "      <td>0.0</td>\n",
       "      <td>0.0</td>\n",
       "      <td>0.0</td>\n",
       "      <td>0.0</td>\n",
       "      <td>0.0</td>\n",
       "      <td>0.0</td>\n",
       "      <td>0.0</td>\n",
       "      <td>1.0</td>\n",
       "      <td>1.0</td>\n",
       "      <td>0.0</td>\n",
       "    </tr>\n",
       "    <tr>\n",
       "      <th>2</th>\n",
       "      <td>0.0</td>\n",
       "      <td>0.0</td>\n",
       "      <td>0.0</td>\n",
       "      <td>0.0</td>\n",
       "      <td>0.0</td>\n",
       "      <td>0.0</td>\n",
       "      <td>1.0</td>\n",
       "      <td>0.0</td>\n",
       "      <td>0.0</td>\n",
       "      <td>0.0</td>\n",
       "      <td>...</td>\n",
       "      <td>0.0</td>\n",
       "      <td>0.0</td>\n",
       "      <td>0.0</td>\n",
       "      <td>0.0</td>\n",
       "      <td>0.0</td>\n",
       "      <td>0.0</td>\n",
       "      <td>1.0</td>\n",
       "      <td>0.0</td>\n",
       "      <td>0.0</td>\n",
       "      <td>0.0</td>\n",
       "    </tr>\n",
       "    <tr>\n",
       "      <th>3</th>\n",
       "      <td>0.0</td>\n",
       "      <td>0.0</td>\n",
       "      <td>0.0</td>\n",
       "      <td>0.0</td>\n",
       "      <td>0.0</td>\n",
       "      <td>0.0</td>\n",
       "      <td>1.0</td>\n",
       "      <td>0.0</td>\n",
       "      <td>0.0</td>\n",
       "      <td>0.0</td>\n",
       "      <td>...</td>\n",
       "      <td>0.0</td>\n",
       "      <td>0.0</td>\n",
       "      <td>0.0</td>\n",
       "      <td>0.0</td>\n",
       "      <td>0.0</td>\n",
       "      <td>0.0</td>\n",
       "      <td>1.0</td>\n",
       "      <td>0.0</td>\n",
       "      <td>0.0</td>\n",
       "      <td>0.0</td>\n",
       "    </tr>\n",
       "    <tr>\n",
       "      <th>4</th>\n",
       "      <td>0.0</td>\n",
       "      <td>0.0</td>\n",
       "      <td>0.0</td>\n",
       "      <td>0.0</td>\n",
       "      <td>0.0</td>\n",
       "      <td>0.0</td>\n",
       "      <td>0.0</td>\n",
       "      <td>0.0</td>\n",
       "      <td>0.0</td>\n",
       "      <td>0.0</td>\n",
       "      <td>...</td>\n",
       "      <td>0.0</td>\n",
       "      <td>0.0</td>\n",
       "      <td>0.0</td>\n",
       "      <td>0.0</td>\n",
       "      <td>0.0</td>\n",
       "      <td>0.0</td>\n",
       "      <td>0.0</td>\n",
       "      <td>0.0</td>\n",
       "      <td>1.0</td>\n",
       "      <td>0.0</td>\n",
       "    </tr>\n",
       "    <tr>\n",
       "      <th>...</th>\n",
       "      <td>...</td>\n",
       "      <td>...</td>\n",
       "      <td>...</td>\n",
       "      <td>...</td>\n",
       "      <td>...</td>\n",
       "      <td>...</td>\n",
       "      <td>...</td>\n",
       "      <td>...</td>\n",
       "      <td>...</td>\n",
       "      <td>...</td>\n",
       "      <td>...</td>\n",
       "      <td>...</td>\n",
       "      <td>...</td>\n",
       "      <td>...</td>\n",
       "      <td>...</td>\n",
       "      <td>...</td>\n",
       "      <td>...</td>\n",
       "      <td>...</td>\n",
       "      <td>...</td>\n",
       "      <td>...</td>\n",
       "      <td>...</td>\n",
       "    </tr>\n",
       "    <tr>\n",
       "      <th>1918</th>\n",
       "      <td>0.0</td>\n",
       "      <td>0.0</td>\n",
       "      <td>0.0</td>\n",
       "      <td>0.0</td>\n",
       "      <td>0.0</td>\n",
       "      <td>0.0</td>\n",
       "      <td>1.0</td>\n",
       "      <td>0.0</td>\n",
       "      <td>0.0</td>\n",
       "      <td>0.0</td>\n",
       "      <td>...</td>\n",
       "      <td>0.0</td>\n",
       "      <td>0.0</td>\n",
       "      <td>0.0</td>\n",
       "      <td>0.0</td>\n",
       "      <td>0.0</td>\n",
       "      <td>0.0</td>\n",
       "      <td>0.0</td>\n",
       "      <td>0.0</td>\n",
       "      <td>1.0</td>\n",
       "      <td>0.0</td>\n",
       "    </tr>\n",
       "    <tr>\n",
       "      <th>1919</th>\n",
       "      <td>0.0</td>\n",
       "      <td>0.0</td>\n",
       "      <td>0.0</td>\n",
       "      <td>0.0</td>\n",
       "      <td>0.0</td>\n",
       "      <td>0.0</td>\n",
       "      <td>0.0</td>\n",
       "      <td>0.0</td>\n",
       "      <td>0.0</td>\n",
       "      <td>0.0</td>\n",
       "      <td>...</td>\n",
       "      <td>0.0</td>\n",
       "      <td>0.0</td>\n",
       "      <td>0.0</td>\n",
       "      <td>0.0</td>\n",
       "      <td>0.0</td>\n",
       "      <td>0.0</td>\n",
       "      <td>0.0</td>\n",
       "      <td>0.0</td>\n",
       "      <td>1.0</td>\n",
       "      <td>0.0</td>\n",
       "    </tr>\n",
       "    <tr>\n",
       "      <th>1920</th>\n",
       "      <td>0.0</td>\n",
       "      <td>0.0</td>\n",
       "      <td>0.0</td>\n",
       "      <td>0.0</td>\n",
       "      <td>0.0</td>\n",
       "      <td>0.0</td>\n",
       "      <td>1.0</td>\n",
       "      <td>0.0</td>\n",
       "      <td>0.0</td>\n",
       "      <td>0.0</td>\n",
       "      <td>...</td>\n",
       "      <td>0.0</td>\n",
       "      <td>0.0</td>\n",
       "      <td>0.0</td>\n",
       "      <td>0.0</td>\n",
       "      <td>0.0</td>\n",
       "      <td>0.0</td>\n",
       "      <td>0.0</td>\n",
       "      <td>1.0</td>\n",
       "      <td>1.0</td>\n",
       "      <td>0.0</td>\n",
       "    </tr>\n",
       "    <tr>\n",
       "      <th>1921</th>\n",
       "      <td>0.0</td>\n",
       "      <td>0.0</td>\n",
       "      <td>0.0</td>\n",
       "      <td>0.0</td>\n",
       "      <td>0.0</td>\n",
       "      <td>0.0</td>\n",
       "      <td>1.0</td>\n",
       "      <td>0.0</td>\n",
       "      <td>0.0</td>\n",
       "      <td>0.0</td>\n",
       "      <td>...</td>\n",
       "      <td>0.0</td>\n",
       "      <td>0.0</td>\n",
       "      <td>0.0</td>\n",
       "      <td>0.0</td>\n",
       "      <td>0.0</td>\n",
       "      <td>0.0</td>\n",
       "      <td>0.0</td>\n",
       "      <td>1.0</td>\n",
       "      <td>1.0</td>\n",
       "      <td>0.0</td>\n",
       "    </tr>\n",
       "    <tr>\n",
       "      <th>1922</th>\n",
       "      <td>0.0</td>\n",
       "      <td>0.0</td>\n",
       "      <td>0.0</td>\n",
       "      <td>0.0</td>\n",
       "      <td>0.0</td>\n",
       "      <td>0.0</td>\n",
       "      <td>0.0</td>\n",
       "      <td>0.0</td>\n",
       "      <td>0.0</td>\n",
       "      <td>1.0</td>\n",
       "      <td>...</td>\n",
       "      <td>0.0</td>\n",
       "      <td>0.0</td>\n",
       "      <td>0.0</td>\n",
       "      <td>0.0</td>\n",
       "      <td>0.0</td>\n",
       "      <td>0.0</td>\n",
       "      <td>0.0</td>\n",
       "      <td>0.0</td>\n",
       "      <td>1.0</td>\n",
       "      <td>0.0</td>\n",
       "    </tr>\n",
       "  </tbody>\n",
       "</table>\n",
       "<p>1923 rows × 62 columns</p>\n",
       "</div>"
      ],
      "text/plain": [
       "       0    1    2    3    4    5    6    7    8    9   ...   52   53   54  \\\n",
       "0     0.0  0.0  0.0  1.0  0.0  0.0  0.0  0.0  0.0  0.0  ...  0.0  0.0  0.0   \n",
       "1     0.0  0.0  0.0  0.0  0.0  1.0  0.0  0.0  0.0  0.0  ...  0.0  0.0  0.0   \n",
       "2     0.0  0.0  0.0  0.0  0.0  0.0  1.0  0.0  0.0  0.0  ...  0.0  0.0  0.0   \n",
       "3     0.0  0.0  0.0  0.0  0.0  0.0  1.0  0.0  0.0  0.0  ...  0.0  0.0  0.0   \n",
       "4     0.0  0.0  0.0  0.0  0.0  0.0  0.0  0.0  0.0  0.0  ...  0.0  0.0  0.0   \n",
       "...   ...  ...  ...  ...  ...  ...  ...  ...  ...  ...  ...  ...  ...  ...   \n",
       "1918  0.0  0.0  0.0  0.0  0.0  0.0  1.0  0.0  0.0  0.0  ...  0.0  0.0  0.0   \n",
       "1919  0.0  0.0  0.0  0.0  0.0  0.0  0.0  0.0  0.0  0.0  ...  0.0  0.0  0.0   \n",
       "1920  0.0  0.0  0.0  0.0  0.0  0.0  1.0  0.0  0.0  0.0  ...  0.0  0.0  0.0   \n",
       "1921  0.0  0.0  0.0  0.0  0.0  0.0  1.0  0.0  0.0  0.0  ...  0.0  0.0  0.0   \n",
       "1922  0.0  0.0  0.0  0.0  0.0  0.0  0.0  0.0  0.0  1.0  ...  0.0  0.0  0.0   \n",
       "\n",
       "       55   56   57   58   59   60   61  \n",
       "0     0.0  0.0  0.0  0.0  1.0  1.0  1.0  \n",
       "1     0.0  0.0  0.0  0.0  1.0  1.0  0.0  \n",
       "2     0.0  0.0  0.0  1.0  0.0  0.0  0.0  \n",
       "3     0.0  0.0  0.0  1.0  0.0  0.0  0.0  \n",
       "4     0.0  0.0  0.0  0.0  0.0  1.0  0.0  \n",
       "...   ...  ...  ...  ...  ...  ...  ...  \n",
       "1918  0.0  0.0  0.0  0.0  0.0  1.0  0.0  \n",
       "1919  0.0  0.0  0.0  0.0  0.0  1.0  0.0  \n",
       "1920  0.0  0.0  0.0  0.0  1.0  1.0  0.0  \n",
       "1921  0.0  0.0  0.0  0.0  1.0  1.0  0.0  \n",
       "1922  0.0  0.0  0.0  0.0  0.0  1.0  0.0  \n",
       "\n",
       "[1923 rows x 62 columns]"
      ]
     },
     "execution_count": 122,
     "metadata": {},
     "output_type": "execute_result"
    }
   ],
   "source": [
    "pd.DataFrame(X_train_ohe)"
   ]
  },
  {
   "cell_type": "code",
   "execution_count": 123,
   "metadata": {
    "ExecuteTime": {
     "end_time": "2021-06-04T19:24:41.173484Z",
     "start_time": "2021-06-04T19:24:41.171267Z"
    }
   },
   "outputs": [],
   "source": [
    "train_cat_cols = pd.DataFrame(X_train_ohe,columns=ohe.get_feature_names(cat_cols))\n",
    "test_cat_cols =  pd.DataFrame(X_test_ohe,columns=ohe.get_feature_names(cat_cols))"
   ]
  },
  {
   "cell_type": "code",
   "execution_count": 124,
   "metadata": {
    "ExecuteTime": {
     "end_time": "2021-06-04T19:24:41.193605Z",
     "start_time": "2021-06-04T19:24:41.174457Z"
    }
   },
   "outputs": [
    {
     "data": {
      "text/html": [
       "<div>\n",
       "<style scoped>\n",
       "    .dataframe tbody tr th:only-of-type {\n",
       "        vertical-align: middle;\n",
       "    }\n",
       "\n",
       "    .dataframe tbody tr th {\n",
       "        vertical-align: top;\n",
       "    }\n",
       "\n",
       "    .dataframe thead th {\n",
       "        text-align: right;\n",
       "    }\n",
       "</style>\n",
       "<table border=\"1\" class=\"dataframe\">\n",
       "  <thead>\n",
       "    <tr style=\"text-align: right;\">\n",
       "      <th></th>\n",
       "      <th>Occupation_CEO</th>\n",
       "      <th>Occupation_Consultant</th>\n",
       "      <th>Occupation_Engineer</th>\n",
       "      <th>Occupation_Lawyer</th>\n",
       "      <th>Occupation_Manager</th>\n",
       "      <th>Occupation_Not Employed</th>\n",
       "      <th>Occupation_Other</th>\n",
       "      <th>Occupation_Owner</th>\n",
       "      <th>Occupation_Project Manager</th>\n",
       "      <th>Occupation_Real Estate</th>\n",
       "      <th>...</th>\n",
       "      <th>Zip_78749</th>\n",
       "      <th>Zip_78750</th>\n",
       "      <th>Zip_78751</th>\n",
       "      <th>Zip_78757</th>\n",
       "      <th>Zip_78758</th>\n",
       "      <th>Zip_78759</th>\n",
       "      <th>Zip_OOA</th>\n",
       "      <th>Zip_Rare</th>\n",
       "      <th>in_city_True</th>\n",
       "      <th>is_apt_True</th>\n",
       "    </tr>\n",
       "  </thead>\n",
       "  <tbody>\n",
       "    <tr>\n",
       "      <th>0</th>\n",
       "      <td>0.0</td>\n",
       "      <td>0.0</td>\n",
       "      <td>0.0</td>\n",
       "      <td>1.0</td>\n",
       "      <td>0.0</td>\n",
       "      <td>0.0</td>\n",
       "      <td>0.0</td>\n",
       "      <td>0.0</td>\n",
       "      <td>0.0</td>\n",
       "      <td>0.0</td>\n",
       "      <td>...</td>\n",
       "      <td>0.0</td>\n",
       "      <td>0.0</td>\n",
       "      <td>0.0</td>\n",
       "      <td>0.0</td>\n",
       "      <td>0.0</td>\n",
       "      <td>0.0</td>\n",
       "      <td>0.0</td>\n",
       "      <td>1.0</td>\n",
       "      <td>1.0</td>\n",
       "      <td>1.0</td>\n",
       "    </tr>\n",
       "    <tr>\n",
       "      <th>1</th>\n",
       "      <td>0.0</td>\n",
       "      <td>0.0</td>\n",
       "      <td>0.0</td>\n",
       "      <td>0.0</td>\n",
       "      <td>0.0</td>\n",
       "      <td>1.0</td>\n",
       "      <td>0.0</td>\n",
       "      <td>0.0</td>\n",
       "      <td>0.0</td>\n",
       "      <td>0.0</td>\n",
       "      <td>...</td>\n",
       "      <td>0.0</td>\n",
       "      <td>0.0</td>\n",
       "      <td>0.0</td>\n",
       "      <td>0.0</td>\n",
       "      <td>0.0</td>\n",
       "      <td>0.0</td>\n",
       "      <td>0.0</td>\n",
       "      <td>1.0</td>\n",
       "      <td>1.0</td>\n",
       "      <td>0.0</td>\n",
       "    </tr>\n",
       "    <tr>\n",
       "      <th>2</th>\n",
       "      <td>0.0</td>\n",
       "      <td>0.0</td>\n",
       "      <td>0.0</td>\n",
       "      <td>0.0</td>\n",
       "      <td>0.0</td>\n",
       "      <td>0.0</td>\n",
       "      <td>1.0</td>\n",
       "      <td>0.0</td>\n",
       "      <td>0.0</td>\n",
       "      <td>0.0</td>\n",
       "      <td>...</td>\n",
       "      <td>0.0</td>\n",
       "      <td>0.0</td>\n",
       "      <td>0.0</td>\n",
       "      <td>0.0</td>\n",
       "      <td>0.0</td>\n",
       "      <td>0.0</td>\n",
       "      <td>1.0</td>\n",
       "      <td>0.0</td>\n",
       "      <td>0.0</td>\n",
       "      <td>0.0</td>\n",
       "    </tr>\n",
       "    <tr>\n",
       "      <th>3</th>\n",
       "      <td>0.0</td>\n",
       "      <td>0.0</td>\n",
       "      <td>0.0</td>\n",
       "      <td>0.0</td>\n",
       "      <td>0.0</td>\n",
       "      <td>0.0</td>\n",
       "      <td>1.0</td>\n",
       "      <td>0.0</td>\n",
       "      <td>0.0</td>\n",
       "      <td>0.0</td>\n",
       "      <td>...</td>\n",
       "      <td>0.0</td>\n",
       "      <td>0.0</td>\n",
       "      <td>0.0</td>\n",
       "      <td>0.0</td>\n",
       "      <td>0.0</td>\n",
       "      <td>0.0</td>\n",
       "      <td>1.0</td>\n",
       "      <td>0.0</td>\n",
       "      <td>0.0</td>\n",
       "      <td>0.0</td>\n",
       "    </tr>\n",
       "    <tr>\n",
       "      <th>4</th>\n",
       "      <td>0.0</td>\n",
       "      <td>0.0</td>\n",
       "      <td>0.0</td>\n",
       "      <td>0.0</td>\n",
       "      <td>0.0</td>\n",
       "      <td>0.0</td>\n",
       "      <td>0.0</td>\n",
       "      <td>0.0</td>\n",
       "      <td>0.0</td>\n",
       "      <td>0.0</td>\n",
       "      <td>...</td>\n",
       "      <td>0.0</td>\n",
       "      <td>0.0</td>\n",
       "      <td>0.0</td>\n",
       "      <td>0.0</td>\n",
       "      <td>0.0</td>\n",
       "      <td>0.0</td>\n",
       "      <td>0.0</td>\n",
       "      <td>0.0</td>\n",
       "      <td>1.0</td>\n",
       "      <td>0.0</td>\n",
       "    </tr>\n",
       "    <tr>\n",
       "      <th>...</th>\n",
       "      <td>...</td>\n",
       "      <td>...</td>\n",
       "      <td>...</td>\n",
       "      <td>...</td>\n",
       "      <td>...</td>\n",
       "      <td>...</td>\n",
       "      <td>...</td>\n",
       "      <td>...</td>\n",
       "      <td>...</td>\n",
       "      <td>...</td>\n",
       "      <td>...</td>\n",
       "      <td>...</td>\n",
       "      <td>...</td>\n",
       "      <td>...</td>\n",
       "      <td>...</td>\n",
       "      <td>...</td>\n",
       "      <td>...</td>\n",
       "      <td>...</td>\n",
       "      <td>...</td>\n",
       "      <td>...</td>\n",
       "      <td>...</td>\n",
       "    </tr>\n",
       "    <tr>\n",
       "      <th>1918</th>\n",
       "      <td>0.0</td>\n",
       "      <td>0.0</td>\n",
       "      <td>0.0</td>\n",
       "      <td>0.0</td>\n",
       "      <td>0.0</td>\n",
       "      <td>0.0</td>\n",
       "      <td>1.0</td>\n",
       "      <td>0.0</td>\n",
       "      <td>0.0</td>\n",
       "      <td>0.0</td>\n",
       "      <td>...</td>\n",
       "      <td>0.0</td>\n",
       "      <td>0.0</td>\n",
       "      <td>0.0</td>\n",
       "      <td>0.0</td>\n",
       "      <td>0.0</td>\n",
       "      <td>0.0</td>\n",
       "      <td>0.0</td>\n",
       "      <td>0.0</td>\n",
       "      <td>1.0</td>\n",
       "      <td>0.0</td>\n",
       "    </tr>\n",
       "    <tr>\n",
       "      <th>1919</th>\n",
       "      <td>0.0</td>\n",
       "      <td>0.0</td>\n",
       "      <td>0.0</td>\n",
       "      <td>0.0</td>\n",
       "      <td>0.0</td>\n",
       "      <td>0.0</td>\n",
       "      <td>0.0</td>\n",
       "      <td>0.0</td>\n",
       "      <td>0.0</td>\n",
       "      <td>0.0</td>\n",
       "      <td>...</td>\n",
       "      <td>0.0</td>\n",
       "      <td>0.0</td>\n",
       "      <td>0.0</td>\n",
       "      <td>0.0</td>\n",
       "      <td>0.0</td>\n",
       "      <td>0.0</td>\n",
       "      <td>0.0</td>\n",
       "      <td>0.0</td>\n",
       "      <td>1.0</td>\n",
       "      <td>0.0</td>\n",
       "    </tr>\n",
       "    <tr>\n",
       "      <th>1920</th>\n",
       "      <td>0.0</td>\n",
       "      <td>0.0</td>\n",
       "      <td>0.0</td>\n",
       "      <td>0.0</td>\n",
       "      <td>0.0</td>\n",
       "      <td>0.0</td>\n",
       "      <td>1.0</td>\n",
       "      <td>0.0</td>\n",
       "      <td>0.0</td>\n",
       "      <td>0.0</td>\n",
       "      <td>...</td>\n",
       "      <td>0.0</td>\n",
       "      <td>0.0</td>\n",
       "      <td>0.0</td>\n",
       "      <td>0.0</td>\n",
       "      <td>0.0</td>\n",
       "      <td>0.0</td>\n",
       "      <td>0.0</td>\n",
       "      <td>1.0</td>\n",
       "      <td>1.0</td>\n",
       "      <td>0.0</td>\n",
       "    </tr>\n",
       "    <tr>\n",
       "      <th>1921</th>\n",
       "      <td>0.0</td>\n",
       "      <td>0.0</td>\n",
       "      <td>0.0</td>\n",
       "      <td>0.0</td>\n",
       "      <td>0.0</td>\n",
       "      <td>0.0</td>\n",
       "      <td>1.0</td>\n",
       "      <td>0.0</td>\n",
       "      <td>0.0</td>\n",
       "      <td>0.0</td>\n",
       "      <td>...</td>\n",
       "      <td>0.0</td>\n",
       "      <td>0.0</td>\n",
       "      <td>0.0</td>\n",
       "      <td>0.0</td>\n",
       "      <td>0.0</td>\n",
       "      <td>0.0</td>\n",
       "      <td>0.0</td>\n",
       "      <td>1.0</td>\n",
       "      <td>1.0</td>\n",
       "      <td>0.0</td>\n",
       "    </tr>\n",
       "    <tr>\n",
       "      <th>1922</th>\n",
       "      <td>0.0</td>\n",
       "      <td>0.0</td>\n",
       "      <td>0.0</td>\n",
       "      <td>0.0</td>\n",
       "      <td>0.0</td>\n",
       "      <td>0.0</td>\n",
       "      <td>0.0</td>\n",
       "      <td>0.0</td>\n",
       "      <td>0.0</td>\n",
       "      <td>1.0</td>\n",
       "      <td>...</td>\n",
       "      <td>0.0</td>\n",
       "      <td>0.0</td>\n",
       "      <td>0.0</td>\n",
       "      <td>0.0</td>\n",
       "      <td>0.0</td>\n",
       "      <td>0.0</td>\n",
       "      <td>0.0</td>\n",
       "      <td>0.0</td>\n",
       "      <td>1.0</td>\n",
       "      <td>0.0</td>\n",
       "    </tr>\n",
       "  </tbody>\n",
       "</table>\n",
       "<p>1923 rows × 62 columns</p>\n",
       "</div>"
      ],
      "text/plain": [
       "      Occupation_CEO  Occupation_Consultant  Occupation_Engineer  \\\n",
       "0                0.0                    0.0                  0.0   \n",
       "1                0.0                    0.0                  0.0   \n",
       "2                0.0                    0.0                  0.0   \n",
       "3                0.0                    0.0                  0.0   \n",
       "4                0.0                    0.0                  0.0   \n",
       "...              ...                    ...                  ...   \n",
       "1918             0.0                    0.0                  0.0   \n",
       "1919             0.0                    0.0                  0.0   \n",
       "1920             0.0                    0.0                  0.0   \n",
       "1921             0.0                    0.0                  0.0   \n",
       "1922             0.0                    0.0                  0.0   \n",
       "\n",
       "      Occupation_Lawyer  Occupation_Manager  Occupation_Not Employed  \\\n",
       "0                   1.0                 0.0                      0.0   \n",
       "1                   0.0                 0.0                      1.0   \n",
       "2                   0.0                 0.0                      0.0   \n",
       "3                   0.0                 0.0                      0.0   \n",
       "4                   0.0                 0.0                      0.0   \n",
       "...                 ...                 ...                      ...   \n",
       "1918                0.0                 0.0                      0.0   \n",
       "1919                0.0                 0.0                      0.0   \n",
       "1920                0.0                 0.0                      0.0   \n",
       "1921                0.0                 0.0                      0.0   \n",
       "1922                0.0                 0.0                      0.0   \n",
       "\n",
       "      Occupation_Other  Occupation_Owner  Occupation_Project Manager  \\\n",
       "0                  0.0               0.0                         0.0   \n",
       "1                  0.0               0.0                         0.0   \n",
       "2                  1.0               0.0                         0.0   \n",
       "3                  1.0               0.0                         0.0   \n",
       "4                  0.0               0.0                         0.0   \n",
       "...                ...               ...                         ...   \n",
       "1918               1.0               0.0                         0.0   \n",
       "1919               0.0               0.0                         0.0   \n",
       "1920               1.0               0.0                         0.0   \n",
       "1921               1.0               0.0                         0.0   \n",
       "1922               0.0               0.0                         0.0   \n",
       "\n",
       "      Occupation_Real Estate  ...  Zip_78749  Zip_78750  Zip_78751  Zip_78757  \\\n",
       "0                        0.0  ...        0.0        0.0        0.0        0.0   \n",
       "1                        0.0  ...        0.0        0.0        0.0        0.0   \n",
       "2                        0.0  ...        0.0        0.0        0.0        0.0   \n",
       "3                        0.0  ...        0.0        0.0        0.0        0.0   \n",
       "4                        0.0  ...        0.0        0.0        0.0        0.0   \n",
       "...                      ...  ...        ...        ...        ...        ...   \n",
       "1918                     0.0  ...        0.0        0.0        0.0        0.0   \n",
       "1919                     0.0  ...        0.0        0.0        0.0        0.0   \n",
       "1920                     0.0  ...        0.0        0.0        0.0        0.0   \n",
       "1921                     0.0  ...        0.0        0.0        0.0        0.0   \n",
       "1922                     1.0  ...        0.0        0.0        0.0        0.0   \n",
       "\n",
       "      Zip_78758  Zip_78759  Zip_OOA  Zip_Rare  in_city_True  is_apt_True  \n",
       "0           0.0        0.0      0.0       1.0           1.0          1.0  \n",
       "1           0.0        0.0      0.0       1.0           1.0          0.0  \n",
       "2           0.0        0.0      1.0       0.0           0.0          0.0  \n",
       "3           0.0        0.0      1.0       0.0           0.0          0.0  \n",
       "4           0.0        0.0      0.0       0.0           1.0          0.0  \n",
       "...         ...        ...      ...       ...           ...          ...  \n",
       "1918        0.0        0.0      0.0       0.0           1.0          0.0  \n",
       "1919        0.0        0.0      0.0       0.0           1.0          0.0  \n",
       "1920        0.0        0.0      0.0       1.0           1.0          0.0  \n",
       "1921        0.0        0.0      0.0       1.0           1.0          0.0  \n",
       "1922        0.0        0.0      0.0       0.0           1.0          0.0  \n",
       "\n",
       "[1923 rows x 62 columns]"
      ]
     },
     "execution_count": 124,
     "metadata": {},
     "output_type": "execute_result"
    }
   ],
   "source": [
    "train_cat_cols"
   ]
  },
  {
   "cell_type": "code",
   "execution_count": 125,
   "metadata": {
    "ExecuteTime": {
     "end_time": "2021-06-04T19:24:41.213530Z",
     "start_time": "2021-06-04T19:24:41.196508Z"
    }
   },
   "outputs": [
    {
     "data": {
      "text/html": [
       "<div>\n",
       "<style scoped>\n",
       "    .dataframe tbody tr th:only-of-type {\n",
       "        vertical-align: middle;\n",
       "    }\n",
       "\n",
       "    .dataframe tbody tr th {\n",
       "        vertical-align: top;\n",
       "    }\n",
       "\n",
       "    .dataframe thead th {\n",
       "        text-align: right;\n",
       "    }\n",
       "</style>\n",
       "<table border=\"1\" class=\"dataframe\">\n",
       "  <thead>\n",
       "    <tr style=\"text-align: right;\">\n",
       "      <th></th>\n",
       "      <th>Occupation_CEO</th>\n",
       "      <th>Occupation_Consultant</th>\n",
       "      <th>Occupation_Engineer</th>\n",
       "      <th>Occupation_Lawyer</th>\n",
       "      <th>Occupation_Manager</th>\n",
       "      <th>Occupation_Not Employed</th>\n",
       "      <th>Occupation_Other</th>\n",
       "      <th>Occupation_Owner</th>\n",
       "      <th>Occupation_Project Manager</th>\n",
       "      <th>Occupation_Real Estate</th>\n",
       "      <th>...</th>\n",
       "      <th>Zip_78749</th>\n",
       "      <th>Zip_78750</th>\n",
       "      <th>Zip_78751</th>\n",
       "      <th>Zip_78757</th>\n",
       "      <th>Zip_78758</th>\n",
       "      <th>Zip_78759</th>\n",
       "      <th>Zip_OOA</th>\n",
       "      <th>Zip_Rare</th>\n",
       "      <th>in_city_True</th>\n",
       "      <th>is_apt_True</th>\n",
       "    </tr>\n",
       "  </thead>\n",
       "  <tbody>\n",
       "    <tr>\n",
       "      <th>0</th>\n",
       "      <td>0.0</td>\n",
       "      <td>0.0</td>\n",
       "      <td>0.0</td>\n",
       "      <td>0.0</td>\n",
       "      <td>0.0</td>\n",
       "      <td>0.0</td>\n",
       "      <td>0.0</td>\n",
       "      <td>1.0</td>\n",
       "      <td>0.0</td>\n",
       "      <td>0.0</td>\n",
       "      <td>...</td>\n",
       "      <td>0.0</td>\n",
       "      <td>0.0</td>\n",
       "      <td>0.0</td>\n",
       "      <td>1.0</td>\n",
       "      <td>0.0</td>\n",
       "      <td>0.0</td>\n",
       "      <td>0.0</td>\n",
       "      <td>0.0</td>\n",
       "      <td>1.0</td>\n",
       "      <td>0.0</td>\n",
       "    </tr>\n",
       "    <tr>\n",
       "      <th>1</th>\n",
       "      <td>0.0</td>\n",
       "      <td>0.0</td>\n",
       "      <td>0.0</td>\n",
       "      <td>0.0</td>\n",
       "      <td>0.0</td>\n",
       "      <td>0.0</td>\n",
       "      <td>0.0</td>\n",
       "      <td>0.0</td>\n",
       "      <td>0.0</td>\n",
       "      <td>0.0</td>\n",
       "      <td>...</td>\n",
       "      <td>0.0</td>\n",
       "      <td>0.0</td>\n",
       "      <td>0.0</td>\n",
       "      <td>0.0</td>\n",
       "      <td>0.0</td>\n",
       "      <td>0.0</td>\n",
       "      <td>0.0</td>\n",
       "      <td>1.0</td>\n",
       "      <td>1.0</td>\n",
       "      <td>0.0</td>\n",
       "    </tr>\n",
       "    <tr>\n",
       "      <th>2</th>\n",
       "      <td>0.0</td>\n",
       "      <td>0.0</td>\n",
       "      <td>0.0</td>\n",
       "      <td>1.0</td>\n",
       "      <td>0.0</td>\n",
       "      <td>0.0</td>\n",
       "      <td>0.0</td>\n",
       "      <td>0.0</td>\n",
       "      <td>0.0</td>\n",
       "      <td>0.0</td>\n",
       "      <td>...</td>\n",
       "      <td>0.0</td>\n",
       "      <td>0.0</td>\n",
       "      <td>0.0</td>\n",
       "      <td>0.0</td>\n",
       "      <td>0.0</td>\n",
       "      <td>0.0</td>\n",
       "      <td>0.0</td>\n",
       "      <td>0.0</td>\n",
       "      <td>1.0</td>\n",
       "      <td>1.0</td>\n",
       "    </tr>\n",
       "    <tr>\n",
       "      <th>3</th>\n",
       "      <td>0.0</td>\n",
       "      <td>0.0</td>\n",
       "      <td>0.0</td>\n",
       "      <td>0.0</td>\n",
       "      <td>0.0</td>\n",
       "      <td>0.0</td>\n",
       "      <td>1.0</td>\n",
       "      <td>0.0</td>\n",
       "      <td>0.0</td>\n",
       "      <td>0.0</td>\n",
       "      <td>...</td>\n",
       "      <td>0.0</td>\n",
       "      <td>0.0</td>\n",
       "      <td>1.0</td>\n",
       "      <td>0.0</td>\n",
       "      <td>0.0</td>\n",
       "      <td>0.0</td>\n",
       "      <td>0.0</td>\n",
       "      <td>0.0</td>\n",
       "      <td>1.0</td>\n",
       "      <td>0.0</td>\n",
       "    </tr>\n",
       "    <tr>\n",
       "      <th>4</th>\n",
       "      <td>0.0</td>\n",
       "      <td>0.0</td>\n",
       "      <td>0.0</td>\n",
       "      <td>0.0</td>\n",
       "      <td>0.0</td>\n",
       "      <td>0.0</td>\n",
       "      <td>1.0</td>\n",
       "      <td>0.0</td>\n",
       "      <td>0.0</td>\n",
       "      <td>0.0</td>\n",
       "      <td>...</td>\n",
       "      <td>0.0</td>\n",
       "      <td>0.0</td>\n",
       "      <td>0.0</td>\n",
       "      <td>0.0</td>\n",
       "      <td>0.0</td>\n",
       "      <td>0.0</td>\n",
       "      <td>0.0</td>\n",
       "      <td>0.0</td>\n",
       "      <td>1.0</td>\n",
       "      <td>1.0</td>\n",
       "    </tr>\n",
       "    <tr>\n",
       "      <th>...</th>\n",
       "      <td>...</td>\n",
       "      <td>...</td>\n",
       "      <td>...</td>\n",
       "      <td>...</td>\n",
       "      <td>...</td>\n",
       "      <td>...</td>\n",
       "      <td>...</td>\n",
       "      <td>...</td>\n",
       "      <td>...</td>\n",
       "      <td>...</td>\n",
       "      <td>...</td>\n",
       "      <td>...</td>\n",
       "      <td>...</td>\n",
       "      <td>...</td>\n",
       "      <td>...</td>\n",
       "      <td>...</td>\n",
       "      <td>...</td>\n",
       "      <td>...</td>\n",
       "      <td>...</td>\n",
       "      <td>...</td>\n",
       "      <td>...</td>\n",
       "    </tr>\n",
       "    <tr>\n",
       "      <th>637</th>\n",
       "      <td>0.0</td>\n",
       "      <td>0.0</td>\n",
       "      <td>0.0</td>\n",
       "      <td>0.0</td>\n",
       "      <td>0.0</td>\n",
       "      <td>0.0</td>\n",
       "      <td>1.0</td>\n",
       "      <td>0.0</td>\n",
       "      <td>0.0</td>\n",
       "      <td>0.0</td>\n",
       "      <td>...</td>\n",
       "      <td>0.0</td>\n",
       "      <td>0.0</td>\n",
       "      <td>0.0</td>\n",
       "      <td>0.0</td>\n",
       "      <td>0.0</td>\n",
       "      <td>0.0</td>\n",
       "      <td>0.0</td>\n",
       "      <td>1.0</td>\n",
       "      <td>1.0</td>\n",
       "      <td>0.0</td>\n",
       "    </tr>\n",
       "    <tr>\n",
       "      <th>638</th>\n",
       "      <td>0.0</td>\n",
       "      <td>0.0</td>\n",
       "      <td>0.0</td>\n",
       "      <td>0.0</td>\n",
       "      <td>0.0</td>\n",
       "      <td>1.0</td>\n",
       "      <td>0.0</td>\n",
       "      <td>0.0</td>\n",
       "      <td>0.0</td>\n",
       "      <td>0.0</td>\n",
       "      <td>...</td>\n",
       "      <td>0.0</td>\n",
       "      <td>0.0</td>\n",
       "      <td>0.0</td>\n",
       "      <td>0.0</td>\n",
       "      <td>0.0</td>\n",
       "      <td>0.0</td>\n",
       "      <td>1.0</td>\n",
       "      <td>0.0</td>\n",
       "      <td>0.0</td>\n",
       "      <td>0.0</td>\n",
       "    </tr>\n",
       "    <tr>\n",
       "      <th>639</th>\n",
       "      <td>0.0</td>\n",
       "      <td>0.0</td>\n",
       "      <td>0.0</td>\n",
       "      <td>0.0</td>\n",
       "      <td>0.0</td>\n",
       "      <td>0.0</td>\n",
       "      <td>1.0</td>\n",
       "      <td>0.0</td>\n",
       "      <td>0.0</td>\n",
       "      <td>0.0</td>\n",
       "      <td>...</td>\n",
       "      <td>0.0</td>\n",
       "      <td>0.0</td>\n",
       "      <td>0.0</td>\n",
       "      <td>0.0</td>\n",
       "      <td>0.0</td>\n",
       "      <td>0.0</td>\n",
       "      <td>0.0</td>\n",
       "      <td>1.0</td>\n",
       "      <td>1.0</td>\n",
       "      <td>0.0</td>\n",
       "    </tr>\n",
       "    <tr>\n",
       "      <th>640</th>\n",
       "      <td>0.0</td>\n",
       "      <td>0.0</td>\n",
       "      <td>0.0</td>\n",
       "      <td>0.0</td>\n",
       "      <td>0.0</td>\n",
       "      <td>0.0</td>\n",
       "      <td>1.0</td>\n",
       "      <td>0.0</td>\n",
       "      <td>0.0</td>\n",
       "      <td>0.0</td>\n",
       "      <td>...</td>\n",
       "      <td>0.0</td>\n",
       "      <td>0.0</td>\n",
       "      <td>0.0</td>\n",
       "      <td>0.0</td>\n",
       "      <td>0.0</td>\n",
       "      <td>0.0</td>\n",
       "      <td>0.0</td>\n",
       "      <td>1.0</td>\n",
       "      <td>1.0</td>\n",
       "      <td>0.0</td>\n",
       "    </tr>\n",
       "    <tr>\n",
       "      <th>641</th>\n",
       "      <td>0.0</td>\n",
       "      <td>0.0</td>\n",
       "      <td>0.0</td>\n",
       "      <td>0.0</td>\n",
       "      <td>0.0</td>\n",
       "      <td>0.0</td>\n",
       "      <td>0.0</td>\n",
       "      <td>0.0</td>\n",
       "      <td>0.0</td>\n",
       "      <td>0.0</td>\n",
       "      <td>...</td>\n",
       "      <td>0.0</td>\n",
       "      <td>0.0</td>\n",
       "      <td>0.0</td>\n",
       "      <td>0.0</td>\n",
       "      <td>0.0</td>\n",
       "      <td>0.0</td>\n",
       "      <td>0.0</td>\n",
       "      <td>1.0</td>\n",
       "      <td>1.0</td>\n",
       "      <td>0.0</td>\n",
       "    </tr>\n",
       "  </tbody>\n",
       "</table>\n",
       "<p>642 rows × 62 columns</p>\n",
       "</div>"
      ],
      "text/plain": [
       "     Occupation_CEO  Occupation_Consultant  Occupation_Engineer  \\\n",
       "0               0.0                    0.0                  0.0   \n",
       "1               0.0                    0.0                  0.0   \n",
       "2               0.0                    0.0                  0.0   \n",
       "3               0.0                    0.0                  0.0   \n",
       "4               0.0                    0.0                  0.0   \n",
       "..              ...                    ...                  ...   \n",
       "637             0.0                    0.0                  0.0   \n",
       "638             0.0                    0.0                  0.0   \n",
       "639             0.0                    0.0                  0.0   \n",
       "640             0.0                    0.0                  0.0   \n",
       "641             0.0                    0.0                  0.0   \n",
       "\n",
       "     Occupation_Lawyer  Occupation_Manager  Occupation_Not Employed  \\\n",
       "0                  0.0                 0.0                      0.0   \n",
       "1                  0.0                 0.0                      0.0   \n",
       "2                  1.0                 0.0                      0.0   \n",
       "3                  0.0                 0.0                      0.0   \n",
       "4                  0.0                 0.0                      0.0   \n",
       "..                 ...                 ...                      ...   \n",
       "637                0.0                 0.0                      0.0   \n",
       "638                0.0                 0.0                      1.0   \n",
       "639                0.0                 0.0                      0.0   \n",
       "640                0.0                 0.0                      0.0   \n",
       "641                0.0                 0.0                      0.0   \n",
       "\n",
       "     Occupation_Other  Occupation_Owner  Occupation_Project Manager  \\\n",
       "0                 0.0               1.0                         0.0   \n",
       "1                 0.0               0.0                         0.0   \n",
       "2                 0.0               0.0                         0.0   \n",
       "3                 1.0               0.0                         0.0   \n",
       "4                 1.0               0.0                         0.0   \n",
       "..                ...               ...                         ...   \n",
       "637               1.0               0.0                         0.0   \n",
       "638               0.0               0.0                         0.0   \n",
       "639               1.0               0.0                         0.0   \n",
       "640               1.0               0.0                         0.0   \n",
       "641               0.0               0.0                         0.0   \n",
       "\n",
       "     Occupation_Real Estate  ...  Zip_78749  Zip_78750  Zip_78751  Zip_78757  \\\n",
       "0                       0.0  ...        0.0        0.0        0.0        1.0   \n",
       "1                       0.0  ...        0.0        0.0        0.0        0.0   \n",
       "2                       0.0  ...        0.0        0.0        0.0        0.0   \n",
       "3                       0.0  ...        0.0        0.0        1.0        0.0   \n",
       "4                       0.0  ...        0.0        0.0        0.0        0.0   \n",
       "..                      ...  ...        ...        ...        ...        ...   \n",
       "637                     0.0  ...        0.0        0.0        0.0        0.0   \n",
       "638                     0.0  ...        0.0        0.0        0.0        0.0   \n",
       "639                     0.0  ...        0.0        0.0        0.0        0.0   \n",
       "640                     0.0  ...        0.0        0.0        0.0        0.0   \n",
       "641                     0.0  ...        0.0        0.0        0.0        0.0   \n",
       "\n",
       "     Zip_78758  Zip_78759  Zip_OOA  Zip_Rare  in_city_True  is_apt_True  \n",
       "0          0.0        0.0      0.0       0.0           1.0          0.0  \n",
       "1          0.0        0.0      0.0       1.0           1.0          0.0  \n",
       "2          0.0        0.0      0.0       0.0           1.0          1.0  \n",
       "3          0.0        0.0      0.0       0.0           1.0          0.0  \n",
       "4          0.0        0.0      0.0       0.0           1.0          1.0  \n",
       "..         ...        ...      ...       ...           ...          ...  \n",
       "637        0.0        0.0      0.0       1.0           1.0          0.0  \n",
       "638        0.0        0.0      1.0       0.0           0.0          0.0  \n",
       "639        0.0        0.0      0.0       1.0           1.0          0.0  \n",
       "640        0.0        0.0      0.0       1.0           1.0          0.0  \n",
       "641        0.0        0.0      0.0       1.0           1.0          0.0  \n",
       "\n",
       "[642 rows x 62 columns]"
      ]
     },
     "execution_count": 125,
     "metadata": {},
     "output_type": "execute_result"
    }
   ],
   "source": [
    "test_cat_cols"
   ]
  },
  {
   "cell_type": "code",
   "execution_count": 143,
   "metadata": {
    "ExecuteTime": {
     "end_time": "2021-06-05T01:05:57.454901Z",
     "start_time": "2021-06-05T01:05:57.406733Z"
    }
   },
   "outputs": [],
   "source": [
    "X_train.reset_index(inplace=True)\n",
    "train_cat_cols.reset_index(inplace=True)\n",
    "X_test.reset_index(inplace=True)\n",
    "test_cat_cols.reset_index(inplace=True)\n",
    "\n",
    "X_train_ohe = pd.concat([X_train[num_cols],train_cat_cols], axis=1, ignore_index=False)\n",
    "X_test_ohe = pd.concat([X_test[num_cols],train_cat_cols], axis=1, ignore_index=False)"
   ]
  },
  {
   "cell_type": "code",
   "execution_count": 127,
   "metadata": {
    "ExecuteTime": {
     "end_time": "2021-06-04T19:24:41.224231Z",
     "start_time": "2021-06-04T19:24:41.220028Z"
    }
   },
   "outputs": [],
   "source": [
    "df_processed.drop(columns='index', inplace=True)"
   ]
  },
  {
   "cell_type": "code",
   "execution_count": 128,
   "metadata": {
    "ExecuteTime": {
     "end_time": "2021-06-04T19:24:41.242509Z",
     "start_time": "2021-06-04T19:24:41.225180Z"
    }
   },
   "outputs": [
    {
     "data": {
      "text/html": [
       "<div>\n",
       "<style scoped>\n",
       "    .dataframe tbody tr th:only-of-type {\n",
       "        vertical-align: middle;\n",
       "    }\n",
       "\n",
       "    .dataframe tbody tr th {\n",
       "        vertical-align: top;\n",
       "    }\n",
       "\n",
       "    .dataframe thead th {\n",
       "        text-align: right;\n",
       "    }\n",
       "</style>\n",
       "<table border=\"1\" class=\"dataframe\">\n",
       "  <thead>\n",
       "    <tr style=\"text-align: right;\">\n",
       "      <th></th>\n",
       "      <th>Contribution_Amount</th>\n",
       "      <th>days_before</th>\n",
       "      <th>Occupation_CEO</th>\n",
       "      <th>Occupation_Consultant</th>\n",
       "      <th>Occupation_Engineer</th>\n",
       "      <th>Occupation_Lawyer</th>\n",
       "      <th>Occupation_Manager</th>\n",
       "      <th>Occupation_Not Employed</th>\n",
       "      <th>Occupation_Other</th>\n",
       "      <th>Occupation_Owner</th>\n",
       "      <th>...</th>\n",
       "      <th>Zip_78749</th>\n",
       "      <th>Zip_78750</th>\n",
       "      <th>Zip_78751</th>\n",
       "      <th>Zip_78757</th>\n",
       "      <th>Zip_78758</th>\n",
       "      <th>Zip_78759</th>\n",
       "      <th>Zip_OOA</th>\n",
       "      <th>Zip_Rare</th>\n",
       "      <th>in_city_True</th>\n",
       "      <th>is_apt_True</th>\n",
       "    </tr>\n",
       "  </thead>\n",
       "  <tbody>\n",
       "    <tr>\n",
       "      <th>0</th>\n",
       "      <td>50.0</td>\n",
       "      <td>15</td>\n",
       "      <td>0.0</td>\n",
       "      <td>0.0</td>\n",
       "      <td>0.0</td>\n",
       "      <td>1.0</td>\n",
       "      <td>0.0</td>\n",
       "      <td>0.0</td>\n",
       "      <td>0.0</td>\n",
       "      <td>0.0</td>\n",
       "      <td>...</td>\n",
       "      <td>0.0</td>\n",
       "      <td>0.0</td>\n",
       "      <td>0.0</td>\n",
       "      <td>0.0</td>\n",
       "      <td>0.0</td>\n",
       "      <td>0.0</td>\n",
       "      <td>0.0</td>\n",
       "      <td>1.0</td>\n",
       "      <td>1.0</td>\n",
       "      <td>1.0</td>\n",
       "    </tr>\n",
       "    <tr>\n",
       "      <th>1</th>\n",
       "      <td>50.0</td>\n",
       "      <td>21</td>\n",
       "      <td>0.0</td>\n",
       "      <td>0.0</td>\n",
       "      <td>0.0</td>\n",
       "      <td>0.0</td>\n",
       "      <td>0.0</td>\n",
       "      <td>1.0</td>\n",
       "      <td>0.0</td>\n",
       "      <td>0.0</td>\n",
       "      <td>...</td>\n",
       "      <td>0.0</td>\n",
       "      <td>0.0</td>\n",
       "      <td>0.0</td>\n",
       "      <td>0.0</td>\n",
       "      <td>0.0</td>\n",
       "      <td>0.0</td>\n",
       "      <td>0.0</td>\n",
       "      <td>1.0</td>\n",
       "      <td>1.0</td>\n",
       "      <td>0.0</td>\n",
       "    </tr>\n",
       "    <tr>\n",
       "      <th>2</th>\n",
       "      <td>4.5</td>\n",
       "      <td>45</td>\n",
       "      <td>0.0</td>\n",
       "      <td>0.0</td>\n",
       "      <td>0.0</td>\n",
       "      <td>0.0</td>\n",
       "      <td>0.0</td>\n",
       "      <td>0.0</td>\n",
       "      <td>1.0</td>\n",
       "      <td>0.0</td>\n",
       "      <td>...</td>\n",
       "      <td>0.0</td>\n",
       "      <td>0.0</td>\n",
       "      <td>0.0</td>\n",
       "      <td>0.0</td>\n",
       "      <td>0.0</td>\n",
       "      <td>0.0</td>\n",
       "      <td>1.0</td>\n",
       "      <td>0.0</td>\n",
       "      <td>0.0</td>\n",
       "      <td>0.0</td>\n",
       "    </tr>\n",
       "    <tr>\n",
       "      <th>3</th>\n",
       "      <td>25000.0</td>\n",
       "      <td>11</td>\n",
       "      <td>0.0</td>\n",
       "      <td>0.0</td>\n",
       "      <td>0.0</td>\n",
       "      <td>0.0</td>\n",
       "      <td>0.0</td>\n",
       "      <td>0.0</td>\n",
       "      <td>1.0</td>\n",
       "      <td>0.0</td>\n",
       "      <td>...</td>\n",
       "      <td>0.0</td>\n",
       "      <td>0.0</td>\n",
       "      <td>0.0</td>\n",
       "      <td>0.0</td>\n",
       "      <td>0.0</td>\n",
       "      <td>0.0</td>\n",
       "      <td>1.0</td>\n",
       "      <td>0.0</td>\n",
       "      <td>0.0</td>\n",
       "      <td>0.0</td>\n",
       "    </tr>\n",
       "    <tr>\n",
       "      <th>4</th>\n",
       "      <td>50.0</td>\n",
       "      <td>5</td>\n",
       "      <td>0.0</td>\n",
       "      <td>0.0</td>\n",
       "      <td>0.0</td>\n",
       "      <td>0.0</td>\n",
       "      <td>0.0</td>\n",
       "      <td>0.0</td>\n",
       "      <td>0.0</td>\n",
       "      <td>0.0</td>\n",
       "      <td>...</td>\n",
       "      <td>0.0</td>\n",
       "      <td>0.0</td>\n",
       "      <td>0.0</td>\n",
       "      <td>0.0</td>\n",
       "      <td>0.0</td>\n",
       "      <td>0.0</td>\n",
       "      <td>0.0</td>\n",
       "      <td>0.0</td>\n",
       "      <td>1.0</td>\n",
       "      <td>0.0</td>\n",
       "    </tr>\n",
       "    <tr>\n",
       "      <th>...</th>\n",
       "      <td>...</td>\n",
       "      <td>...</td>\n",
       "      <td>...</td>\n",
       "      <td>...</td>\n",
       "      <td>...</td>\n",
       "      <td>...</td>\n",
       "      <td>...</td>\n",
       "      <td>...</td>\n",
       "      <td>...</td>\n",
       "      <td>...</td>\n",
       "      <td>...</td>\n",
       "      <td>...</td>\n",
       "      <td>...</td>\n",
       "      <td>...</td>\n",
       "      <td>...</td>\n",
       "      <td>...</td>\n",
       "      <td>...</td>\n",
       "      <td>...</td>\n",
       "      <td>...</td>\n",
       "      <td>...</td>\n",
       "      <td>...</td>\n",
       "    </tr>\n",
       "    <tr>\n",
       "      <th>1918</th>\n",
       "      <td>100.0</td>\n",
       "      <td>25</td>\n",
       "      <td>0.0</td>\n",
       "      <td>0.0</td>\n",
       "      <td>0.0</td>\n",
       "      <td>0.0</td>\n",
       "      <td>0.0</td>\n",
       "      <td>0.0</td>\n",
       "      <td>1.0</td>\n",
       "      <td>0.0</td>\n",
       "      <td>...</td>\n",
       "      <td>0.0</td>\n",
       "      <td>0.0</td>\n",
       "      <td>0.0</td>\n",
       "      <td>0.0</td>\n",
       "      <td>0.0</td>\n",
       "      <td>0.0</td>\n",
       "      <td>0.0</td>\n",
       "      <td>0.0</td>\n",
       "      <td>1.0</td>\n",
       "      <td>0.0</td>\n",
       "    </tr>\n",
       "    <tr>\n",
       "      <th>1919</th>\n",
       "      <td>30.0</td>\n",
       "      <td>31</td>\n",
       "      <td>0.0</td>\n",
       "      <td>0.0</td>\n",
       "      <td>0.0</td>\n",
       "      <td>0.0</td>\n",
       "      <td>0.0</td>\n",
       "      <td>0.0</td>\n",
       "      <td>0.0</td>\n",
       "      <td>0.0</td>\n",
       "      <td>...</td>\n",
       "      <td>0.0</td>\n",
       "      <td>0.0</td>\n",
       "      <td>0.0</td>\n",
       "      <td>0.0</td>\n",
       "      <td>0.0</td>\n",
       "      <td>0.0</td>\n",
       "      <td>0.0</td>\n",
       "      <td>0.0</td>\n",
       "      <td>1.0</td>\n",
       "      <td>0.0</td>\n",
       "    </tr>\n",
       "    <tr>\n",
       "      <th>1920</th>\n",
       "      <td>20.0</td>\n",
       "      <td>14</td>\n",
       "      <td>0.0</td>\n",
       "      <td>0.0</td>\n",
       "      <td>0.0</td>\n",
       "      <td>0.0</td>\n",
       "      <td>0.0</td>\n",
       "      <td>0.0</td>\n",
       "      <td>1.0</td>\n",
       "      <td>0.0</td>\n",
       "      <td>...</td>\n",
       "      <td>0.0</td>\n",
       "      <td>0.0</td>\n",
       "      <td>0.0</td>\n",
       "      <td>0.0</td>\n",
       "      <td>0.0</td>\n",
       "      <td>0.0</td>\n",
       "      <td>0.0</td>\n",
       "      <td>1.0</td>\n",
       "      <td>1.0</td>\n",
       "      <td>0.0</td>\n",
       "    </tr>\n",
       "    <tr>\n",
       "      <th>1921</th>\n",
       "      <td>25.0</td>\n",
       "      <td>28</td>\n",
       "      <td>0.0</td>\n",
       "      <td>0.0</td>\n",
       "      <td>0.0</td>\n",
       "      <td>0.0</td>\n",
       "      <td>0.0</td>\n",
       "      <td>0.0</td>\n",
       "      <td>1.0</td>\n",
       "      <td>0.0</td>\n",
       "      <td>...</td>\n",
       "      <td>0.0</td>\n",
       "      <td>0.0</td>\n",
       "      <td>0.0</td>\n",
       "      <td>0.0</td>\n",
       "      <td>0.0</td>\n",
       "      <td>0.0</td>\n",
       "      <td>0.0</td>\n",
       "      <td>1.0</td>\n",
       "      <td>1.0</td>\n",
       "      <td>0.0</td>\n",
       "    </tr>\n",
       "    <tr>\n",
       "      <th>1922</th>\n",
       "      <td>5000.0</td>\n",
       "      <td>19</td>\n",
       "      <td>0.0</td>\n",
       "      <td>0.0</td>\n",
       "      <td>0.0</td>\n",
       "      <td>0.0</td>\n",
       "      <td>0.0</td>\n",
       "      <td>0.0</td>\n",
       "      <td>0.0</td>\n",
       "      <td>0.0</td>\n",
       "      <td>...</td>\n",
       "      <td>0.0</td>\n",
       "      <td>0.0</td>\n",
       "      <td>0.0</td>\n",
       "      <td>0.0</td>\n",
       "      <td>0.0</td>\n",
       "      <td>0.0</td>\n",
       "      <td>0.0</td>\n",
       "      <td>0.0</td>\n",
       "      <td>1.0</td>\n",
       "      <td>0.0</td>\n",
       "    </tr>\n",
       "  </tbody>\n",
       "</table>\n",
       "<p>1923 rows × 64 columns</p>\n",
       "</div>"
      ],
      "text/plain": [
       "      Contribution_Amount  days_before  Occupation_CEO  Occupation_Consultant  \\\n",
       "0                    50.0           15             0.0                    0.0   \n",
       "1                    50.0           21             0.0                    0.0   \n",
       "2                     4.5           45             0.0                    0.0   \n",
       "3                 25000.0           11             0.0                    0.0   \n",
       "4                    50.0            5             0.0                    0.0   \n",
       "...                   ...          ...             ...                    ...   \n",
       "1918                100.0           25             0.0                    0.0   \n",
       "1919                 30.0           31             0.0                    0.0   \n",
       "1920                 20.0           14             0.0                    0.0   \n",
       "1921                 25.0           28             0.0                    0.0   \n",
       "1922               5000.0           19             0.0                    0.0   \n",
       "\n",
       "      Occupation_Engineer  Occupation_Lawyer  Occupation_Manager  \\\n",
       "0                     0.0                1.0                 0.0   \n",
       "1                     0.0                0.0                 0.0   \n",
       "2                     0.0                0.0                 0.0   \n",
       "3                     0.0                0.0                 0.0   \n",
       "4                     0.0                0.0                 0.0   \n",
       "...                   ...                ...                 ...   \n",
       "1918                  0.0                0.0                 0.0   \n",
       "1919                  0.0                0.0                 0.0   \n",
       "1920                  0.0                0.0                 0.0   \n",
       "1921                  0.0                0.0                 0.0   \n",
       "1922                  0.0                0.0                 0.0   \n",
       "\n",
       "      Occupation_Not Employed  Occupation_Other  Occupation_Owner  ...  \\\n",
       "0                         0.0               0.0               0.0  ...   \n",
       "1                         1.0               0.0               0.0  ...   \n",
       "2                         0.0               1.0               0.0  ...   \n",
       "3                         0.0               1.0               0.0  ...   \n",
       "4                         0.0               0.0               0.0  ...   \n",
       "...                       ...               ...               ...  ...   \n",
       "1918                      0.0               1.0               0.0  ...   \n",
       "1919                      0.0               0.0               0.0  ...   \n",
       "1920                      0.0               1.0               0.0  ...   \n",
       "1921                      0.0               1.0               0.0  ...   \n",
       "1922                      0.0               0.0               0.0  ...   \n",
       "\n",
       "      Zip_78749  Zip_78750  Zip_78751  Zip_78757  Zip_78758  Zip_78759  \\\n",
       "0           0.0        0.0        0.0        0.0        0.0        0.0   \n",
       "1           0.0        0.0        0.0        0.0        0.0        0.0   \n",
       "2           0.0        0.0        0.0        0.0        0.0        0.0   \n",
       "3           0.0        0.0        0.0        0.0        0.0        0.0   \n",
       "4           0.0        0.0        0.0        0.0        0.0        0.0   \n",
       "...         ...        ...        ...        ...        ...        ...   \n",
       "1918        0.0        0.0        0.0        0.0        0.0        0.0   \n",
       "1919        0.0        0.0        0.0        0.0        0.0        0.0   \n",
       "1920        0.0        0.0        0.0        0.0        0.0        0.0   \n",
       "1921        0.0        0.0        0.0        0.0        0.0        0.0   \n",
       "1922        0.0        0.0        0.0        0.0        0.0        0.0   \n",
       "\n",
       "      Zip_OOA  Zip_Rare  in_city_True  is_apt_True  \n",
       "0         0.0       1.0           1.0          1.0  \n",
       "1         0.0       1.0           1.0          0.0  \n",
       "2         1.0       0.0           0.0          0.0  \n",
       "3         1.0       0.0           0.0          0.0  \n",
       "4         0.0       0.0           1.0          0.0  \n",
       "...       ...       ...           ...          ...  \n",
       "1918      0.0       0.0           1.0          0.0  \n",
       "1919      0.0       0.0           1.0          0.0  \n",
       "1920      0.0       1.0           1.0          0.0  \n",
       "1921      0.0       1.0           1.0          0.0  \n",
       "1922      0.0       0.0           1.0          0.0  \n",
       "\n",
       "[1923 rows x 64 columns]"
      ]
     },
     "execution_count": 128,
     "metadata": {},
     "output_type": "execute_result"
    }
   ],
   "source": [
    "df_processed"
   ]
  },
  {
   "cell_type": "code",
   "execution_count": 129,
   "metadata": {
    "ExecuteTime": {
     "end_time": "2021-06-04T19:24:41.287634Z",
     "start_time": "2021-06-04T19:24:41.243639Z"
    }
   },
   "outputs": [],
   "source": [
    "from sklearn.linear_model import LogisticRegression\n",
    "from sklearn import metrics "
   ]
  },
  {
   "cell_type": "markdown",
   "metadata": {},
   "source": [
    "GH gist"
   ]
  },
  {
   "cell_type": "code",
   "execution_count": 149,
   "metadata": {
    "ExecuteTime": {
     "end_time": "2021-06-05T01:14:45.408792Z",
     "start_time": "2021-06-05T01:14:45.087738Z"
    }
   },
   "outputs": [
    {
     "data": {
      "text/plain": [
       "LogisticRegression(C=1000000000000.0, max_iter=1000, random_state=42)"
      ]
     },
     "execution_count": 149,
     "metadata": {},
     "output_type": "execute_result"
    }
   ],
   "source": [
    "# Import LogisticRegression\n",
    "from sklearn.linear_model import LogisticRegression\n",
    "\n",
    "# Instantiate LogisticRegression model and fit to training data\n",
    "log_reg = LogisticRegression(C=1e12, max_iter=1000, random_state=42)\n",
    "log_reg.fit(X_train_ohe,y_train)\n",
    "\n",
    "# Check accuracy\n",
    "log_reg.score(X_train_ohe,y_train)"
   ]
  },
  {
   "cell_type": "code",
   "execution_count": 148,
   "metadata": {
    "ExecuteTime": {
     "end_time": "2021-06-05T01:14:34.850206Z",
     "start_time": "2021-06-05T01:14:34.835325Z"
    }
   },
   "outputs": [
    {
     "data": {
      "text/plain": [
       "0.8387935517420697"
      ]
     },
     "execution_count": 148,
     "metadata": {},
     "output_type": "execute_result"
    }
   ],
   "source": [
    "log_reg.score(X_train_ohe,y_train)"
   ]
  },
  {
   "cell_type": "code",
   "execution_count": 132,
   "metadata": {
    "ExecuteTime": {
     "end_time": "2021-06-04T19:24:41.402788Z",
     "start_time": "2021-06-04T19:24:41.399434Z"
    }
   },
   "outputs": [],
   "source": [
    "coeff_series = pd.Series(log_reg.coef_.flatten(), index=df_processed.columns).sort_values(ascending=False)#nlargest(columns=0,n=20)"
   ]
  },
  {
   "cell_type": "code",
   "execution_count": 133,
   "metadata": {
    "ExecuteTime": {
     "end_time": "2021-06-04T19:24:42.058328Z",
     "start_time": "2021-06-04T19:24:41.404256Z"
    }
   },
   "outputs": [
    {
     "data": {
      "text/plain": [
       "<matplotlib.lines.Line2D at 0x7f94fa909ca0>"
      ]
     },
     "execution_count": 133,
     "metadata": {},
     "output_type": "execute_result"
    },
    {
     "data": {
      "image/png": "[encoded data removed]",
      "text/plain": [
       "<Figure size 288x864 with 1 Axes>"
      ]
     },
     "metadata": {
      "needs_background": "light"
     },
     "output_type": "display_data"
    }
   ],
   "source": [
    "ax = coeff_series.plot(kind='barh', figsize=(4,12))\n",
    "ax.axvline()\n",
    "# absolute value top 20"
   ]
  },
  {
   "cell_type": "code",
   "execution_count": 134,
   "metadata": {
    "ExecuteTime": {
     "end_time": "2021-06-04T19:24:42.060610Z",
     "start_time": "2021-06-04T19:24:42.059238Z"
    }
   },
   "outputs": [],
   "source": [
    "# For regularization data needs to be scaled"
   ]
  },
  {
   "cell_type": "code",
   "execution_count": null,
   "metadata": {},
   "outputs": [],
   "source": []
  }
 ],
 "metadata": {
  "kernelspec": {
   "display_name": "learn-env",
   "language": "python",
   "name": "learn-env"
  },
  "language_info": {
   "codemirror_mode": {
    "name": "ipython",
    "version": 3
   },
   "file_extension": ".py",
   "mimetype": "text/x-python",
   "name": "python",
   "nbconvert_exporter": "python",
   "pygments_lexer": "ipython3",
   "version": "3.8.5"
  },
  "toc": {
   "base_numbering": 1,
   "nav_menu": {},
   "number_sections": true,
   "sideBar": true,
   "skip_h1_title": false,
   "title_cell": "Table of Contents",
   "title_sidebar": "Contents",
   "toc_cell": false,
   "toc_position": {},
   "toc_section_display": true,
   "toc_window_display": false
  }
 },
 "nbformat": 4,
 "nbformat_minor": 4
}
